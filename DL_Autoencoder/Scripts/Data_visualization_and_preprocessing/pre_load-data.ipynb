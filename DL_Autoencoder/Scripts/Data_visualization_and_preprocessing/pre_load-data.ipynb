{
 "cells": [
  {
   "cell_type": "code",
   "execution_count": 2,
   "metadata": {},
   "outputs": [
    {
     "name": "stdout",
     "output_type": "stream",
     "text": [
      "      deceptive             hotel  polarity       source  \\\n",
      "0      truthful            conrad  positive  TripAdvisor   \n",
      "1      truthful             hyatt  positive  TripAdvisor   \n",
      "2      truthful             hyatt  positive  TripAdvisor   \n",
      "3      truthful              omni  positive  TripAdvisor   \n",
      "4      truthful             hyatt  positive  TripAdvisor   \n",
      "...         ...               ...       ...          ...   \n",
      "1595  deceptive  intercontinental  negative        MTurk   \n",
      "1596  deceptive            amalfi  negative        MTurk   \n",
      "1597  deceptive  intercontinental  negative        MTurk   \n",
      "1598  deceptive            palmer  negative        MTurk   \n",
      "1599  deceptive            amalfi  negative        MTurk   \n",
      "\n",
      "                                                   text  \n",
      "0     We stayed for a one night getaway with family ...  \n",
      "1     Triple A rate with upgrade to view room was le...  \n",
      "2     This comes a little late as I'm finally catchi...  \n",
      "3     The Omni Chicago really delivers on all fronts...  \n",
      "4     I asked for a high floor away from the elevato...  \n",
      "...                                                 ...  \n",
      "1595  Problems started when I booked the InterContin...  \n",
      "1596  The Amalfi Hotel has a beautiful website and i...  \n",
      "1597  The Intercontinental Chicago Magnificent Mile ...  \n",
      "1598  The Palmer House Hilton, while it looks good i...  \n",
      "1599  As a former Chicagoan, I'm appalled at the Ama...  \n",
      "\n",
      "[1600 rows x 5 columns]\n"
     ]
    }
   ],
   "source": [
    "## Load data from a csv file, pre-process the content of it and then generate the training and test dataset\n",
    "## Cargar datos desde un fichero csv, preprocesar sus contenidos y generar el dataset de entreno y testing\n",
    "import pandas as pd\n",
    "from pandas import DataFrame\n",
    "\n",
    "df = pd.read_csv('../../Deceptive_Opinion_Spam_Corpus_Datasets/deceptive-opinion.csv')\n",
    "\n",
    "print(df)"
   ]
  },
  {
   "cell_type": "code",
   "execution_count": 35,
   "metadata": {},
   "outputs": [
    {
     "data": {
      "text/html": [
       "<div>\n",
       "<style scoped>\n",
       "    .dataframe tbody tr th:only-of-type {\n",
       "        vertical-align: middle;\n",
       "    }\n",
       "\n",
       "    .dataframe tbody tr th {\n",
       "        vertical-align: top;\n",
       "    }\n",
       "\n",
       "    .dataframe thead th {\n",
       "        text-align: right;\n",
       "    }\n",
       "</style>\n",
       "<table border=\"1\" class=\"dataframe\">\n",
       "  <thead>\n",
       "    <tr style=\"text-align: right;\">\n",
       "      <th></th>\n",
       "      <th>deceptive</th>\n",
       "      <th>hotel</th>\n",
       "      <th>polarity</th>\n",
       "      <th>source</th>\n",
       "      <th>text</th>\n",
       "    </tr>\n",
       "  </thead>\n",
       "  <tbody>\n",
       "    <tr>\n",
       "      <th>0</th>\n",
       "      <td>truthful</td>\n",
       "      <td>conrad</td>\n",
       "      <td>positive</td>\n",
       "      <td>TripAdvisor</td>\n",
       "      <td>We stayed for a one night getaway with family ...</td>\n",
       "    </tr>\n",
       "    <tr>\n",
       "      <th>1</th>\n",
       "      <td>truthful</td>\n",
       "      <td>hyatt</td>\n",
       "      <td>positive</td>\n",
       "      <td>TripAdvisor</td>\n",
       "      <td>Triple A rate with upgrade to view room was le...</td>\n",
       "    </tr>\n",
       "    <tr>\n",
       "      <th>2</th>\n",
       "      <td>truthful</td>\n",
       "      <td>hyatt</td>\n",
       "      <td>positive</td>\n",
       "      <td>TripAdvisor</td>\n",
       "      <td>This comes a little late as I'm finally catchi...</td>\n",
       "    </tr>\n",
       "    <tr>\n",
       "      <th>3</th>\n",
       "      <td>truthful</td>\n",
       "      <td>omni</td>\n",
       "      <td>positive</td>\n",
       "      <td>TripAdvisor</td>\n",
       "      <td>The Omni Chicago really delivers on all fronts...</td>\n",
       "    </tr>\n",
       "    <tr>\n",
       "      <th>4</th>\n",
       "      <td>truthful</td>\n",
       "      <td>hyatt</td>\n",
       "      <td>positive</td>\n",
       "      <td>TripAdvisor</td>\n",
       "      <td>I asked for a high floor away from the elevato...</td>\n",
       "    </tr>\n",
       "  </tbody>\n",
       "</table>\n",
       "</div>"
      ],
      "text/plain": [
       "  deceptive   hotel  polarity       source  \\\n",
       "0  truthful  conrad  positive  TripAdvisor   \n",
       "1  truthful   hyatt  positive  TripAdvisor   \n",
       "2  truthful   hyatt  positive  TripAdvisor   \n",
       "3  truthful    omni  positive  TripAdvisor   \n",
       "4  truthful   hyatt  positive  TripAdvisor   \n",
       "\n",
       "                                                text  \n",
       "0  We stayed for a one night getaway with family ...  \n",
       "1  Triple A rate with upgrade to view room was le...  \n",
       "2  This comes a little late as I'm finally catchi...  \n",
       "3  The Omni Chicago really delivers on all fronts...  \n",
       "4  I asked for a high floor away from the elevato...  "
      ]
     },
     "execution_count": 35,
     "metadata": {},
     "output_type": "execute_result"
    }
   ],
   "source": [
    "df.head(5)"
   ]
  },
  {
   "cell_type": "code",
   "execution_count": 36,
   "metadata": {},
   "outputs": [
    {
     "data": {
      "text/html": [
       "<div>\n",
       "<style scoped>\n",
       "    .dataframe tbody tr th:only-of-type {\n",
       "        vertical-align: middle;\n",
       "    }\n",
       "\n",
       "    .dataframe tbody tr th {\n",
       "        vertical-align: top;\n",
       "    }\n",
       "\n",
       "    .dataframe thead th {\n",
       "        text-align: right;\n",
       "    }\n",
       "</style>\n",
       "<table border=\"1\" class=\"dataframe\">\n",
       "  <thead>\n",
       "    <tr style=\"text-align: right;\">\n",
       "      <th></th>\n",
       "      <th>deceptive</th>\n",
       "      <th>hotel</th>\n",
       "      <th>polarity</th>\n",
       "      <th>source</th>\n",
       "      <th>text</th>\n",
       "    </tr>\n",
       "  </thead>\n",
       "  <tbody>\n",
       "    <tr>\n",
       "      <th>803</th>\n",
       "      <td>truthful</td>\n",
       "      <td>omni</td>\n",
       "      <td>negative</td>\n",
       "      <td>Web</td>\n",
       "      <td>My daughter and I woke in the morning wanting ...</td>\n",
       "    </tr>\n",
       "    <tr>\n",
       "      <th>847</th>\n",
       "      <td>truthful</td>\n",
       "      <td>omni</td>\n",
       "      <td>negative</td>\n",
       "      <td>Web</td>\n",
       "      <td>The Omni was chosen for it's location whichwor...</td>\n",
       "    </tr>\n",
       "    <tr>\n",
       "      <th>853</th>\n",
       "      <td>truthful</td>\n",
       "      <td>omni</td>\n",
       "      <td>negative</td>\n",
       "      <td>Web</td>\n",
       "      <td>My daughter and I woke in the morning wanting ...</td>\n",
       "    </tr>\n",
       "    <tr>\n",
       "      <th>862</th>\n",
       "      <td>truthful</td>\n",
       "      <td>omni</td>\n",
       "      <td>negative</td>\n",
       "      <td>Web</td>\n",
       "      <td>The Omni was chosen for it's location whichwor...</td>\n",
       "    </tr>\n",
       "    <tr>\n",
       "      <th>995</th>\n",
       "      <td>truthful</td>\n",
       "      <td>affinia</td>\n",
       "      <td>negative</td>\n",
       "      <td>Web</td>\n",
       "      <td>I'd been searching for a cool, non-chain hotel...</td>\n",
       "    </tr>\n",
       "    <tr>\n",
       "      <th>1014</th>\n",
       "      <td>truthful</td>\n",
       "      <td>affinia</td>\n",
       "      <td>negative</td>\n",
       "      <td>Web</td>\n",
       "      <td>I'd been searching for a cool, non-chain hotel...</td>\n",
       "    </tr>\n",
       "    <tr>\n",
       "      <th>1085</th>\n",
       "      <td>truthful</td>\n",
       "      <td>monaco</td>\n",
       "      <td>negative</td>\n",
       "      <td>Web</td>\n",
       "      <td>Very disappointed in our stay in Chicago Monoc...</td>\n",
       "    </tr>\n",
       "    <tr>\n",
       "      <th>1109</th>\n",
       "      <td>truthful</td>\n",
       "      <td>monaco</td>\n",
       "      <td>negative</td>\n",
       "      <td>Web</td>\n",
       "      <td>Very disappointed in our stay in Chicago Monoc...</td>\n",
       "    </tr>\n",
       "  </tbody>\n",
       "</table>\n",
       "</div>"
      ],
      "text/plain": [
       "     deceptive    hotel  polarity source  \\\n",
       "803   truthful     omni  negative    Web   \n",
       "847   truthful     omni  negative    Web   \n",
       "853   truthful     omni  negative    Web   \n",
       "862   truthful     omni  negative    Web   \n",
       "995   truthful  affinia  negative    Web   \n",
       "1014  truthful  affinia  negative    Web   \n",
       "1085  truthful   monaco  negative    Web   \n",
       "1109  truthful   monaco  negative    Web   \n",
       "\n",
       "                                                   text  \n",
       "803   My daughter and I woke in the morning wanting ...  \n",
       "847   The Omni was chosen for it's location whichwor...  \n",
       "853   My daughter and I woke in the morning wanting ...  \n",
       "862   The Omni was chosen for it's location whichwor...  \n",
       "995   I'd been searching for a cool, non-chain hotel...  \n",
       "1014  I'd been searching for a cool, non-chain hotel...  \n",
       "1085  Very disappointed in our stay in Chicago Monoc...  \n",
       "1109  Very disappointed in our stay in Chicago Monoc...  "
      ]
     },
     "execution_count": 36,
     "metadata": {},
     "output_type": "execute_result"
    }
   ],
   "source": [
    "## Replace missing values & eliminate duplicated values/etc.\n",
    "## Sustituir valores nulos/missing y eliminar valores duplicados \n",
    "## 1.Data Cleaning: missing data, noisy data\n",
    "missing_values = [\"n/a\", \"na\", \"--\"]\n",
    "df.isnull().values.any()\n",
    "df.isnull().sum() ## No hay valores de tipo missing\n",
    "df[df.duplicated(keep=False)] ## 803-853, 847-862,  995-1014, 1085-1109\n",
    "#df = df.drop_duplicates() ## Hay cuatro duplicados en el dataset\n",
    "## Eliminar datos que no nos interesan para nuestro entrenamiento\n",
    "## df = df.drop(df.columns[[1, 2, 3]], axis = 1)\n",
    "\n",
    "\n",
    "#df.iloc[803] == df.iloc[853]\n",
    "#df.iloc[803].equals(df.iloc[853])"
   ]
  },
  {
   "cell_type": "code",
   "execution_count": 37,
   "metadata": {},
   "outputs": [
    {
     "data": {
      "text/html": [
       "<div>\n",
       "<style scoped>\n",
       "    .dataframe tbody tr th:only-of-type {\n",
       "        vertical-align: middle;\n",
       "    }\n",
       "\n",
       "    .dataframe tbody tr th {\n",
       "        vertical-align: top;\n",
       "    }\n",
       "\n",
       "    .dataframe thead th {\n",
       "        text-align: right;\n",
       "    }\n",
       "</style>\n",
       "<table border=\"1\" class=\"dataframe\">\n",
       "  <thead>\n",
       "    <tr style=\"text-align: right;\">\n",
       "      <th></th>\n",
       "      <th>deceptive</th>\n",
       "      <th>text</th>\n",
       "    </tr>\n",
       "  </thead>\n",
       "  <tbody>\n",
       "    <tr>\n",
       "      <th>0</th>\n",
       "      <td>truthful</td>\n",
       "      <td>We stayed for a one night getaway with family ...</td>\n",
       "    </tr>\n",
       "    <tr>\n",
       "      <th>1</th>\n",
       "      <td>truthful</td>\n",
       "      <td>Triple A rate with upgrade to view room was le...</td>\n",
       "    </tr>\n",
       "    <tr>\n",
       "      <th>2</th>\n",
       "      <td>truthful</td>\n",
       "      <td>This comes a little late as I'm finally catchi...</td>\n",
       "    </tr>\n",
       "    <tr>\n",
       "      <th>3</th>\n",
       "      <td>truthful</td>\n",
       "      <td>The Omni Chicago really delivers on all fronts...</td>\n",
       "    </tr>\n",
       "    <tr>\n",
       "      <th>4</th>\n",
       "      <td>truthful</td>\n",
       "      <td>I asked for a high floor away from the elevato...</td>\n",
       "    </tr>\n",
       "  </tbody>\n",
       "</table>\n",
       "</div>"
      ],
      "text/plain": [
       "  deceptive                                               text\n",
       "0  truthful  We stayed for a one night getaway with family ...\n",
       "1  truthful  Triple A rate with upgrade to view room was le...\n",
       "2  truthful  This comes a little late as I'm finally catchi...\n",
       "3  truthful  The Omni Chicago really delivers on all fronts...\n",
       "4  truthful  I asked for a high floor away from the elevato..."
      ]
     },
     "execution_count": 37,
     "metadata": {},
     "output_type": "execute_result"
    }
   ],
   "source": [
    "## 2.Data transformation: normalization, attribute selection, discretization, hierarchy generation\n",
    "\n",
    "## Normalizacion de los datos dentro de un cierto intervalo: no es necesario al no tener campos con valores continuos\n",
    "## Seleccionamos solo aquellas caracteristicas que nos interesen\n",
    "## Eliminate columns -- 1-3 as they won't contribute to the model\n",
    "## Eliminar columnas del 1 al 3 ya que no aportan informacion adiccional al modelo\n",
    "\n",
    "df = df.drop(df.columns[[1, 2, 3]], axis = 1)\n",
    "df.head(5)\n"
   ]
  },
  {
   "cell_type": "code",
   "execution_count": 38,
   "metadata": {},
   "outputs": [
    {
     "name": "stdout",
     "output_type": "stream",
     "text": [
      "800\n",
      "800\n"
     ]
    }
   ],
   "source": [
    "## The deceptive and truthful registers are balanced: 800 - 800\n",
    "## La clase deceptive esta balaneceada, tiene 800 registros deceptive y 800 registros truthful\n",
    "print(len(df[df['deceptive'] == 'truthful']))\n",
    "print(len(df[df['deceptive'] == 'deceptive']))"
   ]
  },
  {
   "cell_type": "code",
   "execution_count": 39,
   "metadata": {},
   "outputs": [],
   "source": [
    "## 3.Data Reduction: Data Cube aggregation, attribute subset selection, numerosity reduction, dimensionality reduction\n",
    "\n",
    "## Esta parte nos interesaria para modificar y convertir las opiniones de texto a un vectores de pesos(int) "
   ]
  },
  {
   "cell_type": "code",
   "execution_count": 40,
   "metadata": {},
   "outputs": [
    {
     "data": {
      "text/plain": [
       "\"The Hard Rock Hotel Chicago has become my favorite hotel. I've stayed there at least 5 times now and have never had anything other than a wonderful experience. As you might have guessed - it has a super Rock & Roll theme, with some music paraphanelia in the lobby and on each floor's elevator lobby. The rooms all have large photo murals that are themed to different musicians. You can request being on the floor of your favorite band (like KISS, Aerosmith, etc...) The rooms are GREAT. Well appointed. SUPER Comfortable beds and luxurious sheets and wonderous pillows. The large TV has a cool sound system that ramps up the viewing experience. There's a spacious desk in each room with a mini bar. I've always had a room with big windows and a view down Michigan Ave (the hotel sits right on Michigan - a block from the canal). The bathrooms are furnished with absolutely great fixtures sporting a great design... some of the showers have windows in side of them (you can shower AND enjoy the view down Michigan!) or close the waterproof drapes. I've never had anything but a great experience with the staff here... front desk, doorman, etc are all great. There's a lobby bar that still feels intimate and has nice energy. Big screen TV to catch the latest scores, too. Of course, Rock & Roll music pumps thru the place. You can stay at a 'plain' hotel anywhere... but this is a GREAT, WELL DESIGNED, FUN and MEMORABLE HOTEL that you'll want to return back to. If I had one concern - it would be the rather crazy charge for parking your car overnight. My daily car parking rate was close to $50 per night, which I'm sorry to say is about the going rate in the loop. Stay here. Be cool. \\n\""
      ]
     },
     "execution_count": 40,
     "metadata": {},
     "output_type": "execute_result"
    }
   ],
   "source": [
    "df['text'][239]"
   ]
  },
  {
   "cell_type": "code",
   "execution_count": 41,
   "metadata": {},
   "outputs": [],
   "source": [
    "#new_row = {'deceptive': 'truthful', 'text': 'This game action takes place in the medieval era where knights and kings fought along!'}\n",
    "#df = df.append(new_row, ignore_index=True)\n",
    "#df2 = pd.DataFrame([\"truthful\", \"We liked this hotel a lot we thoroughly recommend it\"], columns=[\"deceptive\", \"text\"], index=[1600])\n",
    "#df = df.append(df2)"
   ]
  },
  {
   "cell_type": "markdown",
   "metadata": {},
   "source": [
    "## Limpiar texto"
   ]
  },
  {
   "cell_type": "code",
   "execution_count": 42,
   "metadata": {},
   "outputs": [
    {
     "data": {
      "text/plain": [
       "[('the', 12772),\n",
       " ('and', 7735),\n",
       " ('to', 6671),\n",
       " ('a', 6312),\n",
       " ('I', 5941),\n",
       " ('was', 5777),\n",
       " ('in', 3587)]"
      ]
     },
     "execution_count": 42,
     "metadata": {},
     "output_type": "execute_result"
    }
   ],
   "source": [
    "from collections import Counter\n",
    "Counter(\" \".join(df[\"text\"]).split()).most_common(7)"
   ]
  },
  {
   "cell_type": "code",
   "execution_count": 55,
   "metadata": {},
   "outputs": [],
   "source": [
    "from collections import Counter\n",
    "from gensim.parsing.preprocessing import strip_multiple_whitespaces\n",
    "\n",
    "for x in Counter(\" \".join(df[\"text\"]).split()).most_common(7):\n",
    "    df['text'] = df['text'].str.replace(x[0], '')"
   ]
  },
  {
   "cell_type": "code",
   "execution_count": 56,
   "metadata": {},
   "outputs": [],
   "source": [
    "for x in Counter(\" \".join(df[\"text\"]).split()).most_common(100):\n",
    "    if len(x[0]) > 4:\n",
    "        df['text'] = df['text'].str.replace(x[0], '')\n"
   ]
  },
  {
   "cell_type": "code",
   "execution_count": 122,
   "metadata": {},
   "outputs": [],
   "source": [
    "## Otra forma de preprocesar los datos\n",
    "import nltk\n",
    "from nltk.tokenize import sent_tokenize, word_tokenize\n",
    "import re\n",
    "import string\n",
    "from nltk.stem.porter import *\n",
    "\n",
    "def text_cleaning(text):\n",
    "    text = text.lower()\n",
    "    text = re.sub('\\[.*?\\]', '', text)\n",
    "    text = re.sub(\"\\\\W\",\" \",text) # remove special chars\n",
    "    text = re.sub('https?://\\S+|www\\.\\S+', '', text)\n",
    "    text = re.sub('<.*?>+', '', text)\n",
    "    text = re.sub('[%s]' % re.escape(string.punctuation), '', text)\n",
    "    text = re.sub('\\n', '', text)\n",
    "    text = re.sub('\\w*\\d\\w*', '', text)\n",
    "    stemmer = PorterStemmer()\n",
    "    text_split =[stemmer.stem(ch) for ch in text.split()]\n",
    "    text = ' '.join(text_split)\n",
    "    return text\n",
    "\n",
    "df['text']=df['text'].apply(text_cleaning)"
   ]
  },
  {
   "cell_type": "code",
   "execution_count": 43,
   "metadata": {},
   "outputs": [],
   "source": [
    "## Limpiar texto, opinion del usuario para luego poder convertir la secuencia a vector\n",
    "\n",
    "from gensim import utils\n",
    "import gensim.parsing.preprocessing as gsp\n",
    "\n",
    "filters = [\n",
    "           gsp.strip_tags, \n",
    "           gsp.strip_punctuation, \n",
    "           gsp.strip_multiple_whitespaces, \n",
    "           gsp.strip_numeric, \n",
    "           gsp.strip_short,\n",
    "           gsp.remove_stopwords, \n",
    "           gsp.stem_text\n",
    "          ]\n",
    "\n",
    "def clean_text(s):\n",
    "    s = s.lower()\n",
    "    s = utils.to_unicode(s)\n",
    "    for f in filters:\n",
    "        s = f(s)\n",
    "    return s\n",
    "\n",
    "df['text'] = df['text'].apply(clean_text)"
   ]
  },
  {
   "cell_type": "code",
   "execution_count": 44,
   "metadata": {},
   "outputs": [],
   "source": [
    "## Es posible que no sea necesario quitar los stopwords porque convirtiria: I will not be returning(negativo). en --> return(positivo)"
   ]
  },
  {
   "cell_type": "code",
   "execution_count": 45,
   "metadata": {},
   "outputs": [
    {
     "data": {
      "text/plain": [
       "'hard rock hotel chicago favorit hotel stai time wonder experi guess super rock roll theme music paraphanelia lobbi floor elev lobbi room larg photo mural theme differ musician request floor favorit band like kiss aerosmith room great appoint super comfort bed luxuri sheet wonder pillow larg cool sound ramp view experi spaciou desk room mini bar room big window view michigan av hotel sit right michigan block canal bathroom furnish absolut great fixtur sport great design shower window shower enjoi view michigan close waterproof drape great experi staff desk doorman great lobbi bar feel intim nice energi big screen catch latest score cours rock roll music pump place stai plain hotel great design fun memor hotel want return concern crazi charg park car overnight daili car park rate close night sorri go rate loop stai cool'"
      ]
     },
     "execution_count": 45,
     "metadata": {},
     "output_type": "execute_result"
    }
   ],
   "source": [
    "df['text'][239]"
   ]
  },
  {
   "cell_type": "code",
   "execution_count": 11,
   "metadata": {},
   "outputs": [],
   "source": [
    "## Training - testing split for classifier\n",
    "pos_testing_split = 0.90 ## truthful + deceptive, los deceptive entre 5-10% de esta suma.\n",
    "neg_deceptive_split = 0.10\n",
    "\n",
    "deceptive_training_pos = df[df.deceptive == 'truthful'].sample(frac = 0.75)\n",
    "deceptive_training_neg = df[df.deceptive == 'deceptive'].sample(frac = 0.75)\n",
    "\n",
    "frames = [deceptive_training_pos, deceptive_training_neg]\n",
    "deceptive_training = pd.concat(frames)\n",
    "deceptive_training = deceptive_training.sample(frac = 1)\n",
    "\n",
    "newdf = df.drop(deceptive_training.index.values)\n",
    "\n",
    "deceptive_testing_pos = newdf[newdf.deceptive == 'truthful'].sample(frac = pos_testing_split)\n",
    "deceptive_testing_neg = newdf[newdf.deceptive == 'deceptive'].sample(frac = neg_deceptive_split)\n",
    "\n",
    "frames = [deceptive_testing_pos, deceptive_testing_neg]\n",
    "deceptive_testing = pd.concat(frames)\n",
    "deceptive_testing = deceptive_testing.sample(frac = 1)\n"
   ]
  },
  {
   "cell_type": "code",
   "execution_count": 46,
   "metadata": {},
   "outputs": [],
   "source": [
    "## Generate training and testing dataset\n",
    "training_split = 0.75\n",
    "testing_split = 0.25\n",
    "pos_testing_split = 0.95 ## truthful + deceptive, los deceptive entre 5-10% de esta suma.\n",
    "neg_deceptive_split = 0.05\n",
    "\n",
    "deceptive_training = df[df.deceptive == 'truthful'].sample(frac = training_split)\n",
    "newdf = df.drop(deceptive_training.index.values)\n",
    "pos_deceptive_testing = newdf[newdf.deceptive == 'truthful'].sample(frac = pos_testing_split)\n",
    "neg_deceptive_testing = newdf[newdf.deceptive == 'deceptive'].sample(int(neg_deceptive_split * (testing_split * len(df[df.deceptive == 'truthful']))))\n",
    "\n",
    "frames = [pos_deceptive_testing, neg_deceptive_testing]\n",
    "deceptive_testing = pd.concat(frames)\n",
    "deceptive_testing = deceptive_testing.sample(frac = 1)"
   ]
  },
  {
   "cell_type": "code",
   "execution_count": null,
   "metadata": {},
   "outputs": [],
   "source": [
    "## Probar con todo el dataset, entrenar datos positivos y testing con datos balanceados 50-50 sinceros/fraudulentos\n",
    "\n",
    "deceptive_training = df[df.deceptive == 'truthful'].sample(frac = 0.75)\n",
    "#deceptive_training_neg = df[df.deceptive == 'deceptive'].sample(frac = 0.75)\n",
    "\n",
    "newdf = df.drop(deceptive_training.index.values)\n",
    "\n",
    "deceptive_testing_pos = newdf[newdf.deceptive == 'truthful'].sample(frac = 0.5)\n",
    "deceptive_testing_neg = df[df.deceptive == 'deceptive'].sample(frac = 0.125)\n",
    "\n",
    "frames = [deceptive_testing_pos, deceptive_testing_neg]\n",
    "deceptive_testing = pd.concat(frames)\n",
    "deceptive_testing = deceptive_testing.sample(frac = 1)\n"
   ]
  },
  {
   "cell_type": "code",
   "execution_count": 47,
   "metadata": {},
   "outputs": [
    {
     "data": {
      "text/html": [
       "<div>\n",
       "<style scoped>\n",
       "    .dataframe tbody tr th:only-of-type {\n",
       "        vertical-align: middle;\n",
       "    }\n",
       "\n",
       "    .dataframe tbody tr th {\n",
       "        vertical-align: top;\n",
       "    }\n",
       "\n",
       "    .dataframe thead th {\n",
       "        text-align: right;\n",
       "    }\n",
       "</style>\n",
       "<table border=\"1\" class=\"dataframe\">\n",
       "  <thead>\n",
       "    <tr style=\"text-align: right;\">\n",
       "      <th></th>\n",
       "      <th>deceptive</th>\n",
       "      <th>text</th>\n",
       "    </tr>\n",
       "  </thead>\n",
       "  <tbody>\n",
       "    <tr>\n",
       "      <th>323</th>\n",
       "      <td>truthful</td>\n",
       "      <td>wife spent night getawai excurs choos pricelin...</td>\n",
       "    </tr>\n",
       "    <tr>\n",
       "      <th>368</th>\n",
       "      <td>truthful</td>\n",
       "      <td>spent night amalfi hotel chicago busi book kin...</td>\n",
       "    </tr>\n",
       "    <tr>\n",
       "      <th>825</th>\n",
       "      <td>truthful</td>\n",
       "      <td>great awesom servic serious peopl amaz nice ba...</td>\n",
       "    </tr>\n",
       "    <tr>\n",
       "      <th>264</th>\n",
       "      <td>truthful</td>\n",
       "      <td>recent trip chicago attend major trade pleasur...</td>\n",
       "    </tr>\n",
       "    <tr>\n",
       "      <th>223</th>\n",
       "      <td>truthful</td>\n",
       "      <td>wife spent night talbott room spaciou comfort ...</td>\n",
       "    </tr>\n",
       "    <tr>\n",
       "      <th>...</th>\n",
       "      <td>...</td>\n",
       "      <td>...</td>\n",
       "    </tr>\n",
       "    <tr>\n",
       "      <th>1148</th>\n",
       "      <td>truthful</td>\n",
       "      <td>book hotel busi trip abl rate travelzoo figur ...</td>\n",
       "    </tr>\n",
       "    <tr>\n",
       "      <th>249</th>\n",
       "      <td>truthful</td>\n",
       "      <td>arriv sofitel joint leisur busi fantast hotel ...</td>\n",
       "    </tr>\n",
       "    <tr>\n",
       "      <th>352</th>\n",
       "      <td>truthful</td>\n",
       "      <td>stai octob novemb cconfer beauti hotel locat p...</td>\n",
       "    </tr>\n",
       "    <tr>\n",
       "      <th>1080</th>\n",
       "      <td>truthful</td>\n",
       "      <td>week long stai hilton south michigan attend me...</td>\n",
       "    </tr>\n",
       "    <tr>\n",
       "      <th>1162</th>\n",
       "      <td>truthful</td>\n",
       "      <td>hotel allegro industri analyst event expect wo...</td>\n",
       "    </tr>\n",
       "  </tbody>\n",
       "</table>\n",
       "<p>600 rows × 2 columns</p>\n",
       "</div>"
      ],
      "text/plain": [
       "     deceptive                                               text\n",
       "323   truthful  wife spent night getawai excurs choos pricelin...\n",
       "368   truthful  spent night amalfi hotel chicago busi book kin...\n",
       "825   truthful  great awesom servic serious peopl amaz nice ba...\n",
       "264   truthful  recent trip chicago attend major trade pleasur...\n",
       "223   truthful  wife spent night talbott room spaciou comfort ...\n",
       "...        ...                                                ...\n",
       "1148  truthful  book hotel busi trip abl rate travelzoo figur ...\n",
       "249   truthful  arriv sofitel joint leisur busi fantast hotel ...\n",
       "352   truthful  stai octob novemb cconfer beauti hotel locat p...\n",
       "1080  truthful  week long stai hilton south michigan attend me...\n",
       "1162  truthful  hotel allegro industri analyst event expect wo...\n",
       "\n",
       "[600 rows x 2 columns]"
      ]
     },
     "execution_count": 47,
     "metadata": {},
     "output_type": "execute_result"
    }
   ],
   "source": [
    "deceptive_training"
   ]
  },
  {
   "cell_type": "code",
   "execution_count": 48,
   "metadata": {},
   "outputs": [
    {
     "data": {
      "text/plain": [
       "'hard rock hotel chicago favorit hotel stai time wonder experi guess super rock roll theme music paraphanelia lobbi floor elev lobbi room larg photo mural theme differ musician request floor favorit band like kiss aerosmith room great appoint super comfort bed luxuri sheet wonder pillow larg cool sound ramp view experi spaciou desk room mini bar room big window view michigan av hotel sit right michigan block canal bathroom furnish absolut great fixtur sport great design shower window shower enjoi view michigan close waterproof drape great experi staff desk doorman great lobbi bar feel intim nice energi big screen catch latest score cours rock roll music pump place stai plain hotel great design fun memor hotel want return concern crazi charg park car overnight daili car park rate close night sorri go rate loop stai cool'"
      ]
     },
     "execution_count": 48,
     "metadata": {},
     "output_type": "execute_result"
    }
   ],
   "source": [
    "deceptive_training['text'][239]"
   ]
  },
  {
   "cell_type": "code",
   "execution_count": 49,
   "metadata": {},
   "outputs": [],
   "source": [
    "## NLTK tokenizer\n",
    "\n",
    "import nltk\n",
    "import gensim\n",
    "from nltk.corpus import stopwords\n",
    "from gensim.models import Doc2Vec\n",
    "from gensim.models.doc2vec import TaggedDocument\n",
    "def tokenize_text(text):\n",
    "    tokens = []\n",
    "    for sent in nltk.sent_tokenize(text):\n",
    "        for word in nltk.word_tokenize(sent):\n",
    "            if len(word) < 2: ## solo las palabras con longitud >= 2 se tokenizan\n",
    "                continue\n",
    "            tokens.append(word.lower())\n",
    "    return tokens\n",
    "train_dec = deceptive_training.apply(\n",
    "    lambda x: TaggedDocument(words=tokenize_text(x['text']), tags=[x.deceptive]), axis=1)\n",
    "test_dec = deceptive_testing.apply(\n",
    "    lambda x: TaggedDocument(words=tokenize_text(x['text']), tags=[x.deceptive]), axis=1)"
   ]
  },
  {
   "cell_type": "code",
   "execution_count": 50,
   "metadata": {},
   "outputs": [
    {
     "name": "stdout",
     "output_type": "stream",
     "text": [
      "TaggedDocument(['hard', 'rock', 'hotel', 'chicago', 'favorit', 'hotel', 'stai', 'time', 'wonder', 'experi', 'guess', 'super', 'rock', 'roll', 'theme', 'music', 'paraphanelia', 'lobbi', 'floor', 'elev', 'lobbi', 'room', 'larg', 'photo', 'mural', 'theme', 'differ', 'musician', 'request', 'floor', 'favorit', 'band', 'like', 'kiss', 'aerosmith', 'room', 'great', 'appoint', 'super', 'comfort', 'bed', 'luxuri', 'sheet', 'wonder', 'pillow', 'larg', 'cool', 'sound', 'ramp', 'view', 'experi', 'spaciou', 'desk', 'room', 'mini', 'bar', 'room', 'big', 'window', 'view', 'michigan', 'av', 'hotel', 'sit', 'right', 'michigan', 'block', 'canal', 'bathroom', 'furnish', 'absolut', 'great', 'fixtur', 'sport', 'great', 'design', 'shower', 'window', 'shower', 'enjoi', 'view', 'michigan', 'close', 'waterproof', 'drape', 'great', 'experi', 'staff', 'desk', 'doorman', 'great', 'lobbi', 'bar', 'feel', 'intim', 'nice', 'energi', 'big', 'screen', 'catch', 'latest', 'score', 'cours', 'rock', 'roll', 'music', 'pump', 'place', 'stai', 'plain', 'hotel', 'great', 'design', 'fun', 'memor', 'hotel', 'want', 'return', 'concern', 'crazi', 'charg', 'park', 'car', 'overnight', 'daili', 'car', 'park', 'rate', 'close', 'night', 'sorri', 'go', 'rate', 'loop', 'stai', 'cool'], ['truthful'])\n"
     ]
    }
   ],
   "source": [
    "print(train_dec[239])"
   ]
  },
  {
   "cell_type": "code",
   "execution_count": 51,
   "metadata": {},
   "outputs": [
    {
     "name": "stderr",
     "output_type": "stream",
     "text": [
      "100%|██████████| 600/600 [00:00<00:00, 2529228.54it/s]\n"
     ]
    }
   ],
   "source": [
    "## Build vocabulary using distributed bag of words\n",
    "from tqdm import tqdm\n",
    "import multiprocessing\n",
    "cores = multiprocessing.cpu_count()\n",
    "dbow = Doc2Vec(dm=1, vector_size = 300, window = 5, min_count = 3, negative=5, workers = cores, alpha=0.025, min_alpha=0.001)\n",
    "#dbow = Doc2Vec(vector_size = 1000, min_count = 0, alpha = 0.025, min_alpa = 0.025)\n",
    "dbow.build_vocab([x for x in tqdm(train_dec.values)])"
   ]
  },
  {
   "cell_type": "code",
   "execution_count": 52,
   "metadata": {},
   "outputs": [
    {
     "name": "stderr",
     "output_type": "stream",
     "text": [
      "100%|██████████| 600/600 [00:00<00:00, 891772.64it/s]\n"
     ]
    },
    {
     "name": "stdout",
     "output_type": "stream",
     "text": [
      "CPU times: user 46.3 s, sys: 3.35 s, total: 49.7 s\n",
      "Wall time: 21.9 s\n"
     ]
    }
   ],
   "source": [
    "%%time\n",
    "from sklearn import utils\n",
    "\n",
    "dbow.train(utils.shuffle([x for x in tqdm(train_dec.values)]), total_examples=len(train_dec.values), epochs=200)\n"
   ]
  },
  {
   "cell_type": "code",
   "execution_count": 53,
   "metadata": {},
   "outputs": [],
   "source": [
    "def vec_for_learning(model, input_docs):\n",
    "    sents = input_docs\n",
    "    targets, feature_vectors = zip(*[(doc.tags[0], model.infer_vector(doc.words, steps=50)) for doc in sents])\n",
    "    return targets, feature_vectors"
   ]
  },
  {
   "cell_type": "code",
   "execution_count": 54,
   "metadata": {},
   "outputs": [],
   "source": [
    "y_train, x_train = vec_for_learning(dbow, train_dec)\n",
    "y_test, x_test = vec_for_learning(dbow, test_dec)"
   ]
  },
  {
   "cell_type": "code",
   "execution_count": 18,
   "metadata": {},
   "outputs": [
    {
     "name": "stderr",
     "output_type": "stream",
     "text": [
      "<ipython-input-18-52611bd430ae>:1: DeprecationWarning: Call to deprecated `most_similar` (Method will be removed in 4.0.0, use self.wv.most_similar() instead).\n",
      "  dbow.most_similar('night')\n"
     ]
    },
    {
     "data": {
      "text/plain": [
       "[('afternoon', 0.2921980321407318),\n",
       " ('expedia', 0.2491123378276825),\n",
       " ('supposedli', 0.23475536704063416),\n",
       " ('wasnt', 0.23198136687278748),\n",
       " ('monei', 0.22694852948188782),\n",
       " ('meal', 0.22358886897563934),\n",
       " ('channel', 0.2217407524585724),\n",
       " ('lamp', 0.21949948370456696),\n",
       " ('com', 0.2192206233739853),\n",
       " ('central', 0.2185852825641632)]"
      ]
     },
     "execution_count": 18,
     "metadata": {},
     "output_type": "execute_result"
    }
   ],
   "source": [
    "dbow.most_similar('night')"
   ]
  },
  {
   "cell_type": "code",
   "execution_count": 19,
   "metadata": {},
   "outputs": [
    {
     "data": {
      "text/plain": [
       "300"
      ]
     },
     "execution_count": 19,
     "metadata": {},
     "output_type": "execute_result"
    }
   ],
   "source": [
    "len(x_train[260])"
   ]
  },
  {
   "cell_type": "code",
   "execution_count": 20,
   "metadata": {
    "tags": []
   },
   "outputs": [
    {
     "data": {
      "text/plain": [
       "pandas.core.series.Series"
      ]
     },
     "execution_count": 20,
     "metadata": {},
     "output_type": "execute_result"
    }
   ],
   "source": [
    "import numpy as np\n",
    "\n",
    "training_list = []\n",
    "for tag, text_val in zip(y_train, x_train):\n",
    "    listToStr = ' '.join([str(elem) for elem in text_val]) \n",
    "    training_list.append([tag,listToStr])\n",
    "\n",
    "testing_list = []\n",
    "for tag, text_val in zip(y_test, x_test):\n",
    "    listToStr = ' '.join([str(elem) for elem in text_val]) \n",
    "    testing_list.append([tag,listToStr])\n",
    "\n",
    "deceptive_training = pd.DataFrame(data=training_list, columns=[\"deceptive\",\"text\"])\n",
    "deceptive_testing = pd.DataFrame(data=testing_list, columns=[\"deceptive\",\"text\"])\n",
    "type(deceptive_training['text'])"
   ]
  },
  {
   "cell_type": "code",
   "execution_count": null,
   "metadata": {},
   "outputs": [],
   "source": [
    "deceptive_training.to_csv(r'../../Deceptive_Opinion_Spam_Corpus_Datasets/deceptive_training.csv', index=False, sep=',')\n",
    "deceptive_testing.to_csv(r'../../Deceptive_Opinion_Spam_Corpus_Datasets/deceptive_testing.csv', index=False, sep=',')"
   ]
  },
  {
   "cell_type": "markdown",
   "metadata": {},
   "source": [
    "## Files without/partially preprocessing"
   ]
  },
  {
   "cell_type": "code",
   "execution_count": 21,
   "metadata": {},
   "outputs": [],
   "source": [
    "deceptive_training.to_csv(r'../../Deceptive_Opinion_Spam_Corpus_Datasets/deceptive_training_sin_proc.csv', index=False, sep=',')\n",
    "deceptive_testing.to_csv(r'../../Deceptive_Opinion_Spam_Corpus_Datasets/deceptive_testing_sin_proc.csv', index=False, sep=',')"
   ]
  },
  {
   "cell_type": "code",
   "execution_count": 45,
   "metadata": {},
   "outputs": [],
   "source": [
    "deceptive_training.to_csv(r'../../Deceptive_Opinion_Spam_Corpus_Datasets/deceptive_training_sin_proc_v2.csv', index=False, sep=',')\n",
    "deceptive_testing.to_csv(r'../../Deceptive_Opinion_Spam_Corpus_Datasets/deceptive_testing_sin_proc_v2.csv', index=False, sep=',')\n",
    "    "
   ]
  },
  {
   "cell_type": "code",
   "execution_count": 66,
   "metadata": {},
   "outputs": [],
   "source": [
    "## Data for Classifier\n",
    "\n",
    "df.to_csv(r'../../Deceptive_Opinion_Spam_Corpus_Datasets/deceptive_data_clasf.csv', index=False, sep=',')"
   ]
  },
  {
   "cell_type": "code",
   "execution_count": 42,
   "metadata": {},
   "outputs": [],
   "source": []
  },
  {
   "cell_type": "code",
   "execution_count": null,
   "metadata": {},
   "outputs": [],
   "source": []
  }
 ],
 "metadata": {
  "kernelspec": {
   "display_name": "Python 3.8.5 64-bit",
   "language": "python",
   "name": "python38564bit129eeb57289c44939b4863da13de07dc"
  },
  "language_info": {
   "codemirror_mode": {
    "name": "ipython",
    "version": 3
   },
   "file_extension": ".py",
   "mimetype": "text/x-python",
   "name": "python",
   "nbconvert_exporter": "python",
   "pygments_lexer": "ipython3",
   "version": "3.8.5"
  }
 },
 "nbformat": 4,
 "nbformat_minor": 4
}
