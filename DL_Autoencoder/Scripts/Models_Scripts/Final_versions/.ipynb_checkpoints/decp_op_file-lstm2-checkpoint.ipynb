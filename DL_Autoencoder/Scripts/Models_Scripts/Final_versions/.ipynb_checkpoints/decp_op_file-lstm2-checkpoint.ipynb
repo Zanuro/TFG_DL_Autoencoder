{
 "cells": [
  {
   "cell_type": "code",
   "execution_count": 1,
   "metadata": {},
   "outputs": [
    {
     "ename": "FileNotFoundError",
     "evalue": "[Errno 2] No such file or directory: './deceptive_training_sin_proc.csv'",
     "output_type": "error",
     "traceback": [
      "\u001b[0;31m---------------------------------------------------------------------------\u001b[0m",
      "\u001b[0;31mFileNotFoundError\u001b[0m                         Traceback (most recent call last)",
      "\u001b[0;32m<ipython-input-1-2d772c0456d5>\u001b[0m in \u001b[0;36m<module>\u001b[0;34m\u001b[0m\n\u001b[1;32m      3\u001b[0m \u001b[0;32mimport\u001b[0m \u001b[0mnumpy\u001b[0m \u001b[0;32mas\u001b[0m \u001b[0mnp\u001b[0m\u001b[0;34m\u001b[0m\u001b[0;34m\u001b[0m\u001b[0m\n\u001b[1;32m      4\u001b[0m \u001b[0;34m\u001b[0m\u001b[0m\n\u001b[0;32m----> 5\u001b[0;31m \u001b[0mdf_train\u001b[0m \u001b[0;34m=\u001b[0m \u001b[0mpd\u001b[0m\u001b[0;34m.\u001b[0m\u001b[0mread_csv\u001b[0m\u001b[0;34m(\u001b[0m\u001b[0;34m'./deceptive_training_sin_proc.csv'\u001b[0m\u001b[0;34m)\u001b[0m\u001b[0;34m\u001b[0m\u001b[0;34m\u001b[0m\u001b[0m\n\u001b[0m\u001b[1;32m      6\u001b[0m \u001b[0mdf_test\u001b[0m \u001b[0;34m=\u001b[0m \u001b[0mpd\u001b[0m\u001b[0;34m.\u001b[0m\u001b[0mread_csv\u001b[0m\u001b[0;34m(\u001b[0m\u001b[0;34m'./deceptive_testing_sin_proc.csv'\u001b[0m\u001b[0;34m)\u001b[0m\u001b[0;34m\u001b[0m\u001b[0;34m\u001b[0m\u001b[0m\n",
      "\u001b[0;32m~/.local/lib/python3.8/site-packages/pandas/io/parsers.py\u001b[0m in \u001b[0;36mread_csv\u001b[0;34m(filepath_or_buffer, sep, delimiter, header, names, index_col, usecols, squeeze, prefix, mangle_dupe_cols, dtype, engine, converters, true_values, false_values, skipinitialspace, skiprows, skipfooter, nrows, na_values, keep_default_na, na_filter, verbose, skip_blank_lines, parse_dates, infer_datetime_format, keep_date_col, date_parser, dayfirst, cache_dates, iterator, chunksize, compression, thousands, decimal, lineterminator, quotechar, quoting, doublequote, escapechar, comment, encoding, dialect, error_bad_lines, warn_bad_lines, delim_whitespace, low_memory, memory_map, float_precision)\u001b[0m\n\u001b[1;32m    686\u001b[0m     )\n\u001b[1;32m    687\u001b[0m \u001b[0;34m\u001b[0m\u001b[0m\n\u001b[0;32m--> 688\u001b[0;31m     \u001b[0;32mreturn\u001b[0m \u001b[0m_read\u001b[0m\u001b[0;34m(\u001b[0m\u001b[0mfilepath_or_buffer\u001b[0m\u001b[0;34m,\u001b[0m \u001b[0mkwds\u001b[0m\u001b[0;34m)\u001b[0m\u001b[0;34m\u001b[0m\u001b[0;34m\u001b[0m\u001b[0m\n\u001b[0m\u001b[1;32m    689\u001b[0m \u001b[0;34m\u001b[0m\u001b[0m\n\u001b[1;32m    690\u001b[0m \u001b[0;34m\u001b[0m\u001b[0m\n",
      "\u001b[0;32m~/.local/lib/python3.8/site-packages/pandas/io/parsers.py\u001b[0m in \u001b[0;36m_read\u001b[0;34m(filepath_or_buffer, kwds)\u001b[0m\n\u001b[1;32m    452\u001b[0m \u001b[0;34m\u001b[0m\u001b[0m\n\u001b[1;32m    453\u001b[0m     \u001b[0;31m# Create the parser.\u001b[0m\u001b[0;34m\u001b[0m\u001b[0;34m\u001b[0m\u001b[0;34m\u001b[0m\u001b[0m\n\u001b[0;32m--> 454\u001b[0;31m     \u001b[0mparser\u001b[0m \u001b[0;34m=\u001b[0m \u001b[0mTextFileReader\u001b[0m\u001b[0;34m(\u001b[0m\u001b[0mfp_or_buf\u001b[0m\u001b[0;34m,\u001b[0m \u001b[0;34m**\u001b[0m\u001b[0mkwds\u001b[0m\u001b[0;34m)\u001b[0m\u001b[0;34m\u001b[0m\u001b[0;34m\u001b[0m\u001b[0m\n\u001b[0m\u001b[1;32m    455\u001b[0m \u001b[0;34m\u001b[0m\u001b[0m\n\u001b[1;32m    456\u001b[0m     \u001b[0;32mif\u001b[0m \u001b[0mchunksize\u001b[0m \u001b[0;32mor\u001b[0m \u001b[0miterator\u001b[0m\u001b[0;34m:\u001b[0m\u001b[0;34m\u001b[0m\u001b[0;34m\u001b[0m\u001b[0m\n",
      "\u001b[0;32m~/.local/lib/python3.8/site-packages/pandas/io/parsers.py\u001b[0m in \u001b[0;36m__init__\u001b[0;34m(self, f, engine, **kwds)\u001b[0m\n\u001b[1;32m    946\u001b[0m             \u001b[0mself\u001b[0m\u001b[0;34m.\u001b[0m\u001b[0moptions\u001b[0m\u001b[0;34m[\u001b[0m\u001b[0;34m\"has_index_names\"\u001b[0m\u001b[0;34m]\u001b[0m \u001b[0;34m=\u001b[0m \u001b[0mkwds\u001b[0m\u001b[0;34m[\u001b[0m\u001b[0;34m\"has_index_names\"\u001b[0m\u001b[0;34m]\u001b[0m\u001b[0;34m\u001b[0m\u001b[0;34m\u001b[0m\u001b[0m\n\u001b[1;32m    947\u001b[0m \u001b[0;34m\u001b[0m\u001b[0m\n\u001b[0;32m--> 948\u001b[0;31m         \u001b[0mself\u001b[0m\u001b[0;34m.\u001b[0m\u001b[0m_make_engine\u001b[0m\u001b[0;34m(\u001b[0m\u001b[0mself\u001b[0m\u001b[0;34m.\u001b[0m\u001b[0mengine\u001b[0m\u001b[0;34m)\u001b[0m\u001b[0;34m\u001b[0m\u001b[0;34m\u001b[0m\u001b[0m\n\u001b[0m\u001b[1;32m    949\u001b[0m \u001b[0;34m\u001b[0m\u001b[0m\n\u001b[1;32m    950\u001b[0m     \u001b[0;32mdef\u001b[0m \u001b[0mclose\u001b[0m\u001b[0;34m(\u001b[0m\u001b[0mself\u001b[0m\u001b[0;34m)\u001b[0m\u001b[0;34m:\u001b[0m\u001b[0;34m\u001b[0m\u001b[0;34m\u001b[0m\u001b[0m\n",
      "\u001b[0;32m~/.local/lib/python3.8/site-packages/pandas/io/parsers.py\u001b[0m in \u001b[0;36m_make_engine\u001b[0;34m(self, engine)\u001b[0m\n\u001b[1;32m   1178\u001b[0m     \u001b[0;32mdef\u001b[0m \u001b[0m_make_engine\u001b[0m\u001b[0;34m(\u001b[0m\u001b[0mself\u001b[0m\u001b[0;34m,\u001b[0m \u001b[0mengine\u001b[0m\u001b[0;34m=\u001b[0m\u001b[0;34m\"c\"\u001b[0m\u001b[0;34m)\u001b[0m\u001b[0;34m:\u001b[0m\u001b[0;34m\u001b[0m\u001b[0;34m\u001b[0m\u001b[0m\n\u001b[1;32m   1179\u001b[0m         \u001b[0;32mif\u001b[0m \u001b[0mengine\u001b[0m \u001b[0;34m==\u001b[0m \u001b[0;34m\"c\"\u001b[0m\u001b[0;34m:\u001b[0m\u001b[0;34m\u001b[0m\u001b[0;34m\u001b[0m\u001b[0m\n\u001b[0;32m-> 1180\u001b[0;31m             \u001b[0mself\u001b[0m\u001b[0;34m.\u001b[0m\u001b[0m_engine\u001b[0m \u001b[0;34m=\u001b[0m \u001b[0mCParserWrapper\u001b[0m\u001b[0;34m(\u001b[0m\u001b[0mself\u001b[0m\u001b[0;34m.\u001b[0m\u001b[0mf\u001b[0m\u001b[0;34m,\u001b[0m \u001b[0;34m**\u001b[0m\u001b[0mself\u001b[0m\u001b[0;34m.\u001b[0m\u001b[0moptions\u001b[0m\u001b[0;34m)\u001b[0m\u001b[0;34m\u001b[0m\u001b[0;34m\u001b[0m\u001b[0m\n\u001b[0m\u001b[1;32m   1181\u001b[0m         \u001b[0;32melse\u001b[0m\u001b[0;34m:\u001b[0m\u001b[0;34m\u001b[0m\u001b[0;34m\u001b[0m\u001b[0m\n\u001b[1;32m   1182\u001b[0m             \u001b[0;32mif\u001b[0m \u001b[0mengine\u001b[0m \u001b[0;34m==\u001b[0m \u001b[0;34m\"python\"\u001b[0m\u001b[0;34m:\u001b[0m\u001b[0;34m\u001b[0m\u001b[0;34m\u001b[0m\u001b[0m\n",
      "\u001b[0;32m~/.local/lib/python3.8/site-packages/pandas/io/parsers.py\u001b[0m in \u001b[0;36m__init__\u001b[0;34m(self, src, **kwds)\u001b[0m\n\u001b[1;32m   2008\u001b[0m         \u001b[0mkwds\u001b[0m\u001b[0;34m[\u001b[0m\u001b[0;34m\"usecols\"\u001b[0m\u001b[0;34m]\u001b[0m \u001b[0;34m=\u001b[0m \u001b[0mself\u001b[0m\u001b[0;34m.\u001b[0m\u001b[0musecols\u001b[0m\u001b[0;34m\u001b[0m\u001b[0;34m\u001b[0m\u001b[0m\n\u001b[1;32m   2009\u001b[0m \u001b[0;34m\u001b[0m\u001b[0m\n\u001b[0;32m-> 2010\u001b[0;31m         \u001b[0mself\u001b[0m\u001b[0;34m.\u001b[0m\u001b[0m_reader\u001b[0m \u001b[0;34m=\u001b[0m \u001b[0mparsers\u001b[0m\u001b[0;34m.\u001b[0m\u001b[0mTextReader\u001b[0m\u001b[0;34m(\u001b[0m\u001b[0msrc\u001b[0m\u001b[0;34m,\u001b[0m \u001b[0;34m**\u001b[0m\u001b[0mkwds\u001b[0m\u001b[0;34m)\u001b[0m\u001b[0;34m\u001b[0m\u001b[0;34m\u001b[0m\u001b[0m\n\u001b[0m\u001b[1;32m   2011\u001b[0m         \u001b[0mself\u001b[0m\u001b[0;34m.\u001b[0m\u001b[0munnamed_cols\u001b[0m \u001b[0;34m=\u001b[0m \u001b[0mself\u001b[0m\u001b[0;34m.\u001b[0m\u001b[0m_reader\u001b[0m\u001b[0;34m.\u001b[0m\u001b[0munnamed_cols\u001b[0m\u001b[0;34m\u001b[0m\u001b[0;34m\u001b[0m\u001b[0m\n\u001b[1;32m   2012\u001b[0m \u001b[0;34m\u001b[0m\u001b[0m\n",
      "\u001b[0;32mpandas/_libs/parsers.pyx\u001b[0m in \u001b[0;36mpandas._libs.parsers.TextReader.__cinit__\u001b[0;34m()\u001b[0m\n",
      "\u001b[0;32mpandas/_libs/parsers.pyx\u001b[0m in \u001b[0;36mpandas._libs.parsers.TextReader._setup_parser_source\u001b[0;34m()\u001b[0m\n",
      "\u001b[0;31mFileNotFoundError\u001b[0m: [Errno 2] No such file or directory: './deceptive_training_sin_proc.csv'"
     ]
    }
   ],
   "source": [
    "import pandas as pd\n",
    "from pandas import DataFrame\n",
    "import numpy as np\n",
    "\n",
    "df_train = pd.read_csv('../../../Deceptive_Opinion_Spam_Corpus_Datasets/deceptive_training_sin_proc.csv')\n",
    "df_test = pd.read_csv('../../../Deceptive_Opinion_Spam_Corpus_Datasets/deceptive_testing_sin_proc.csv')"
   ]
  },
  {
   "cell_type": "code",
   "execution_count": null,
   "metadata": {},
   "outputs": [],
   "source": [
    "### Remplazar los truthful con 0 y deceptive con 1 en la columna deceptive\n",
    "df_train = df_train.replace({'deceptive': {'truthful': 0, 'deceptive': 1}})\n",
    "df_test = df_test.replace({'deceptive': {'truthful': 0, 'deceptive': 1}})"
   ]
  },
  {
   "cell_type": "code",
   "execution_count": null,
   "metadata": {},
   "outputs": [],
   "source": [
    "train_dec_a = df_train.iloc[:, 0]\n",
    "#validation_dec_a = validation_set.iloc[:, 0]\n",
    "test_dec_a = df_test.iloc[:, 0]\n",
    "\n",
    "train_dec_a.columns = ['train_dec_a']\n",
    "#validation_dec_a.columns = ['validation_dec_a']\n",
    "test_dec_a.columns = ['test_dec_a']"
   ]
  },
  {
   "cell_type": "code",
   "execution_count": null,
   "metadata": {},
   "outputs": [],
   "source": [
    "print(df_train)"
   ]
  },
  {
   "cell_type": "code",
   "execution_count": null,
   "metadata": {
    "tags": []
   },
   "outputs": [],
   "source": [
    "\n",
    "x_train = ()\n",
    "y_train = ()\n",
    "\n",
    "for index, row in df_train.iterrows():\n",
    "    res = list(map(float, row['text'].split(' ')))\n",
    "    res = np.asarray(res, dtype=np.float32)\n",
    "    x_train = x_train + (res,)\n",
    "    y_train = y_train + (row['deceptive'],)\n",
    "\n",
    "x_test = ()\n",
    "y_test = ()\n",
    "\n",
    "for index, row in df_test.iterrows():\n",
    "    res = list(map(float, row['text'].split(' ')))\n",
    "    res = np.asarray(res, dtype=np.float32)\n",
    "    x_test = x_test + (res,)\n",
    "    y_test = y_test + (row['deceptive'],)\n"
   ]
  },
  {
   "cell_type": "code",
   "execution_count": null,
   "metadata": {},
   "outputs": [],
   "source": [
    "import numpy\n",
    "arrays = {}\n",
    "## Train dataset\n",
    "for i in range(0, len(x_train[0])):\n",
    "    col_name = 'value_' + str(i)\n",
    "    arrays[col_name] = numpy.array([item[i] for item in x_train])\n",
    "\n",
    "train_ext = pd.DataFrame(y_train, columns =['deceptive'])\n",
    "\n",
    "for x in arrays.keys(): \n",
    "    dataframe=pd.DataFrame(arrays[x], columns=[x]) \n",
    "    train_ext = train_ext.join(dataframe, how=\"inner\")\n",
    "    \n",
    "train_ext = train_ext.drop(['deceptive'],axis=1)\n",
    "## Test dataset\n",
    "\n",
    "for i in range(0, len(x_test[0])):\n",
    "    col_name = 'value_' + str(i)\n",
    "    arrays[col_name] = numpy.array([item[i] for item in x_test])\n",
    "\n",
    "test_ext = pd.DataFrame(y_test, columns =['deceptive'])\n",
    "\n",
    "for x in arrays.keys(): \n",
    "    dataframe=pd.DataFrame(arrays[x], columns=[x]) \n",
    "    test_ext = test_ext.join(dataframe, how=\"inner\")\n",
    "    \n",
    "test_ext = test_ext.drop(['deceptive'],axis=1)\n"
   ]
  },
  {
   "cell_type": "code",
   "execution_count": null,
   "metadata": {
    "tags": []
   },
   "outputs": [],
   "source": [
    "import numpy as np\n",
    "x_train, y_train = np.asarray(x_train), np.asarray(y_train)\n",
    "#x_validation, y_validation = np.asarray(x_validation), np.asarray(y_validation)\n",
    "x_test, y_test = np.asarray(x_test), np.asarray(y_test)\n",
    "\n",
    "x_train = x_train.astype('float32')\n",
    "#x_validation = x_validation.astype('float32')\n",
    "x_test = x_test.astype('float32')"
   ]
  },
  {
   "cell_type": "code",
   "execution_count": null,
   "metadata": {},
   "outputs": [],
   "source": [
    "# reshape inputs for LSTM [samples, timesteps, features]\n",
    "X_train = x_train.reshape(x_train.shape[0], 1, x_train.shape[1]) # X_train \n",
    "print(\"Training data shape:\", x_train.shape)\n",
    "#x_validation = x_validation.reshape(x_validation.shape[0], 1, x_validation.shape[1]) # X_train \n",
    "#print(\"Validation data shape:\", x_validation.shape)\n",
    "X_test = x_test.reshape(x_test.shape[0], 1, x_test.shape[1])     # X_test \n",
    "print(\"Test data shape:\", x_test.shape)"
   ]
  },
  {
   "cell_type": "code",
   "execution_count": null,
   "metadata": {},
   "outputs": [],
   "source": [
    "print(X_train)"
   ]
  },
  {
   "cell_type": "markdown",
   "metadata": {},
   "source": [
    "## Primer MODELO -- mediante LSTM"
   ]
  },
  {
   "cell_type": "code",
   "execution_count": null,
   "metadata": {},
   "outputs": [],
   "source": [
    "## Autoencoder simple \n",
    "\n",
    "import keras\n",
    "from keras.layers import Dense, Input, Conv2D, Flatten, Reshape, Conv2DTranspose, LSTM, TimeDistributed, RepeatVector, Dropout\n",
    "from keras.models import Model\n",
    "from keras.utils import plot_model\n",
    "from keras import backend as BE\n",
    "from keras import regularizers\n",
    "\n",
    "import numpy as np\n",
    "import matplotlib.pyplot as plt\n",
    "\n",
    "def autoencoder_model(X):\n",
    "    inputs = Input(shape=(X.shape[1], X.shape[2]))\n",
    "    L1 = LSTM(128, activation='relu', return_sequences=True,  \n",
    "              kernel_regularizer=regularizers.l2(0.01))(inputs)\n",
    "    L2 = LSTM(32, activation='relu', return_sequences=True)(L1)\n",
    "    L3 = LSTM(4, activation='relu', return_sequences=False)(L2)\n",
    "    L4 = RepeatVector(X.shape[1])(L3)\n",
    "    L5 = LSTM(4, activation='relu', return_sequences=True)(L4)\n",
    "    L6 = LSTM(32, activation='relu', return_sequences=True)(L5)\n",
    "    L7 = LSTM(128, activation='relu', return_sequences=True)(L6)\n",
    "    output = TimeDistributed(Dense(X.shape[2]))(L7)    \n",
    "    model = Model(inputs=inputs, outputs=output)\n",
    "    return model\n"
   ]
  },
  {
   "cell_type": "code",
   "execution_count": null,
   "metadata": {},
   "outputs": [],
   "source": [
    "# create the autoencoder model\n",
    "model = autoencoder_model(X_train)\n",
    "#opt = keras.optimizers.Adam(learning_rate=0.01)\n",
    "model.compile(optimizer='adamax', loss='mae', metrics=['mae', 'mse', 'mape', 'msle', \n",
    "                                                     'cosine_proximity']) #Error absoluto medio (mae), MeanSquaredError mse\n",
    "model.summary()\n"
   ]
  },
  {
   "cell_type": "code",
   "execution_count": null,
   "metadata": {},
   "outputs": [],
   "source": [
    "import time\n",
    "from keras.callbacks import TensorBoard\n",
    "\n",
    "# collect data across multiple repeats\n",
    "dtrain = DataFrame()\n",
    "val = DataFrame()\n",
    "# fit the model to the data\n",
    "\n",
    "for i in range(1):\n",
    "    print(\"Fit model on training data...\")\n",
    "    start = time.time()\n",
    "    nb_epochs = 300 \n",
    "    batch_size = 64\n",
    "    \n",
    "    tb = TensorBoard(log_dir='./logs',\n",
    "                 histogram_freq=0,\n",
    "                 write_graph=True,\n",
    "                 write_images=True)\n",
    "    history = model.fit(X_train, X_train, epochs=nb_epochs, batch_size=batch_size, validation_split = 0.2, shuffle=True, verbose=0, callbacks=[tb]).history \n",
    "    end = time.time()\n",
    "    dtrain[str(i)] = history['loss']\n",
    "    val[str(i)] = history['val_loss']\n",
    "    print(\"Time to training model: \", end='')\n",
    "    print(end - start)\n",
    "    "
   ]
  },
  {
   "cell_type": "code",
   "execution_count": null,
   "metadata": {},
   "outputs": [],
   "source": [
    "model.save(\"decp_lstm2_model\")"
   ]
  },
  {
   "cell_type": "code",
   "execution_count": null,
   "metadata": {},
   "outputs": [],
   "source": [
    "X_train.shape"
   ]
  },
  {
   "cell_type": "code",
   "execution_count": null,
   "metadata": {},
   "outputs": [],
   "source": [
    "print(dtrain.describe())\n",
    "dtrain.boxplot()\n",
    "plt.show()"
   ]
  },
  {
   "cell_type": "code",
   "execution_count": null,
   "metadata": {},
   "outputs": [],
   "source": [
    "print(\"Best MAE on Validation Set =\", max(history['val_mae']))"
   ]
  },
  {
   "cell_type": "code",
   "execution_count": null,
   "metadata": {},
   "outputs": [],
   "source": [
    "print(\"Best MSE on Validation Set =\", max(history['val_mse']))"
   ]
  },
  {
   "cell_type": "code",
   "execution_count": null,
   "metadata": {},
   "outputs": [],
   "source": [
    "loss = model.evaluate(X_train, X_train, verbose=0)\n",
    "print(loss)"
   ]
  },
  {
   "cell_type": "code",
   "execution_count": null,
   "metadata": {},
   "outputs": [],
   "source": [
    "for name, value in zip(model.metrics_names, loss):\n",
    "    print(name, value)"
   ]
  },
  {
   "cell_type": "code",
   "execution_count": null,
   "metadata": {},
   "outputs": [],
   "source": [
    "# plot the training losses\n",
    "fig, ax = plt.subplots(figsize=(14, 6), dpi=300)\n",
    "ax.plot(history['loss'], 'b', label='Train', linewidth=2)\n",
    "ax.plot(history['val_loss'], 'r', label='Validation', linewidth=2)\n",
    "ax.set_title('Model loss', fontsize=16)\n",
    "ax.set_ylabel('Loss (mae)')\n",
    "ax.set_xlabel('Epoch')\n",
    "ax.legend(loc='upper right')\n",
    "plt.show()\n",
    "\n"
   ]
  },
  {
   "cell_type": "code",
   "execution_count": null,
   "metadata": {},
   "outputs": [],
   "source": [
    "# plot the training losses\n",
    "fig, ax = plt.subplots(figsize=(14, 6), dpi=80)\n",
    "ax.plot(history['mse'], 'r', label='Train', linewidth=2)\n",
    "ax.plot(history['val_mse'], 'g', label='Validation', linewidth=2)\n",
    "ax.set_title('Training Mean Squared Error vs Validation Mean Squared Error', fontsize=16)\n",
    "ax.set_ylabel('mse')\n",
    "ax.set_xlabel('Epoch')\n",
    "ax.legend(loc='upper right')\n",
    "plt.show()"
   ]
  },
  {
   "cell_type": "code",
   "execution_count": null,
   "metadata": {},
   "outputs": [],
   "source": [
    "# plot metrics\n",
    "plt.plot(history['mse'],'r--,', label='mse')\n",
    "plt.plot(history['mae'],'g', label='mae')\n",
    "plt.legend(loc='upper right')\n",
    "plt.show()"
   ]
  },
  {
   "cell_type": "markdown",
   "metadata": {},
   "source": [
    "## Distributon of Loss Function"
   ]
  },
  {
   "cell_type": "code",
   "execution_count": null,
   "metadata": {},
   "outputs": [],
   "source": [
    "import seaborn as sns\n",
    "sns.set(color_codes=True)\n",
    "\n",
    "# plot the loss distribution of the training set\n",
    "X_pred = model.predict(X_train)\n",
    "X_pred = X_pred.reshape(X_pred.shape[0], X_pred.shape[2])\n",
    "X_pred = pd.DataFrame(X_pred, columns=train_ext.columns)\n",
    "X_pred.index = train_ext.index\n",
    "\n",
    "scored_train = pd.DataFrame(index=train_ext.index)\n",
    "Xtrain = X_train.reshape(X_train.shape[0], X_train.shape[2])\n",
    "scored_train['Loss_mae'] = np.mean(np.abs(X_pred-Xtrain), axis = 1)\n",
    "\n",
    "plt.figure(figsize=(8,8), dpi= 300)\n",
    "plt.title('Loss Distribution', fontsize=16)\n",
    "sns.distplot(scored_train['Loss_mae'], color = 'blue', bins = 40, kde=True)\n",
    "plt.xlim([0.00,0.5])\n"
   ]
  },
  {
   "cell_type": "code",
   "execution_count": null,
   "metadata": {},
   "outputs": [],
   "source": [
    "# calculate the loss on the test set\n",
    "X_pred = model.predict(X_test)\n",
    "X_pred = X_pred.reshape(X_pred.shape[0], X_pred.shape[2])\n",
    "X_pred = pd.DataFrame(X_pred, columns=test_ext.columns)\n",
    "X_pred.index = test_ext.index\n",
    "\n",
    "\n",
    "scored = pd.DataFrame(index=test_ext.index)\n",
    "Xtest = X_test.reshape(X_test.shape[0], X_test.shape[2])\n",
    "\n",
    "scored['Loss_mae'] = np.mean(np.abs(X_pred-Xtest), axis = 1)\n",
    "\n",
    "plt.figure(figsize=(8,8), dpi= 300)\n",
    "plt.title('Loss Distribution on Test Dataset', fontsize=16)\n",
    "sns.distplot(scored['Loss_mae'], color = 'blue', bins = 40, kde=True)\n",
    "plt.xlim([0.00,1.5])\n",
    "scored['Threshold'] = 0.9\n",
    "scored['Anomaly'] = scored['Loss_mae'] > scored['Threshold']\n",
    "scored.head()"
   ]
  },
  {
   "cell_type": "code",
   "execution_count": null,
   "metadata": {},
   "outputs": [],
   "source": [
    "scored.info()"
   ]
  },
  {
   "cell_type": "code",
   "execution_count": null,
   "metadata": {},
   "outputs": [],
   "source": [
    "data_filter = scored[scored['Anomaly'] == True]\n",
    "data_filter.head(100)"
   ]
  },
  {
   "cell_type": "code",
   "execution_count": null,
   "metadata": {},
   "outputs": [],
   "source": [
    "# calculate the same metrics for the training set \n",
    "# and merge all data in a single dataframe for plotting\n",
    "X_pred_train = model.predict(X_train)\n",
    "X_pred_train = X_pred_train.reshape(X_pred_train.shape[0], X_pred_train.shape[2])\n",
    "X_pred_train = pd.DataFrame(X_pred_train, columns=train_ext.columns)\n",
    "X_pred_train.index = train_ext.index\n",
    "\n",
    "scored_train = pd.DataFrame(index=train_ext.index)\n",
    "scored_train['Loss_mae'] = np.mean(np.abs(X_pred_train-Xtrain), axis = 1)\n",
    "scored_train['Threshold'] = 0.9\n",
    "scored_train['Anomaly'] = scored_train['Loss_mae'] > scored_train['Threshold']\n",
    "scored = pd.concat([scored_train, scored])"
   ]
  },
  {
   "cell_type": "code",
   "execution_count": null,
   "metadata": {},
   "outputs": [],
   "source": [
    "scored.plot(figsize=(16,9), ylim=[0.2,1.1], color=['blue','red'])"
   ]
  },
  {
   "cell_type": "code",
   "execution_count": null,
   "metadata": {},
   "outputs": [],
   "source": [
    "## Determinación de threshold con (max)"
   ]
  },
  {
   "cell_type": "code",
   "execution_count": null,
   "metadata": {},
   "outputs": [],
   "source": [
    "# Get train MAE loss.\n",
    "x_train_pred = model.predict(X_train)\n",
    "x_train_pred = x_train_pred.reshape(x_train_pred.shape[0], x_train_pred.shape[1])\n",
    "x_train_pred = pd.DataFrame(x_train_pred, columns=train_ext.columns)\n",
    "x_train_pred.index = train_ext.index\n",
    "\n",
    "score = pd.DataFrame(index=train_ext.index)\n",
    "Xtrain = X_train.reshape(X_train.shape[0], X_train.shape[2])\n",
    "score['train_mae_loss'] = np.mean(np.abs(x_train_pred - Xtrain), axis=1)\n",
    "\n",
    "plt.figure(figsize=(16,9), dpi= 300)\n",
    "plt.hist(score['train_mae_loss'], bins= 80)\n",
    "plt.xlabel(\"Train MAE loss\")\n",
    "plt.ylabel(\"No of samples\")\n",
    "plt.xlim([0.005,0.5])\n",
    "plt.show()\n",
    "\n",
    "# Get reconstruction loss threshold.\n",
    "threshold = np.max(score['train_mae_loss'])\n",
    "print(\"Reconstruction error threshold: \", threshold)"
   ]
  },
  {
   "cell_type": "code",
   "execution_count": null,
   "metadata": {},
   "outputs": [],
   "source": [
    "## Determinación de threshold con (mean + std)"
   ]
  },
  {
   "cell_type": "code",
   "execution_count": null,
   "metadata": {},
   "outputs": [],
   "source": [
    "reconstructions = model.predict(X_train)\n",
    "train_loss = np.mean(np.abs(reconstructions - X_train), axis=1)\n",
    "threshold = np.mean(train_loss) + np.std(train_loss)\n",
    "print(\"Threshold: \", threshold)\n"
   ]
  },
  {
   "cell_type": "markdown",
   "metadata": {},
   "source": [
    "## Determinación de Clasificación. Test"
   ]
  },
  {
   "cell_type": "code",
   "execution_count": null,
   "metadata": {},
   "outputs": [],
   "source": [
    "# calculate the loss on the test set\n",
    "from sklearn.metrics import accuracy_score, precision_score, recall_score\n",
    "from sklearn.metrics import confusion_matrix, precision_recall_curve, cohen_kappa_score, fbeta_score\n",
    "from sklearn.metrics import recall_score, classification_report, auc, roc_curve, log_loss\n",
    "X_pred = model.predict(X_test)\n",
    "X_pred = X_pred.reshape(X_pred.shape[0], X_pred.shape[2])\n",
    "X_pred = pd.DataFrame(X_pred, columns=test_ext.columns)\n",
    "X_pred.index = test_ext.index\n"
   ]
  },
  {
   "cell_type": "code",
   "execution_count": 22,
   "metadata": {},
   "outputs": [
    {
     "data": {
      "text/plain": [
       "\"\\nmse = np.mean(np.power(Xtest - X_pred, 2), axis=1)\\nerror_df = pd.DataFrame({'Reconstruction_error': mse,\\n                        'True_class': test_y})\\nerror_df.describe()\\n\""
      ]
     },
     "execution_count": 22,
     "metadata": {},
     "output_type": "execute_result"
    }
   ],
   "source": [
    "error_df = pd.DataFrame(index=test_ext.index)\n",
    "Xtest = X_test.reshape(X_test.shape[0], X_test.shape[2])\n",
    "error_df['Reconstruction_error'] = np.mean(np.abs(X_pred-Xtest), axis = 1)\n",
    "error_df['True_class'] = test_dec_a\n",
    "error_df.head()\n",
    "\n",
    "## Otra variante\n",
    "\"\"\"\n",
    "mse = np.mean(np.power(Xtest - X_pred, 2), axis=1)\n",
    "error_df = pd.DataFrame({'Reconstruction_error': mse,\n",
    "                        'True_class': test_y})\n",
    "error_df.describe()\n",
    "\"\"\""
   ]
  },
  {
   "cell_type": "code",
   "execution_count": 23,
   "metadata": {},
   "outputs": [
    {
     "data": {
      "image/png": "[encoded data removed]",
      "text/plain": [
       "<Figure size 432x288 with 1 Axes>"
      ]
     },
     "metadata": {
      "needs_background": "light"
     },
     "output_type": "display_data"
    }
   ],
   "source": [
    "precision_rt, recall_rt, threshold_rt = precision_recall_curve(error_df.True_class, error_df.Reconstruction_error)\n",
    "plt.plot(threshold_rt, precision_rt[1:], label=\"Precision\",linewidth=1)\n",
    "plt.plot(threshold_rt, recall_rt[1:], label=\"Recall\",linewidth=1)\n",
    "plt.title('Precision and recall for different threshold values')\n",
    "plt.xlabel('Threshold')\n",
    "plt.ylabel('Precision/Recall')\n",
    "plt.legend()\n",
    "plt.show()\n"
   ]
  },
  {
   "cell_type": "code",
   "execution_count": 24,
   "metadata": {},
   "outputs": [
    {
     "name": "stdout",
     "output_type": "stream",
     "text": [
      "[0.56745094 0.56833285 0.57075775 0.57861483 0.57893014 0.58139056\n",
      " 0.59010947 0.594527   0.5959766  0.5959872  0.60042673 0.6064917\n",
      " 0.6140905  0.6155966  0.618114   0.61994314 0.6231099  0.62825274\n",
      " 0.62869734 0.62979007 0.6305732  0.6314107  0.63338    0.6340554\n",
      " 0.63416237 0.6363459  0.6389345  0.6397479  0.6414492  0.64276874\n",
      " 0.6432545  0.643555   0.6459674  0.6480835  0.65022236 0.65342265\n",
      " 0.6554136  0.6561599  0.6569616  0.65749663 0.6577032  0.6578639\n",
      " 0.66003466 0.6615413  0.66230667 0.6627695  0.6642649  0.66633695\n",
      " 0.66671735 0.6669889  0.66855276 0.67064327 0.67090625 0.67332613\n",
      " 0.6733489  0.6741224  0.67716175 0.67729723 0.67755514 0.67869896\n",
      " 0.68090284 0.68519706 0.6941748  0.6952034  0.6969611  0.69700956\n",
      " 0.6971413  0.6972497  0.6981247  0.6999646  0.70052195 0.701214\n",
      " 0.7015832  0.7040038  0.70636517 0.7067995  0.7092404  0.7092967\n",
      " 0.7146105  0.71715873 0.7177931  0.7179658  0.72057635 0.7212755\n",
      " 0.7242645  0.7255074  0.73411083 0.7347076  0.7347802  0.7355941\n",
      " 0.7362714  0.7368672  0.74597746 0.74915314 0.7499208  0.75195533\n",
      " 0.7526462  0.7528413  0.7544598  0.75920576 0.7594816  0.7655978\n",
      " 0.7671299  0.76745486 0.76872486 0.77048784 0.77375156 0.7744322\n",
      " 0.7754745  0.775981   0.77637523 0.7800647  0.7800856  0.78200275\n",
      " 0.7827413  0.79593086 0.8086745  0.8110614  0.82184887 0.83260435\n",
      " 0.8332882  0.8373069  0.8424778  0.8466219  0.85083026 0.8524208\n",
      " 0.85847604 0.86067903 0.89710844 0.9073204  0.92063373 0.9213564\n",
      " 0.9403484  0.9415688  0.9562178  0.967281   1.0314453 ]\n"
     ]
    }
   ],
   "source": [
    "print(threshold_rt)"
   ]
  },
  {
   "cell_type": "markdown",
   "metadata": {},
   "source": [
    "## ROC CURVE CHECK"
   ]
  },
  {
   "cell_type": "code",
   "execution_count": 25,
   "metadata": {},
   "outputs": [
    {
     "data": {
      "text/plain": [
       "Text(0.5, 0, 'False Positive Rate')"
      ]
     },
     "execution_count": 25,
     "metadata": {},
     "output_type": "execute_result"
    },
    {
     "data": {
      "image/png": "[encoded data removed]",
      "text/plain": [
       "<Figure size 432x288 with 1 Axes>"
      ]
     },
     "metadata": {
      "needs_background": "light"
     },
     "output_type": "display_data"
    }
   ],
   "source": [
    "false_pos_rate, true_pos_rate, thresholds = roc_curve(error_df.True_class, error_df.Reconstruction_error)\n",
    "roc_auc = auc(false_pos_rate, true_pos_rate,)\n",
    "\n",
    "plt.plot(false_pos_rate, true_pos_rate, linewidth=2, label='AUC = %0.3f'% roc_auc)\n",
    "plt.plot([0,1],[0,1], linewidth=5)\n",
    "\n",
    "plt.xlim([-0.01, 1])\n",
    "plt.ylim([0, 1.01])\n",
    "plt.legend(loc='lower right')\n",
    "plt.title('Receiver operating characteristic curve (ROC)')\n",
    "plt.ylabel('True Positive Rate')\n",
    "plt.xlabel('False Positive Rate')\n"
   ]
  },
  {
   "cell_type": "markdown",
   "metadata": {},
   "source": [
    "## RECALL VS PRECISION THRESHOLDING"
   ]
  },
  {
   "cell_type": "code",
   "execution_count": 26,
   "metadata": {},
   "outputs": [
    {
     "data": {
      "image/png": "[encoded data removed]",
      "text/plain": [
       "<Figure size 432x288 with 1 Axes>"
      ]
     },
     "metadata": {
      "needs_background": "light"
     },
     "output_type": "display_data"
    }
   ],
   "source": [
    "precision_rt, recall_rt, threshold_rt = precision_recall_curve(error_df.True_class, error_df.Reconstruction_error)\n",
    "pr_auc = auc(recall_rt, precision_rt,)\n",
    "\n",
    "plt.plot(recall_rt, precision_rt, linewidth=0.5, label='AUC = %0.3f'% pr_auc)\n",
    "plt.legend(loc='upper right')\n",
    "plt.title('Recall vs Precision')\n",
    "plt.xlabel('Recall')\n",
    "plt.ylabel('Precision')\n",
    "plt.show()\n"
   ]
  },
  {
   "cell_type": "markdown",
   "metadata": {},
   "source": [
    "## Reconstruction Error vs Threshold Check"
   ]
  },
  {
   "cell_type": "code",
   "execution_count": 27,
   "metadata": {},
   "outputs": [
    {
     "data": {
      "image/png": "[encoded data removed]",
      "text/plain": [
       "<Figure size 432x288 with 1 Axes>"
      ]
     },
     "metadata": {
      "needs_background": "light"
     },
     "output_type": "display_data"
    }
   ],
   "source": [
    "threshold_fixed = 0.65\n",
    "groups = error_df.groupby('True_class')\n",
    "fig, ax = plt.subplots()\n",
    "\n",
    "for name, group in groups:\n",
    "    ax.plot(group.index, group.Reconstruction_error, marker='o', ms=3.5, linestyle='',\n",
    "            label= \"ANOMALY\" if name == 1 else \"Normal\")\n",
    "ax.hlines(threshold_fixed, ax.get_xlim()[0], ax.get_xlim()[1], colors=\"r\", zorder=100, label='Threshold')\n",
    "ax.legend()\n",
    "plt.title(\"Reconstruction error for different classes\")\n",
    "plt.ylabel(\"Reconstruction error\")\n",
    "plt.xlabel(\"Data point index\")\n",
    "plt.show()\n",
    "\n"
   ]
  },
  {
   "cell_type": "markdown",
   "metadata": {},
   "source": [
    "## Confusion Matrix"
   ]
  },
  {
   "cell_type": "code",
   "execution_count": 29,
   "metadata": {},
   "outputs": [
    {
     "data": {
      "image/png": "[encoded data removed]",
      "text/plain": [
       "<Figure size 864x864 with 2 Axes>"
      ]
     },
     "metadata": {
      "needs_background": "light"
     },
     "output_type": "display_data"
    }
   ],
   "source": [
    "import seaborn as sns\n",
    "LABELS = [\"Normal\",\"ANOMALY\"]\n",
    "\n",
    "pred_y = [1 if e > threshold_fixed else 0 for e in error_df.Reconstruction_error.values]\n",
    "conf_matrix = confusion_matrix(error_df.True_class, pred_y)\n",
    "\n",
    "plt.figure(figsize=(12, 12))\n",
    "sns.heatmap(conf_matrix, xticklabels=LABELS, yticklabels=LABELS, annot=True, fmt=\"d\");\n",
    "plt.title(\"Confusion matrix\")\n",
    "plt.ylabel('True class')\n",
    "plt.xlabel('Predicted class')\n",
    "plt.show()\n",
    "\n"
   ]
  },
  {
   "cell_type": "markdown",
   "metadata": {},
   "source": [
    "## MODEL STATS"
   ]
  },
  {
   "cell_type": "code",
   "execution_count": 32,
   "metadata": {},
   "outputs": [],
   "source": [
    "def print_stats(ytest, ypred):\n",
    "    print(\"Accuracy: {:.5f}, Cohen's Kappa Score: {:.5f}\".format(\n",
    "        accuracy_score(ytest, ypred), \n",
    "        cohen_kappa_score(ytest, ypred, weights=\"quadratic\")))\n",
    "    ll = log_loss(ytest, ypred)\n",
    "    print(\"Log Loss: {}\".format(ll))\n",
    "    print(' ')\n",
    "    print(\"Confusion Matrix:\")\n",
    "    print(confusion_matrix(ytest, ypred))\n",
    "    print(\"Classification Report:\")\n",
    "    print(classification_report(ytest, ypred))"
   ]
  },
  {
   "cell_type": "code",
   "execution_count": 33,
   "metadata": {},
   "outputs": [
    {
     "name": "stdout",
     "output_type": "stream",
     "text": [
      "Accuracy: 0.50505, Cohen's Kappa Score: 0.04517\n",
      "Log Loss: 17.095337616437096\n",
      " \n",
      "Confusion Matrix:\n",
      "[[93 96]\n",
      " [ 2  7]]\n",
      "Classification Report:\n",
      "              precision    recall  f1-score   support\n",
      "\n",
      "           0       0.98      0.49      0.65       189\n",
      "           1       0.07      0.78      0.12         9\n",
      "\n",
      "    accuracy                           0.51       198\n",
      "   macro avg       0.52      0.63      0.39       198\n",
      "weighted avg       0.94      0.51      0.63       198\n",
      "\n"
     ]
    }
   ],
   "source": [
    "print_stats(error_df.True_class, pred_y)"
   ]
  },
  {
   "cell_type": "code",
   "execution_count": 34,
   "metadata": {},
   "outputs": [
    {
     "name": "stdout",
     "output_type": "stream",
     "text": [
      "Result: p=0.938, r=0.505, f=0.631\n"
     ]
    }
   ],
   "source": [
    "p = precision_score(error_df.True_class, pred_y,average='weighted')\n",
    "r = recall_score(error_df.True_class, pred_y,average='weighted')\n",
    "f = fbeta_score(error_df.True_class, pred_y, beta= 1,average='weighted')\n",
    "print('Result: p=%.3f, r=%.3f, f=%.3f' % (p, r, f))"
   ]
  },
  {
   "cell_type": "code",
   "execution_count": 35,
   "metadata": {},
   "outputs": [
    {
     "name": "stdout",
     "output_type": "stream",
     "text": [
      "------------------------------------------------------------------------------\n",
      "Result: p=0.957, r=0.081, f=0.072\n",
      "Threshold fixed=0.400\n",
      "Accuracy: 0.08081, Cohen's Kappa Score: 0.00348\n",
      "Log Loss: 31.748499144474945\n",
      " \n",
      "Confusion Matrix:\n",
      "[[  7 182]\n",
      " [  0   9]]\n",
      "Classification Report:\n",
      "              precision    recall  f1-score   support\n",
      "\n",
      "           0       1.00      0.04      0.07       189\n",
      "           1       0.05      1.00      0.09         9\n",
      "\n",
      "    accuracy                           0.08       198\n",
      "   macro avg       0.52      0.52      0.08       198\n",
      "weighted avg       0.96      0.08      0.07       198\n",
      "\n",
      "------------------------------------------------------------------------------\n",
      "Result: p=0.938, r=0.505, f=0.631\n",
      "Threshold fixed=0.650\n",
      "Accuracy: 0.50505, Cohen's Kappa Score: 0.04517\n",
      "Log Loss: 17.095337616437096\n",
      " \n",
      "Confusion Matrix:\n",
      "[[93 96]\n",
      " [ 2  7]]\n",
      "Classification Report:\n",
      "              precision    recall  f1-score   support\n",
      "\n",
      "           0       0.98      0.49      0.65       189\n",
      "           1       0.07      0.78      0.12         9\n",
      "\n",
      "    accuracy                           0.51       198\n",
      "   macro avg       0.52      0.63      0.39       198\n",
      "weighted avg       0.94      0.51      0.63       198\n",
      "\n",
      "------------------------------------------------------------------------------\n",
      "Result: p=0.921, r=0.657, f=0.756\n",
      "Threshold fixed=0.700\n",
      "Accuracy: 0.65657, Cohen's Kappa Score: 0.02731\n",
      "Log Loss: 11.862056411575903\n",
      " \n",
      "Confusion Matrix:\n",
      "[[126  63]\n",
      " [  5   4]]\n",
      "Classification Report:\n",
      "              precision    recall  f1-score   support\n",
      "\n",
      "           0       0.96      0.67      0.79       189\n",
      "           1       0.06      0.44      0.11         9\n",
      "\n",
      "    accuracy                           0.66       198\n",
      "   macro avg       0.51      0.56      0.45       198\n",
      "weighted avg       0.92      0.66      0.76       198\n",
      "\n",
      "------------------------------------------------------------------------------\n",
      "Result: p=0.906, r=0.848, f=0.876\n",
      "Threshold fixed=0.800\n",
      "Accuracy: 0.84848, Cohen's Kappa Score: -0.06796\n",
      "Log Loss: 5.233232744410883\n",
      " \n",
      "Confusion Matrix:\n",
      "[[168  21]\n",
      " [  9   0]]\n",
      "Classification Report:\n",
      "              precision    recall  f1-score   support\n",
      "\n",
      "           0       0.95      0.89      0.92       189\n",
      "           1       0.00      0.00      0.00         9\n",
      "\n",
      "    accuracy                           0.85       198\n",
      "   macro avg       0.47      0.44      0.46       198\n",
      "weighted avg       0.91      0.85      0.88       198\n",
      "\n",
      "------------------------------------------------------------------------------\n"
     ]
    }
   ],
   "source": [
    "print(\"------------------------------------------------------------------------------\")\n",
    "for threshold_fixed in [0.4, 0.65, 0.7, 0.8]:\n",
    "    pred_y = [1 if e > threshold_fixed else 0 for e in error_df.Reconstruction_error.values]\n",
    "    conf_matrix = confusion_matrix(error_df.True_class, pred_y)\n",
    "    #print(conf_matrix)\n",
    "    p = precision_score(error_df.True_class, pred_y, average='weighted')\n",
    "    r = recall_score(error_df.True_class, pred_y,average='weighted')\n",
    "    f = fbeta_score(error_df.True_class, pred_y, beta= 1, average='weighted')\n",
    "    print('Result: p=%.3f, r=%.3f, f=%.3f' % (p, r, f))\n",
    "    print('Threshold fixed=%.3f' % threshold_fixed)\n",
    "    print_stats(error_df.True_class, pred_y)\n",
    "    print(\"------------------------------------------------------------------------------\")"
   ]
  },
  {
   "cell_type": "code",
   "execution_count": null,
   "metadata": {},
   "outputs": [],
   "source": []
  }
 ],
 "metadata": {
  "kernelspec": {
   "display_name": "Python 3",
   "language": "python",
   "name": "python3"
  },
  "language_info": {
   "codemirror_mode": {
    "name": "ipython",
    "version": 3
   },
   "file_extension": ".py",
   "mimetype": "text/x-python",
   "name": "python",
   "nbconvert_exporter": "python",
   "pygments_lexer": "ipython3",
   "version": "3.8.5"
  }
 },
 "nbformat": 4,
 "nbformat_minor": 4
}
