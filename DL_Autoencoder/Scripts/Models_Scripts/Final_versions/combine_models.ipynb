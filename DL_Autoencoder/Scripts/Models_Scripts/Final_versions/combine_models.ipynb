{
 "cells": [
  {
   "cell_type": "code",
   "execution_count": 1,
   "metadata": {},
   "outputs": [],
   "source": [
    "import pandas as pd\n",
    "from pandas import DataFrame\n",
    "import numpy as np\n",
    "\n",
    "df_train = pd.read_csv('../../../Deceptive_Opinion_Spam_Corpus_Datasets/deceptive_training_sin_proc.csv')\n",
    "df_test = pd.read_csv('../../../Deceptive_Opinion_Spam_Corpus_Datasets/deceptive_testing_sin_proc.csv')"
   ]
  },
  {
   "cell_type": "code",
   "execution_count": 2,
   "metadata": {},
   "outputs": [],
   "source": [
    "### Remplazar los truthful con 0 y deceptive con 1 en la columna deceptive\n",
    "df_train = df_train.replace({'deceptive': {'truthful': 0}})\n",
    "df_test = df_test.replace({'deceptive': {'truthful': 0, 'deceptive': 1}})"
   ]
  },
  {
   "cell_type": "code",
   "execution_count": 3,
   "metadata": {},
   "outputs": [],
   "source": [
    "train_dec_a = df_train.iloc[:, 0]\n",
    "#validation_dec_a = validation_set.iloc[:, 0]\n",
    "test_dec_a = df_test.iloc[:, 0]\n",
    "\n",
    "train_dec_a.columns = ['train_dec_a']\n",
    "#validation_dec_a.columns = ['validation_dec_a']\n",
    "test_dec_a.columns = ['test_dec_a']"
   ]
  },
  {
   "cell_type": "code",
   "execution_count": 4,
   "metadata": {},
   "outputs": [
    {
     "name": "stdout",
     "output_type": "stream",
     "text": [
      "     deceptive                                               text\n",
      "0            0  -0.19499199 -0.11689109 -1.0239629 0.589182 -0...\n",
      "1            0  -0.75981146 -0.6247913 -0.5968303 0.8442113 -0...\n",
      "2            0  -0.67143595 -0.34271178 -0.6285268 0.46137583 ...\n",
      "3            0  -0.3716615 -0.6101102 -0.6716857 1.4250252 -0....\n",
      "4            0  0.09419579 0.02537344 -0.07499692 1.4799229 -0...\n",
      "..         ...                                                ...\n",
      "592          0  -0.7387875 -0.31224024 -0.71631956 0.7961637 -...\n",
      "593          0  -0.6691669 -0.8395288 -0.88937396 0.82928854 -...\n",
      "594          0  -0.47775698 -0.21484302 -0.7292124 0.70525247 ...\n",
      "595          0  -0.051372834 -0.48699462 -0.95044464 1.4210202...\n",
      "596          0  -0.71351445 0.17851919 -0.258802 1.0437325 -0....\n",
      "\n",
      "[597 rows x 2 columns]\n"
     ]
    }
   ],
   "source": [
    "print(df_train)"
   ]
  },
  {
   "cell_type": "code",
   "execution_count": 5,
   "metadata": {
    "tags": []
   },
   "outputs": [],
   "source": [
    "\n",
    "x_train = ()\n",
    "y_train = ()\n",
    "\n",
    "for index, row in df_train.iterrows():\n",
    "    res = list(map(float, row['text'].split(' ')))\n",
    "    res = np.asarray(res, dtype=np.float32)\n",
    "    x_train = x_train + (res,)\n",
    "    y_train = y_train + (row['deceptive'],)\n",
    "\n",
    "x_test = ()\n",
    "y_test = ()\n",
    "\n",
    "for index, row in df_test.iterrows():\n",
    "    res = list(map(float, row['text'].split(' ')))\n",
    "    res = np.asarray(res, dtype=np.float32)\n",
    "    x_test = x_test + (res,)\n",
    "    y_test = y_test + (row['deceptive'],)\n"
   ]
  },
  {
   "cell_type": "code",
   "execution_count": 6,
   "metadata": {},
   "outputs": [],
   "source": [
    "import numpy\n",
    "arrays = {}\n",
    "## Train dataset\n",
    "for i in range(0, len(x_train[0])):\n",
    "    col_name = 'value_' + str(i)\n",
    "    arrays[col_name] = numpy.array([item[i] for item in x_train])\n",
    "\n",
    "train_ext = pd.DataFrame(y_train, columns =['deceptive'])\n",
    "\n",
    "for x in arrays.keys(): \n",
    "    dataframe=pd.DataFrame(arrays[x], columns=[x]) \n",
    "    train_ext = train_ext.join(dataframe, how=\"inner\")\n",
    "    \n",
    "train_ext = train_ext.drop(['deceptive'],axis=1)\n",
    "## Test dataset\n",
    "\n",
    "for i in range(0, len(x_test[0])):\n",
    "    col_name = 'value_' + str(i)\n",
    "    arrays[col_name] = numpy.array([item[i] for item in x_test])\n",
    "\n",
    "test_ext = pd.DataFrame(y_test, columns =['deceptive'])\n",
    "\n",
    "for x in arrays.keys(): \n",
    "    dataframe=pd.DataFrame(arrays[x], columns=[x]) \n",
    "    test_ext = test_ext.join(dataframe, how=\"inner\")\n",
    "    \n",
    "test_ext = test_ext.drop(['deceptive'],axis=1)\n"
   ]
  },
  {
   "cell_type": "code",
   "execution_count": 7,
   "metadata": {
    "tags": []
   },
   "outputs": [],
   "source": [
    "import numpy as np\n",
    "x_train, y_train = np.asarray(x_train), np.asarray(y_train)\n",
    "#x_validation, y_validation = np.asarray(x_validation), np.asarray(y_validation)\n",
    "x_test, y_test = np.asarray(x_test), np.asarray(y_test)\n",
    "\n",
    "x_train = x_train.astype('float32')\n",
    "#x_validation = x_validation.astype('float32')\n",
    "x_test = x_test.astype('float32')"
   ]
  },
  {
   "cell_type": "code",
   "execution_count": 8,
   "metadata": {},
   "outputs": [
    {
     "name": "stdout",
     "output_type": "stream",
     "text": [
      "Training data shape: (597, 300)\n",
      "Test data shape: (198, 300)\n"
     ]
    }
   ],
   "source": [
    "# reshape inputs for LSTM [samples, timesteps, features]\n",
    "X_train = x_train.reshape(x_train.shape[0], 1, x_train.shape[1]) # X_train \n",
    "print(\"Training data shape:\", x_train.shape)\n",
    "#x_validation = x_validation.reshape(x_validation.shape[0], 1, x_validation.shape[1]) # X_train \n",
    "#print(\"Validation data shape:\", x_validation.shape)\n",
    "X_test = x_test.reshape(x_test.shape[0], 1, x_test.shape[1])     # X_test \n",
    "print(\"Test data shape:\", x_test.shape)"
   ]
  },
  {
   "cell_type": "code",
   "execution_count": 9,
   "metadata": {},
   "outputs": [
    {
     "name": "stdout",
     "output_type": "stream",
     "text": [
      "[[[-0.19499199 -0.11689109 -1.0239629  ... -0.3362849   0.09603526\n",
      "   -0.29484585]]\n",
      "\n",
      " [[-0.75981146 -0.6247913  -0.5968303  ...  0.20598556 -0.4579486\n",
      "    0.02073733]]\n",
      "\n",
      " [[-0.67143595 -0.34271178 -0.6285268  ... -0.49001852 -0.4839096\n",
      "    0.07291023]]\n",
      "\n",
      " ...\n",
      "\n",
      " [[-0.47775698 -0.21484302 -0.7292124  ...  0.11411288  0.13427125\n",
      "    0.22181219]]\n",
      "\n",
      " [[-0.05137283 -0.48699462 -0.95044464 ... -0.8822731  -0.40317678\n",
      "    0.25194392]]\n",
      "\n",
      " [[-0.71351445  0.17851919 -0.258802   ...  0.2708312  -0.08303961\n",
      "   -0.6212692 ]]]\n"
     ]
    }
   ],
   "source": [
    "print(X_train)"
   ]
  },
  {
   "cell_type": "markdown",
   "metadata": {},
   "source": [
    "## Cargar modelos"
   ]
  },
  {
   "cell_type": "code",
   "execution_count": null,
   "metadata": {},
   "outputs": [],
   "source": [
    "from tensorflow import keras\n",
    "\n",
    "lstm1_model = keras.models.load_model('../../../Saved_models/decp_lstm1_model')\n",
    "lstm2_model = keras.models.load_model('../../../Saved_models/decp_lstm2_model')\n",
    "vanilla_model = keras.models.load_model('../../../Saved_models/decp_vanilla_model')\n",
    "gru_model = keras.models.load_model('../../../Saved_models/decp_gru_model')"
   ]
  },
  {
   "cell_type": "markdown",
   "metadata": {},
   "source": [
    "## Determinación de Clasificación. Test"
   ]
  },
  {
   "cell_type": "code",
   "execution_count": 11,
   "metadata": {},
   "outputs": [],
   "source": [
    "# calculate the loss on the test set\n",
    "from sklearn.metrics import accuracy_score, precision_score, recall_score\n",
    "from sklearn.metrics import confusion_matrix, precision_recall_curve, cohen_kappa_score, fbeta_score\n",
    "from sklearn.metrics import recall_score, classification_report, auc, roc_curve, log_loss"
   ]
  },
  {
   "cell_type": "code",
   "execution_count": 12,
   "metadata": {},
   "outputs": [
    {
     "data": {
      "text/html": [
       "<div>\n",
       "<style scoped>\n",
       "    .dataframe tbody tr th:only-of-type {\n",
       "        vertical-align: middle;\n",
       "    }\n",
       "\n",
       "    .dataframe tbody tr th {\n",
       "        vertical-align: top;\n",
       "    }\n",
       "\n",
       "    .dataframe thead th {\n",
       "        text-align: right;\n",
       "    }\n",
       "</style>\n",
       "<table border=\"1\" class=\"dataframe\">\n",
       "  <thead>\n",
       "    <tr style=\"text-align: right;\">\n",
       "      <th></th>\n",
       "      <th>Reconstruction_error</th>\n",
       "      <th>True_class</th>\n",
       "    </tr>\n",
       "  </thead>\n",
       "  <tbody>\n",
       "    <tr>\n",
       "      <th>0</th>\n",
       "      <td>0.703238</td>\n",
       "      <td>0</td>\n",
       "    </tr>\n",
       "    <tr>\n",
       "      <th>1</th>\n",
       "      <td>0.703375</td>\n",
       "      <td>0</td>\n",
       "    </tr>\n",
       "    <tr>\n",
       "      <th>2</th>\n",
       "      <td>0.724032</td>\n",
       "      <td>0</td>\n",
       "    </tr>\n",
       "    <tr>\n",
       "      <th>3</th>\n",
       "      <td>0.794973</td>\n",
       "      <td>1</td>\n",
       "    </tr>\n",
       "    <tr>\n",
       "      <th>4</th>\n",
       "      <td>0.846802</td>\n",
       "      <td>0</td>\n",
       "    </tr>\n",
       "  </tbody>\n",
       "</table>\n",
       "</div>"
      ],
      "text/plain": [
       "   Reconstruction_error  True_class\n",
       "0              0.703238           0\n",
       "1              0.703375           0\n",
       "2              0.724032           0\n",
       "3              0.794973           1\n",
       "4              0.846802           0"
      ]
     },
     "execution_count": 12,
     "metadata": {},
     "output_type": "execute_result"
    }
   ],
   "source": [
    "## LSTM 1\n",
    "\n",
    "X_pred_lstm1 = lstm1_model.predict(X_test)\n",
    "X_pred_lstm1 = X_pred_lstm1.reshape(X_pred_lstm1.shape[0], X_pred_lstm1.shape[2])\n",
    "X_pred_lstm1 = pd.DataFrame(X_pred_lstm1, columns=test_ext.columns)\n",
    "X_pred_lstm1.index = test_ext.index\n",
    "\n",
    "error_df_lstm1 = pd.DataFrame(index=test_ext.index)\n",
    "Xtest = X_test.reshape(X_test.shape[0], X_test.shape[2])\n",
    "error_df_lstm1['Reconstruction_error'] = np.mean(np.abs(X_pred_lstm1-Xtest), axis = 1)\n",
    "error_df_lstm1['True_class'] = test_dec_a\n",
    "error_df_lstm1.head()\n"
   ]
  },
  {
   "cell_type": "code",
   "execution_count": 13,
   "metadata": {},
   "outputs": [
    {
     "data": {
      "text/html": [
       "<div>\n",
       "<style scoped>\n",
       "    .dataframe tbody tr th:only-of-type {\n",
       "        vertical-align: middle;\n",
       "    }\n",
       "\n",
       "    .dataframe tbody tr th {\n",
       "        vertical-align: top;\n",
       "    }\n",
       "\n",
       "    .dataframe thead th {\n",
       "        text-align: right;\n",
       "    }\n",
       "</style>\n",
       "<table border=\"1\" class=\"dataframe\">\n",
       "  <thead>\n",
       "    <tr style=\"text-align: right;\">\n",
       "      <th></th>\n",
       "      <th>Reconstruction_error</th>\n",
       "      <th>True_class</th>\n",
       "    </tr>\n",
       "  </thead>\n",
       "  <tbody>\n",
       "    <tr>\n",
       "      <th>0</th>\n",
       "      <td>0.662029</td>\n",
       "      <td>0</td>\n",
       "    </tr>\n",
       "    <tr>\n",
       "      <th>1</th>\n",
       "      <td>0.660887</td>\n",
       "      <td>0</td>\n",
       "    </tr>\n",
       "    <tr>\n",
       "      <th>2</th>\n",
       "      <td>0.664498</td>\n",
       "      <td>0</td>\n",
       "    </tr>\n",
       "    <tr>\n",
       "      <th>3</th>\n",
       "      <td>0.761812</td>\n",
       "      <td>1</td>\n",
       "    </tr>\n",
       "    <tr>\n",
       "      <th>4</th>\n",
       "      <td>0.817365</td>\n",
       "      <td>0</td>\n",
       "    </tr>\n",
       "  </tbody>\n",
       "</table>\n",
       "</div>"
      ],
      "text/plain": [
       "   Reconstruction_error  True_class\n",
       "0              0.662029           0\n",
       "1              0.660887           0\n",
       "2              0.664498           0\n",
       "3              0.761812           1\n",
       "4              0.817365           0"
      ]
     },
     "execution_count": 13,
     "metadata": {},
     "output_type": "execute_result"
    }
   ],
   "source": [
    "## LSTM 2\n",
    "\n",
    "X_pred_lstm2 = lstm2_model.predict(X_test)\n",
    "X_pred_lstm2 = X_pred_lstm2.reshape(X_pred_lstm2.shape[0], X_pred_lstm2.shape[2])\n",
    "X_pred_lstm2 = pd.DataFrame(X_pred_lstm2, columns=test_ext.columns)\n",
    "X_pred_lstm2.index = test_ext.index\n",
    "\n",
    "error_df_lstm2 = pd.DataFrame(index=test_ext.index)\n",
    "Xtest = X_test.reshape(X_test.shape[0], X_test.shape[2])\n",
    "error_df_lstm2['Reconstruction_error'] = np.mean(np.abs(X_pred_lstm2-Xtest), axis = 1)\n",
    "error_df_lstm2['True_class'] = test_dec_a\n",
    "error_df_lstm2.head()"
   ]
  },
  {
   "cell_type": "code",
   "execution_count": 14,
   "metadata": {},
   "outputs": [
    {
     "data": {
      "text/html": [
       "<div>\n",
       "<style scoped>\n",
       "    .dataframe tbody tr th:only-of-type {\n",
       "        vertical-align: middle;\n",
       "    }\n",
       "\n",
       "    .dataframe tbody tr th {\n",
       "        vertical-align: top;\n",
       "    }\n",
       "\n",
       "    .dataframe thead th {\n",
       "        text-align: right;\n",
       "    }\n",
       "</style>\n",
       "<table border=\"1\" class=\"dataframe\">\n",
       "  <thead>\n",
       "    <tr style=\"text-align: right;\">\n",
       "      <th></th>\n",
       "      <th>Reconstruction_error</th>\n",
       "      <th>True_class</th>\n",
       "    </tr>\n",
       "  </thead>\n",
       "  <tbody>\n",
       "    <tr>\n",
       "      <th>0</th>\n",
       "      <td>0.656831</td>\n",
       "      <td>0</td>\n",
       "    </tr>\n",
       "    <tr>\n",
       "      <th>1</th>\n",
       "      <td>0.640422</td>\n",
       "      <td>0</td>\n",
       "    </tr>\n",
       "    <tr>\n",
       "      <th>2</th>\n",
       "      <td>0.639711</td>\n",
       "      <td>0</td>\n",
       "    </tr>\n",
       "    <tr>\n",
       "      <th>3</th>\n",
       "      <td>0.752812</td>\n",
       "      <td>1</td>\n",
       "    </tr>\n",
       "    <tr>\n",
       "      <th>4</th>\n",
       "      <td>0.799390</td>\n",
       "      <td>0</td>\n",
       "    </tr>\n",
       "  </tbody>\n",
       "</table>\n",
       "</div>"
      ],
      "text/plain": [
       "   Reconstruction_error  True_class\n",
       "0              0.656831           0\n",
       "1              0.640422           0\n",
       "2              0.639711           0\n",
       "3              0.752812           1\n",
       "4              0.799390           0"
      ]
     },
     "execution_count": 14,
     "metadata": {},
     "output_type": "execute_result"
    }
   ],
   "source": [
    "## Vanilla LSTM\n",
    "\n",
    "\n",
    "X_pred_vanilla = vanilla_model.predict(X_test)\n",
    "X_pred_vanilla = X_pred_vanilla.reshape(X_pred_vanilla.shape[0], X_pred_vanilla.shape[1])\n",
    "X_pred_vanilla = pd.DataFrame(X_pred_vanilla, columns=test_ext.columns)\n",
    "X_pred_vanilla.index = test_ext.index\n",
    "\n",
    "error_df_vanilla = pd.DataFrame(index=test_ext.index)\n",
    "Xtest = X_test.reshape(X_test.shape[0], X_test.shape[2])\n",
    "error_df_vanilla['Reconstruction_error'] = np.mean(np.abs(X_pred_vanilla-Xtest), axis = 1)\n",
    "error_df_vanilla['True_class'] = test_dec_a\n",
    "error_df_vanilla.head()\n"
   ]
  },
  {
   "cell_type": "code",
   "execution_count": 15,
   "metadata": {},
   "outputs": [
    {
     "data": {
      "text/html": [
       "<div>\n",
       "<style scoped>\n",
       "    .dataframe tbody tr th:only-of-type {\n",
       "        vertical-align: middle;\n",
       "    }\n",
       "\n",
       "    .dataframe tbody tr th {\n",
       "        vertical-align: top;\n",
       "    }\n",
       "\n",
       "    .dataframe thead th {\n",
       "        text-align: right;\n",
       "    }\n",
       "</style>\n",
       "<table border=\"1\" class=\"dataframe\">\n",
       "  <thead>\n",
       "    <tr style=\"text-align: right;\">\n",
       "      <th></th>\n",
       "      <th>Reconstruction_error</th>\n",
       "      <th>True_class</th>\n",
       "    </tr>\n",
       "  </thead>\n",
       "  <tbody>\n",
       "    <tr>\n",
       "      <th>0</th>\n",
       "      <td>0.660774</td>\n",
       "      <td>0</td>\n",
       "    </tr>\n",
       "    <tr>\n",
       "      <th>1</th>\n",
       "      <td>0.656211</td>\n",
       "      <td>0</td>\n",
       "    </tr>\n",
       "    <tr>\n",
       "      <th>2</th>\n",
       "      <td>0.657705</td>\n",
       "      <td>0</td>\n",
       "    </tr>\n",
       "    <tr>\n",
       "      <th>3</th>\n",
       "      <td>0.757889</td>\n",
       "      <td>1</td>\n",
       "    </tr>\n",
       "    <tr>\n",
       "      <th>4</th>\n",
       "      <td>0.815552</td>\n",
       "      <td>0</td>\n",
       "    </tr>\n",
       "  </tbody>\n",
       "</table>\n",
       "</div>"
      ],
      "text/plain": [
       "   Reconstruction_error  True_class\n",
       "0              0.660774           0\n",
       "1              0.656211           0\n",
       "2              0.657705           0\n",
       "3              0.757889           1\n",
       "4              0.815552           0"
      ]
     },
     "execution_count": 15,
     "metadata": {},
     "output_type": "execute_result"
    }
   ],
   "source": [
    "## GRU\n",
    "\n",
    "\n",
    "X_pred_gru = gru_model.predict(X_test)\n",
    "X_pred_gru = X_pred_gru.reshape(X_pred_gru.shape[0], X_pred_gru.shape[2])\n",
    "X_pred_gru = pd.DataFrame(X_pred_gru, columns=test_ext.columns)\n",
    "X_pred_gru.index = test_ext.index\n",
    "\n",
    "error_df_gru = pd.DataFrame(index=test_ext.index)\n",
    "Xtest = X_test.reshape(X_test.shape[0], X_test.shape[2])\n",
    "error_df_gru['Reconstruction_error'] = np.mean(np.abs(X_pred_gru-Xtest), axis = 1)\n",
    "error_df_gru['True_class'] = test_dec_a\n",
    "error_df_gru.head()\n"
   ]
  },
  {
   "cell_type": "markdown",
   "metadata": {},
   "source": [
    "## ROC CURVE CHECK MULTIPLE MODELS"
   ]
  },
  {
   "cell_type": "code",
   "execution_count": 16,
   "metadata": {},
   "outputs": [
    {
     "data": {
      "image/png": "[encoded data removed]",
      "text/plain": [
       "<Figure size 720x432 with 1 Axes>"
      ]
     },
     "metadata": {
      "needs_background": "light"
     },
     "output_type": "display_data"
    }
   ],
   "source": [
    "import matplotlib.pyplot as plt\n",
    "\n",
    "##LSTM1\n",
    "false_pos_rate_lstm1, true_pos_rate_lstm1, thresholds_lstm1 = roc_curve(error_df_lstm1.True_class, error_df_lstm1.Reconstruction_error)\n",
    "roc_auc_lstm1 = auc(false_pos_rate_lstm1, true_pos_rate_lstm1,)\n",
    "\n",
    "##LSTM2\n",
    "false_pos_rate_lstm2, true_pos_rate_lstm2, thresholds_lstm2 = roc_curve(error_df_lstm2.True_class, error_df_lstm2.Reconstruction_error)\n",
    "roc_auc_lstm2 = auc(false_pos_rate_lstm2, true_pos_rate_lstm2,)\n",
    "\n",
    "##VANILLA\n",
    "false_pos_rate_vanilla, true_pos_rate_vanilla, thresholds_vanilla = roc_curve(error_df_vanilla.True_class, error_df_vanilla.Reconstruction_error)\n",
    "roc_auc_vanilla = auc(false_pos_rate_vanilla, true_pos_rate_vanilla,)\n",
    "\n",
    "##GRU\n",
    "false_pos_rate_gru, true_pos_rate_gru, thresholds_gru = roc_curve(error_df_gru.True_class, error_df_gru.Reconstruction_error)\n",
    "roc_auc_gru = auc(false_pos_rate_gru, true_pos_rate_gru,)\n",
    "\n",
    "\n",
    "\n",
    "plt.figure(figsize=(10,6))\n",
    "\n",
    "plt.plot([0, 1], [0, 1])\n",
    "plt.plot(false_pos_rate_lstm1, true_pos_rate_lstm1, label='LSTM1 = %0.3f'% roc_auc_lstm1)\n",
    "plt.plot(false_pos_rate_lstm2, true_pos_rate_lstm2, label='LSTM2 = %0.3f'% roc_auc_lstm2)\n",
    "plt.plot(false_pos_rate_vanilla, true_pos_rate_vanilla, label='VANILLA = %0.3f'% roc_auc_vanilla)\n",
    "plt.plot(false_pos_rate_gru, true_pos_rate_gru, label='GRU = %0.3f'% roc_auc_gru)\n",
    "plt.xlabel('False positive rate')\n",
    "plt.ylabel('True positive rate')\n",
    "plt.title('ROC Curves for the defined models')\n",
    "plt.legend(loc='best')\n",
    "plt.show()"
   ]
  },
  {
   "cell_type": "markdown",
   "metadata": {},
   "source": [
    "## RECALL VS PRECISION THRESHOLDING"
   ]
  },
  {
   "cell_type": "code",
   "execution_count": 18,
   "metadata": {},
   "outputs": [
    {
     "data": {
      "image/png": "[encoded data removed]",
      "text/plain": [
       "<Figure size 720x432 with 1 Axes>"
      ]
     },
     "metadata": {
      "needs_background": "light"
     },
     "output_type": "display_data"
    }
   ],
   "source": [
    "\n",
    "##LSTM1\n",
    "precision_lstm1, recall_lstm1, threshold_lstm1 = precision_recall_curve(error_df_lstm1.True_class, error_df_lstm1.Reconstruction_error)\n",
    "pr_auc_lstm1 = auc(recall_lstm1, precision_lstm1,)\n",
    "\n",
    "##LSTM2\n",
    "precision_lstm2, recall_lstm2, threshold_lstm2 = precision_recall_curve(error_df_lstm2.True_class, error_df_lstm2.Reconstruction_error)\n",
    "pr_auc_lstm2 = auc(recall_lstm2, precision_lstm2,)\n",
    "\n",
    "##VANILLA\n",
    "precision_vanilla, recall_vanilla, threshold_vanilla = precision_recall_curve(error_df_vanilla.True_class, error_df_vanilla.Reconstruction_error)\n",
    "pr_auc_vanilla = auc(recall_vanilla, precision_vanilla,)\n",
    "\n",
    "##GRU\n",
    "precision_gru, recall_gru, threshold_gru = precision_recall_curve(error_df_gru.True_class, error_df_gru.Reconstruction_error)\n",
    "pr_auc_gru = auc(recall_gru, precision_gru,)\n",
    "\n",
    "\n",
    "plt.figure(figsize=(10,6))\n",
    "\n",
    "plt.plot(recall_lstm1, precision_lstm1, label='LSTM1 = %0.3f'% pr_auc_lstm1)\n",
    "plt.plot(recall_lstm2, precision_lstm2, label='LSTM2 = %0.3f'% pr_auc_lstm2)\n",
    "plt.plot(recall_vanilla, precision_vanilla, label='VANILLA = %0.3f'% pr_auc_vanilla)\n",
    "plt.plot(recall_gru, precision_gru, label='GRU = %0.3f'% pr_auc_gru)\n",
    "plt.xlabel('Recall')\n",
    "plt.ylabel('Precision')\n",
    "plt.title('Recall vs Precision for the defined models(Negative Class)')\n",
    "plt.legend(loc='best')\n",
    "plt.show()\n"
   ]
  },
  {
   "cell_type": "markdown",
   "metadata": {},
   "source": [
    "## Reconstruction Error vs Threshold Check"
   ]
  },
  {
   "cell_type": "code",
   "execution_count": 72,
   "metadata": {},
   "outputs": [
    {
     "data": {
      "image/png": "[encoded data removed]",
      "text/plain": [
       "<Figure size 432x288 with 1 Axes>"
      ]
     },
     "metadata": {},
     "output_type": "display_data"
    }
   ],
   "source": [
    "threshold_fixed = 0.65\n",
    "groups = error_df.groupby('True_class')\n",
    "fig, ax = plt.subplots()\n",
    "\n",
    "for name, group in groups:\n",
    "    ax.plot(group.index, group.Reconstruction_error, marker='o', ms=3.5, linestyle='',\n",
    "            label= \"ANOMALY\" if name == 1 else \"Normal\")\n",
    "ax.hlines(threshold_fixed, ax.get_xlim()[0], ax.get_xlim()[1], colors=\"r\", zorder=100, label='Threshold')\n",
    "ax.legend()\n",
    "plt.title(\"Reconstruction error for different classes\")\n",
    "plt.ylabel(\"Reconstruction error\")\n",
    "plt.xlabel(\"Data point index\")\n",
    "plt.show()\n",
    "\n"
   ]
  },
  {
   "cell_type": "markdown",
   "metadata": {},
   "source": [
    "## Confusion Matrix"
   ]
  },
  {
   "cell_type": "code",
   "execution_count": 73,
   "metadata": {},
   "outputs": [
    {
     "data": {
      "image/png": "[encoded data removed]",
      "text/plain": [
       "<Figure size 864x864 with 2 Axes>"
      ]
     },
     "metadata": {},
     "output_type": "display_data"
    }
   ],
   "source": [
    "LABELS = [\"Normal\",\"ANOMALY\"]\n",
    "\n",
    "pred_y = [1 if e > threshold_fixed else 0 for e in error_df.Reconstruction_error.values]\n",
    "conf_matrix = confusion_matrix(error_df.True_class, pred_y)\n",
    "\n",
    "plt.figure(figsize=(12, 12))\n",
    "sns.heatmap(conf_matrix, xticklabels=LABELS, yticklabels=LABELS, annot=True, fmt=\"d\");\n",
    "plt.title(\"Confusion matrix\")\n",
    "plt.ylabel('True class')\n",
    "plt.xlabel('Predicted class')\n",
    "plt.show()\n",
    "\n"
   ]
  },
  {
   "cell_type": "markdown",
   "metadata": {},
   "source": [
    "## MODEL STATS"
   ]
  },
  {
   "cell_type": "code",
   "execution_count": 79,
   "metadata": {},
   "outputs": [],
   "source": [
    "def print_stats(ytest, ypred):\n",
    "    print(\"Accuracy: {:.5f}, Cohen's Kappa Score: {:.5f}\".format(\n",
    "        accuracy_score(ytest, ypred), \n",
    "        cohen_kappa_score(ytest, ypred, weights=\"quadratic\")))\n",
    "    ll = log_loss(ytest, ypred)\n",
    "    print(\"Log Loss: {}\".format(ll))\n",
    "    print(' ')\n",
    "    print(\"Confusion Matrix:\")\n",
    "    print(confusion_matrix(ytest, ypred))\n",
    "    print(\"Classification Report:\")\n",
    "    print(classification_report(ytest, ypred))"
   ]
  },
  {
   "cell_type": "code",
   "execution_count": 80,
   "metadata": {},
   "outputs": [
    {
     "name": "stdout",
     "output_type": "stream",
     "text": [
      "Accuracy: 0.89394, Cohen's Kappa Score: -0.05479\n",
      "Log Loss: 3.6632520174862964\n",
      " \n",
      "Confusion Matrix:\n",
      "[[177  12]\n",
      " [  9   0]]\n",
      "Classification Report:\n",
      "              precision    recall  f1-score   support\n",
      "\n",
      "           0       0.95      0.94      0.94       189\n",
      "           1       0.00      0.00      0.00         9\n",
      "\n",
      "    accuracy                           0.89       198\n",
      "   macro avg       0.48      0.47      0.47       198\n",
      "weighted avg       0.91      0.89      0.90       198\n",
      "\n"
     ]
    }
   ],
   "source": [
    "print_stats(error_df.True_class, pred_y)"
   ]
  },
  {
   "cell_type": "code",
   "execution_count": 81,
   "metadata": {},
   "outputs": [
    {
     "name": "stdout",
     "output_type": "stream",
     "text": [
      "Result: p=0.908, r=0.894, f=0.901\n"
     ]
    }
   ],
   "source": [
    "p = precision_score(error_df.True_class, pred_y,average='weighted')\n",
    "r = recall_score(error_df.True_class, pred_y,average='weighted')\n",
    "f = fbeta_score(error_df.True_class, pred_y, beta= 1,average='weighted')\n",
    "print('Result: p=%.3f, r=%.3f, f=%.3f' % (p, r, f))"
   ]
  },
  {
   "cell_type": "code",
   "execution_count": 82,
   "metadata": {},
   "outputs": [
    {
     "name": "stdout",
     "output_type": "stream",
     "text": [
      "------------------------------------------------------------------------------\n",
      "Result: p=0.957, r=0.207, f=0.281\n",
      "Threshold fixed=0.500\n",
      "Accuracy: 0.20707, Cohen's Kappa Score: 0.01819\n",
      "Log Loss: 27.38744156968443\n",
      " \n",
      "Confusion Matrix:\n",
      "[[ 32 157]\n",
      " [  0   9]]\n",
      "Classification Report:\n",
      "              precision    recall  f1-score   support\n",
      "\n",
      "           0       1.00      0.17      0.29       189\n",
      "           1       0.05      1.00      0.10         9\n",
      "\n",
      "    accuracy                           0.21       198\n",
      "   macro avg       0.53      0.58      0.20       198\n",
      "weighted avg       0.96      0.21      0.28       198\n",
      "\n",
      "------------------------------------------------------------------------------\n",
      "Result: p=0.932, r=0.404, f=0.533\n",
      "Threshold fixed=0.600\n",
      "Accuracy: 0.40404, Cohen's Kappa Score: 0.02333\n",
      "Log Loss: 20.584183676269507\n",
      " \n",
      "Confusion Matrix:\n",
      "[[ 73 116]\n",
      " [  2   7]]\n",
      "Classification Report:\n",
      "              precision    recall  f1-score   support\n",
      "\n",
      "           0       0.97      0.39      0.55       189\n",
      "           1       0.06      0.78      0.11         9\n",
      "\n",
      "    accuracy                           0.40       198\n",
      "   macro avg       0.52      0.58      0.33       198\n",
      "weighted avg       0.93      0.40      0.53       198\n",
      "\n",
      "------------------------------------------------------------------------------\n",
      "Result: p=0.930, r=0.540, f=0.663\n",
      "Threshold fixed=0.650\n",
      "Accuracy: 0.54040, Cohen's Kappa Score: 0.03657\n",
      "Log Loss: 15.874237457124895\n",
      " \n",
      "Confusion Matrix:\n",
      "[[101  88]\n",
      " [  3   6]]\n",
      "Classification Report:\n",
      "              precision    recall  f1-score   support\n",
      "\n",
      "           0       0.97      0.53      0.69       189\n",
      "           1       0.06      0.67      0.12         9\n",
      "\n",
      "    accuracy                           0.54       198\n",
      "   macro avg       0.52      0.60      0.40       198\n",
      "weighted avg       0.93      0.54      0.66       198\n",
      "\n",
      "------------------------------------------------------------------------------\n",
      "Result: p=0.923, r=0.687, f=0.778\n",
      "Threshold fixed=0.700\n",
      "Accuracy: 0.68687, Cohen's Kappa Score: 0.03808\n",
      "Log Loss: 10.815402593626178\n",
      " \n",
      "Confusion Matrix:\n",
      "[[132  57]\n",
      " [  5   4]]\n",
      "Classification Report:\n",
      "              precision    recall  f1-score   support\n",
      "\n",
      "           0       0.96      0.70      0.81       189\n",
      "           1       0.07      0.44      0.11         9\n",
      "\n",
      "    accuracy                           0.69       198\n",
      "   macro avg       0.51      0.57      0.46       198\n",
      "weighted avg       0.92      0.69      0.78       198\n",
      "\n",
      "------------------------------------------------------------------------------\n",
      "Result: p=0.930, r=0.803, f=0.856\n",
      "Threshold fixed=0.750\n",
      "Accuracy: 0.80303, Cohen's Kappa Score: 0.10438\n",
      "Log Loss: 6.803229624818907\n",
      " \n",
      "Confusion Matrix:\n",
      "[[155  34]\n",
      " [  5   4]]\n",
      "Classification Report:\n",
      "              precision    recall  f1-score   support\n",
      "\n",
      "           0       0.97      0.82      0.89       189\n",
      "           1       0.11      0.44      0.17         9\n",
      "\n",
      "    accuracy                           0.80       198\n",
      "   macro avg       0.54      0.63      0.53       198\n",
      "weighted avg       0.93      0.80      0.86       198\n",
      "\n",
      "------------------------------------------------------------------------------\n",
      "Result: p=0.908, r=0.894, f=0.901\n",
      "Threshold fixed=0.850\n",
      "Accuracy: 0.89394, Cohen's Kappa Score: -0.05479\n",
      "Log Loss: 3.6632520174862964\n",
      " \n",
      "Confusion Matrix:\n",
      "[[177  12]\n",
      " [  9   0]]\n",
      "Classification Report:\n",
      "              precision    recall  f1-score   support\n",
      "\n",
      "           0       0.95      0.94      0.94       189\n",
      "           1       0.00      0.00      0.00         9\n",
      "\n",
      "    accuracy                           0.89       198\n",
      "   macro avg       0.48      0.47      0.47       198\n",
      "weighted avg       0.91      0.89      0.90       198\n",
      "\n",
      "------------------------------------------------------------------------------\n"
     ]
    }
   ],
   "source": [
    "print(\"------------------------------------------------------------------------------\")\n",
    "for threshold_fixed in [0.5, 0.6, 0.65, 0.7, 0.75, 0.85]:\n",
    "    pred_y = [1 if e > threshold_fixed else 0 for e in error_df.Reconstruction_error.values]\n",
    "    conf_matrix = confusion_matrix(error_df.True_class, pred_y)\n",
    "    #print(conf_matrix)\n",
    "    p = precision_score(error_df.True_class, pred_y, average='weighted')\n",
    "    r = recall_score(error_df.True_class, pred_y,average='weighted')\n",
    "    f = fbeta_score(error_df.True_class, pred_y, beta= 1, average='weighted')\n",
    "    print('Result: p=%.3f, r=%.3f, f=%.3f' % (p, r, f))\n",
    "    print('Threshold fixed=%.3f' % threshold_fixed)\n",
    "    print_stats(error_df.True_class, pred_y)\n",
    "    print(\"------------------------------------------------------------------------------\")"
   ]
  },
  {
   "cell_type": "code",
   "execution_count": null,
   "metadata": {},
   "outputs": [],
   "source": []
  }
 ],
 "metadata": {
  "kernelspec": {
   "display_name": "Python 3",
   "language": "python",
   "name": "python3"
  },
  "language_info": {
   "codemirror_mode": {
    "name": "ipython",
    "version": 3
   },
   "file_extension": ".py",
   "mimetype": "text/x-python",
   "name": "python",
   "nbconvert_exporter": "python",
   "pygments_lexer": "ipython3",
   "version": "3.8.5"
  }
 },
 "nbformat": 4,
 "nbformat_minor": 4
}
