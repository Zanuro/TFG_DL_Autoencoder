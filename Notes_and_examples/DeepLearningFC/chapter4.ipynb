{
 "metadata": {
  "language_info": {
   "codemirror_mode": {
    "name": "ipython",
    "version": 3
   },
   "file_extension": ".py",
   "mimetype": "text/x-python",
   "name": "python",
   "nbconvert_exporter": "python",
   "pygments_lexer": "ipython3",
   "version": 3
  },
  "orig_nbformat": 2
 },
 "nbformat": 4,
 "nbformat_minor": 2,
 "cells": [
  {
   "cell_type": "code",
   "execution_count": null,
   "metadata": {},
   "outputs": [],
   "source": [
    "## Validacion de tipo hold-out\n",
    "\n",
    "num_val_samples = 10000\n",
    "\n",
    "np.random.shuffle(data)\n",
    "\n",
    "validation_data = data[:num_val_samples] ## datos de validacion\n",
    "data = data[num_val_samples:] ## datos de entreno\n",
    "training_data = data[:]\n",
    "\n",
    "model= get_model()\n",
    "model.train(training_data)\n",
    "validation_score = model.evaluate(validation_data) ## evaluar el modelo\n",
    "\n",
    "## Despues de ajustar los hiperparametros, entrenar el modelo con todos los datos training+validacion y evaluarlo con los de test\n",
    "\n",
    "model = get_model()\n",
    "model.train(np.concatenate([training_data,validation_data]))\n",
    "test_score = model.evaluate(test_data)\n",
    "\n",
    "\n",
    "##El metodo mas simple de evaluacion pero no es eficiente para datasets pequenos"
   ]
  },
  {
   "cell_type": "code",
   "execution_count": null,
   "metadata": {},
   "outputs": [],
   "source": [
    "## Validacion K-fold\n",
    "\n",
    "\"\"\"\n",
    "Dividimos los datos en K particiones de tamano igual.Para cada particion i, enrenar el modelo en las K-1 particiones y evaluarlo en la particion i\n",
    "El resultado es la media de los resultados de las particiones K.\n",
    "\"\"\"\n",
    "K = 4\n",
    "num_val_sample = len(train_data) // K\n",
    "\n",
    "val_scores = []\n",
    "\n",
    "for x in range(K):\n",
    "    ##Datos de validacion\n",
    "    val_data = data[num_val_sample * x : num_val_sample * *(x+1)]\n",
    "    ## El resto de datos se utilizaran para entrenar el modelo\n",
    "    training_data = data[:num_val_sample * fold] + data[num_val_sample * (x+1):]\n",
    "\n",
    "    model = get_model()\n",
    "    model.train(training_data)\n",
    "    val_score = model.evaluate(val_data)\n",
    "    val_scores.append(val_score)\n",
    "\n",
    "val_score = np.average(val_scores) ## La media de los k-folds\n",
    "\n",
    "model = get_model()\n",
    "model.train(train_data)\n",
    "test_score = model.evaluate(test_data) "
   ]
  },
  {
   "cell_type": "code",
   "execution_count": null,
   "metadata": {},
   "outputs": [],
   "source": [
    "## Iterated k-fold validation with shuffle\n",
    "\n",
    "\"\"\" \n",
    "Para evaluar el modelo de forma precisa con pocos datos.\n",
    "Similar al metodo anterior haciendo multiples iteraciones y cada vez mezclando los datos.\n",
    "\"\"\""
   ]
  },
  {
   "cell_type": "code",
   "execution_count": null,
   "metadata": {},
   "outputs": [],
   "source": []
  }
 ]
}