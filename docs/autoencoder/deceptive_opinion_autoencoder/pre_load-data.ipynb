{
 "metadata": {
  "language_info": {
   "codemirror_mode": {
    "name": "ipython",
    "version": 3
   },
   "file_extension": ".py",
   "mimetype": "text/x-python",
   "name": "python",
   "nbconvert_exporter": "python",
   "pygments_lexer": "ipython3",
   "version": "3.8.5-final"
  },
  "orig_nbformat": 2,
  "kernelspec": {
   "name": "python38564bit129eeb57289c44939b4863da13de07dc",
   "display_name": "Python 3.8.5 64-bit",
   "language": "python"
  }
 },
 "nbformat": 4,
 "nbformat_minor": 2,
 "cells": [
  {
   "cell_type": "code",
   "execution_count": 59,
   "metadata": {},
   "outputs": [
    {
     "output_type": "stream",
     "name": "stdout",
     "text": [
      "      deceptive             hotel  polarity       source  \\\n0      truthful            conrad  positive  TripAdvisor   \n1      truthful             hyatt  positive  TripAdvisor   \n2      truthful             hyatt  positive  TripAdvisor   \n3      truthful              omni  positive  TripAdvisor   \n4      truthful             hyatt  positive  TripAdvisor   \n...         ...               ...       ...          ...   \n1595  deceptive  intercontinental  negative        MTurk   \n1596  deceptive            amalfi  negative        MTurk   \n1597  deceptive  intercontinental  negative        MTurk   \n1598  deceptive            palmer  negative        MTurk   \n1599  deceptive            amalfi  negative        MTurk   \n\n                                                   text  \n0     We stayed for a one night getaway with family ...  \n1     Triple A rate with upgrade to view room was le...  \n2     This comes a little late as I'm finally catchi...  \n3     The Omni Chicago really delivers on all fronts...  \n4     I asked for a high floor away from the elevato...  \n...                                                 ...  \n1595  Problems started when I booked the InterContin...  \n1596  The Amalfi Hotel has a beautiful website and i...  \n1597  The Intercontinental Chicago Magnificent Mile ...  \n1598  The Palmer House Hilton, while it looks good i...  \n1599  As a former Chicagoan, I'm appalled at the Ama...  \n\n[1600 rows x 5 columns]\n"
     ]
    }
   ],
   "source": [
    "## Load data from a csv file, pre-process the content of it and then generate the training and test dataset\n",
    "## Cargar datos desde un fichero csv, preprocesar sus contenidos y generar el dataset de entreno y testing\n",
    "import pandas as pd\n",
    "from pandas import DataFrame\n",
    "\n",
    "df = pd.read_csv('/home/zan/Downloads/deceptive-opinion.csv')\n",
    "\n",
    "print(df)"
   ]
  },
  {
   "cell_type": "code",
   "execution_count": 60,
   "metadata": {},
   "outputs": [
    {
     "output_type": "execute_result",
     "data": {
      "text/plain": [
       "  deceptive   hotel  polarity       source  \\\n",
       "0  truthful  conrad  positive  TripAdvisor   \n",
       "1  truthful   hyatt  positive  TripAdvisor   \n",
       "2  truthful   hyatt  positive  TripAdvisor   \n",
       "3  truthful    omni  positive  TripAdvisor   \n",
       "4  truthful   hyatt  positive  TripAdvisor   \n",
       "\n",
       "                                                text  \n",
       "0  We stayed for a one night getaway with family ...  \n",
       "1  Triple A rate with upgrade to view room was le...  \n",
       "2  This comes a little late as I'm finally catchi...  \n",
       "3  The Omni Chicago really delivers on all fronts...  \n",
       "4  I asked for a high floor away from the elevato...  "
      ],
      "text/html": "<div>\n<style scoped>\n    .dataframe tbody tr th:only-of-type {\n        vertical-align: middle;\n    }\n\n    .dataframe tbody tr th {\n        vertical-align: top;\n    }\n\n    .dataframe thead th {\n        text-align: right;\n    }\n</style>\n<table border=\"1\" class=\"dataframe\">\n  <thead>\n    <tr style=\"text-align: right;\">\n      <th></th>\n      <th>deceptive</th>\n      <th>hotel</th>\n      <th>polarity</th>\n      <th>source</th>\n      <th>text</th>\n    </tr>\n  </thead>\n  <tbody>\n    <tr>\n      <th>0</th>\n      <td>truthful</td>\n      <td>conrad</td>\n      <td>positive</td>\n      <td>TripAdvisor</td>\n      <td>We stayed for a one night getaway with family ...</td>\n    </tr>\n    <tr>\n      <th>1</th>\n      <td>truthful</td>\n      <td>hyatt</td>\n      <td>positive</td>\n      <td>TripAdvisor</td>\n      <td>Triple A rate with upgrade to view room was le...</td>\n    </tr>\n    <tr>\n      <th>2</th>\n      <td>truthful</td>\n      <td>hyatt</td>\n      <td>positive</td>\n      <td>TripAdvisor</td>\n      <td>This comes a little late as I'm finally catchi...</td>\n    </tr>\n    <tr>\n      <th>3</th>\n      <td>truthful</td>\n      <td>omni</td>\n      <td>positive</td>\n      <td>TripAdvisor</td>\n      <td>The Omni Chicago really delivers on all fronts...</td>\n    </tr>\n    <tr>\n      <th>4</th>\n      <td>truthful</td>\n      <td>hyatt</td>\n      <td>positive</td>\n      <td>TripAdvisor</td>\n      <td>I asked for a high floor away from the elevato...</td>\n    </tr>\n  </tbody>\n</table>\n</div>"
     },
     "metadata": {},
     "execution_count": 60
    }
   ],
   "source": [
    "df.head(5)"
   ]
  },
  {
   "cell_type": "code",
   "execution_count": 61,
   "metadata": {},
   "outputs": [],
   "source": [
    "## Replace missing values & eliminate duplicated values/etc.\n",
    "## Sustituir valores nulos/missing y eliminar valores duplicados \n"
   ]
  },
  {
   "cell_type": "code",
   "execution_count": 62,
   "metadata": {},
   "outputs": [
    {
     "output_type": "execute_result",
     "data": {
      "text/plain": [
       "  deceptive                                               text\n",
       "0  truthful  We stayed for a one night getaway with family ...\n",
       "1  truthful  Triple A rate with upgrade to view room was le...\n",
       "2  truthful  This comes a little late as I'm finally catchi...\n",
       "3  truthful  The Omni Chicago really delivers on all fronts...\n",
       "4  truthful  I asked for a high floor away from the elevato..."
      ],
      "text/html": "<div>\n<style scoped>\n    .dataframe tbody tr th:only-of-type {\n        vertical-align: middle;\n    }\n\n    .dataframe tbody tr th {\n        vertical-align: top;\n    }\n\n    .dataframe thead th {\n        text-align: right;\n    }\n</style>\n<table border=\"1\" class=\"dataframe\">\n  <thead>\n    <tr style=\"text-align: right;\">\n      <th></th>\n      <th>deceptive</th>\n      <th>text</th>\n    </tr>\n  </thead>\n  <tbody>\n    <tr>\n      <th>0</th>\n      <td>truthful</td>\n      <td>We stayed for a one night getaway with family ...</td>\n    </tr>\n    <tr>\n      <th>1</th>\n      <td>truthful</td>\n      <td>Triple A rate with upgrade to view room was le...</td>\n    </tr>\n    <tr>\n      <th>2</th>\n      <td>truthful</td>\n      <td>This comes a little late as I'm finally catchi...</td>\n    </tr>\n    <tr>\n      <th>3</th>\n      <td>truthful</td>\n      <td>The Omni Chicago really delivers on all fronts...</td>\n    </tr>\n    <tr>\n      <th>4</th>\n      <td>truthful</td>\n      <td>I asked for a high floor away from the elevato...</td>\n    </tr>\n  </tbody>\n</table>\n</div>"
     },
     "metadata": {},
     "execution_count": 62
    }
   ],
   "source": [
    "## Eliminate columns -- 1-3 as they won't contribute to the model\n",
    "## Eliminar columnas del 1 al 3 ya que no aportan informacion adiccional al modelo\n",
    "\n",
    "df = df.drop(df.columns[[1, 2, 3]], axis = 1)\n",
    "df.head(5)"
   ]
  },
  {
   "cell_type": "code",
   "execution_count": 63,
   "metadata": {},
   "outputs": [
    {
     "output_type": "stream",
     "name": "stdout",
     "text": [
      "800\n800\n"
     ]
    }
   ],
   "source": [
    "## The deceptive and truthful registers are balanced: 800 - 800\n",
    "## La clase deceptive esta balaneceada, tiene 800 registros deceptive y 800 registros truthful\n",
    "print(len(df[df['deceptive'] == 'truthful']))\n",
    "print(len(df[df['deceptive'] == 'deceptive']))"
   ]
  },
  {
   "cell_type": "code",
   "execution_count": 64,
   "metadata": {},
   "outputs": [],
   "source": [
    "## Limpiar texto, opinion del usuario para luego poder convertir la secuencia a vector\n",
    "\n",
    "from gensim import utils\n",
    "import gensim.parsing.preprocessing as gsp\n",
    "\n",
    "filters = [\n",
    "           gsp.strip_tags, \n",
    "           gsp.strip_punctuation,\n",
    "           gsp.strip_multiple_whitespaces,\n",
    "           gsp.strip_numeric,\n",
    "           gsp.remove_stopwords, \n",
    "           gsp.strip_short, \n",
    "           gsp.stem_text\n",
    "          ]\n",
    "\n",
    "def clean_text(s):\n",
    "    s = s.lower()\n",
    "    s = utils.to_unicode(s)\n",
    "    for f in filters:\n",
    "        s = f(s)\n",
    "    return s\n",
    "\n",
    "df['text'] = df['text'].apply(clean_text)"
   ]
  },
  {
   "cell_type": "code",
   "execution_count": 65,
   "metadata": {},
   "outputs": [],
   "source": [
    "## Generate training and testing dataset\n",
    "training_split = 0.75\n",
    "testing_split = 0.25\n",
    "pos_testing_split = 0.9 ## truthful + deceptive, los deceptive entre 5-10% de esta suma.\n",
    "neg_deceptive_split = 0.1\n",
    "\n",
    "deceptive_training = df[df.deceptive == 'truthful'].sample(frac = training_split)\n",
    "newdf = df.drop(deceptive_training.index.values)\n",
    "pos_deceptive_testing = newdf[newdf.deceptive == 'truthful'].sample(frac = pos_testing_split)\n",
    "neg_deceptive_testing = newdf[newdf.deceptive == 'deceptive'].sample(int(neg_deceptive_split * (testing_split * len(df[df.deceptive == 'truthful']))))\n",
    "\n",
    "frames = [pos_deceptive_testing, neg_deceptive_testing]\n",
    "deceptive_testing = pd.concat(frames)\n",
    "deceptive_testing = deceptive_testing.sample(frac = 1)"
   ]
  },
  {
   "cell_type": "code",
   "execution_count": 80,
   "metadata": {},
   "outputs": [],
   "source": [
    "## NLTK tokenizer\n",
    "\n",
    "import nltk\n",
    "import gensim\n",
    "from nltk.corpus import stopwords\n",
    "from gensim.models import Doc2Vec\n",
    "from gensim.models.doc2vec import TaggedDocument\n",
    "def tokenize_text(text):\n",
    "    tokens = []\n",
    "    for sent in nltk.sent_tokenize(text):\n",
    "        for word in nltk.word_tokenize(sent):\n",
    "            if len(word) < 2: ## solo las palabras con longitud > 2\n",
    "                continue\n",
    "            tokens.append(word.lower())\n",
    "    return tokens\n",
    "train_dec = deceptive_training.apply(\n",
    "    lambda x: TaggedDocument(words=tokenize_text(x['text']), tags=[x.deceptive]), axis=1)\n",
    "test_dec = deceptive_testing.apply(\n",
    "    lambda x: TaggedDocument(words=tokenize_text(x['text']), tags=[x.deceptive]), axis=1)"
   ]
  },
  {
   "cell_type": "code",
   "execution_count": 84,
   "metadata": {},
   "outputs": [
    {
     "output_type": "execute_result",
     "data": {
      "text/plain": [
       "TaggedDocument(words=['stai', 'night', 'getawai', 'famili', 'thursdai', 'tripl', 'aaa', 'rate', 'steal', 'floor', 'room', 'complet', 'plasma', 'bose', 'stereo', 'voss', 'evian', 'water', 'gorgeou', 'bathroom', 'tub', 'fine', 'concierg', 'help', 'beat', 'locat', 'flaw', 'breakfast', 'pricei', 'servic', 'slow', 'hour', 'kid', 'adult', 'fridai', 'morn', 'tabl', 'restaur', 'food', 'good', 'worth', 'wait', 'return', 'heartbeat', 'gem', 'chicago'], tags=['truthful'])"
      ]
     },
     "metadata": {},
     "execution_count": 84
    }
   ],
   "source": [
    "train_dec[0]"
   ]
  },
  {
   "cell_type": "code",
   "execution_count": 85,
   "metadata": {},
   "outputs": [],
   "source": [
    "## Build vocabulary using distributed bag of words\n",
    "import multiprocessing\n",
    "cores = multiprocessing.cpu_count()\n",
    "dbow = Doc2Vec(dm=0, vector_size = 200, negative=5, hs=0, min_count = 2, sample = 0, workers = cores)\n",
    "dbow.build_vocab(train_dec)"
   ]
  },
  {
   "cell_type": "code",
   "execution_count": 90,
   "metadata": {},
   "outputs": [
    {
     "output_type": "execute_result",
     "data": {
      "text/plain": [
       "array([-1.8037278e-03,  2.1953136e-03,  1.1495170e-03,  8.8310236e-04,\n",
       "       -1.6926166e-03,  1.6877520e-03, -1.5254492e-03,  2.4682661e-03,\n",
       "        9.6701650e-04, -2.0535148e-03,  3.6703848e-05,  1.1426355e-03,\n",
       "        1.7509202e-03,  1.7010007e-03,  2.3059329e-04, -2.2608542e-03,\n",
       "       -1.5779366e-03,  2.2881601e-03,  3.9826182e-04, -1.6058704e-03,\n",
       "       -4.0598362e-04, -3.5867936e-04,  8.4698251e-05, -1.3729396e-03,\n",
       "       -6.2670338e-04, -1.0128714e-03, -4.8350001e-04, -4.5406350e-04,\n",
       "       -2.1785991e-03,  3.6262529e-04,  1.7407745e-03, -2.8794174e-04,\n",
       "       -7.6318672e-04,  2.2440574e-03, -2.0945820e-03,  8.0177031e-04,\n",
       "        1.4793742e-03,  2.4855782e-03, -1.6187216e-03,  2.2508982e-03,\n",
       "       -2.3572525e-04, -1.7201689e-03, -2.3671582e-03,  1.1281503e-04,\n",
       "        1.2804486e-03,  1.3086082e-03, -4.3787647e-04,  2.3927134e-03,\n",
       "       -2.0401319e-03, -9.1459433e-04, -7.4702065e-04,  1.8326370e-03,\n",
       "        9.9530863e-04, -1.5859428e-03,  1.0500132e-04, -1.8105486e-03,\n",
       "       -3.2012549e-04,  1.9399822e-03, -9.5212687e-04,  9.2741265e-04,\n",
       "        1.6011184e-03,  1.0171727e-04,  9.8700868e-04,  2.3887302e-03,\n",
       "        5.2832282e-04,  5.8662752e-04, -7.9557992e-04, -1.6564759e-03,\n",
       "        9.0380677e-04, -1.3950975e-03,  8.7297789e-04,  7.5585215e-04,\n",
       "        1.2554808e-03,  8.4668829e-04,  1.4620890e-03, -1.9073841e-04,\n",
       "       -6.6653214e-05,  1.2131747e-03, -1.2073214e-03,  5.7862973e-04,\n",
       "       -5.5372622e-04, -4.6991787e-04,  5.0072325e-04,  3.4595444e-04,\n",
       "        9.9206064e-04, -2.4068349e-03, -1.1747528e-03, -1.1623460e-03,\n",
       "        1.0729259e-03,  1.0763841e-03, -9.0816786e-04, -1.0349684e-03,\n",
       "        8.1061135e-04,  6.4150634e-04, -2.2894822e-03, -4.9769745e-04,\n",
       "       -1.4319832e-03, -1.5067869e-03,  1.0021523e-03,  1.7965131e-03,\n",
       "        7.2745740e-04, -1.2891309e-03,  2.1125320e-03, -2.4152361e-03,\n",
       "        1.4226765e-03,  1.3251211e-03, -1.0629775e-03, -1.0627876e-03,\n",
       "       -1.7550584e-03,  1.8198513e-03, -4.1155545e-05,  1.9025556e-03,\n",
       "        1.1951758e-03,  9.3724026e-04, -2.1871355e-04,  1.1939595e-03,\n",
       "       -3.4815047e-04,  1.2591087e-03, -1.5710529e-03, -1.9654681e-03,\n",
       "       -6.3642638e-04,  2.0877069e-03,  2.1783628e-03,  1.9235039e-03,\n",
       "       -2.0365063e-03, -2.0108272e-03,  2.2211384e-03, -1.4217619e-03,\n",
       "        2.3006164e-03,  1.4523147e-03,  4.4512594e-04,  1.8637189e-04,\n",
       "       -1.0180393e-03,  1.1012148e-03, -2.1928390e-03,  3.1625142e-04,\n",
       "       -2.0492787e-03, -1.6990507e-03, -2.0684046e-03,  6.7551713e-04,\n",
       "        7.3155679e-06,  5.9007623e-05, -2.0642462e-03, -1.0947759e-03,\n",
       "       -4.9162854e-04, -5.0586893e-04, -5.3657650e-04, -1.7384496e-03,\n",
       "       -2.4016039e-03,  2.3108360e-03,  1.0667857e-03, -6.4491085e-04,\n",
       "       -1.9941283e-03,  2.8118919e-04, -2.3524463e-03,  2.4312972e-03,\n",
       "       -8.5549999e-04,  1.6046250e-03,  6.0945452e-04,  7.7462930e-04,\n",
       "        1.1163277e-03, -6.5539323e-04,  1.4039986e-03,  1.6415142e-03,\n",
       "        1.0187944e-03,  1.6439618e-03, -1.0430441e-03,  7.8194920e-04,\n",
       "       -4.0996098e-04, -1.0095713e-04, -2.2459850e-03,  4.9180043e-04,\n",
       "        1.3755995e-04, -1.3503172e-03,  9.1149408e-04, -3.9881974e-04,\n",
       "       -2.2592868e-03,  2.4190174e-04,  3.1569367e-04, -2.3642466e-03,\n",
       "        9.1268215e-04,  2.2676558e-04,  1.2184156e-03,  2.4581335e-03,\n",
       "        1.0376301e-03, -4.3818951e-04,  2.2119470e-03, -5.7724840e-04,\n",
       "       -1.8120389e-03,  9.0261790e-05, -8.8839611e-04, -2.9730989e-04,\n",
       "       -1.9767184e-03, -8.7268790e-04,  1.6982136e-03, -1.2662570e-04,\n",
       "        6.9328811e-04,  5.3090998e-04, -6.4465671e-04, -5.3176895e-04],\n",
       "      dtype=float32)"
      ]
     },
     "metadata": {},
     "execution_count": 90
    }
   ],
   "source": [
    "dbow['room']"
   ]
  },
  {
   "cell_type": "code",
   "execution_count": null,
   "metadata": {},
   "outputs": [],
   "source": [
    "%%time\n",
    "from sklearn import utils\n",
    "for epoch in range(30):\n",
    "    dbow.train(utils.shuffle([x for x in tqdm(train_dec.values)]), total_examples=len(train_dec.values), epochs=1)\n",
    "    dbow.alpha -= 0.002\n",
    "    dbow.min_alpha = dbow.alpha"
   ]
  },
  {
   "cell_type": "code",
   "execution_count": null,
   "metadata": {},
   "outputs": [],
   "source": [
    "def vec_for_learning(model, tagged_docs):\n",
    "    sents = tagged_docs.values\n",
    "    targets, regressors = zip(*[(doc.tags[0], model.infer_vector(doc.words, steps=20)) for doc in sents])\n",
    "    return targets, regressors"
   ]
  },
  {
   "cell_type": "code",
   "execution_count": null,
   "metadata": {},
   "outputs": [],
   "source": [
    "y_train, x_train = vec_for_learning(dbow, train_dec)\n",
    "y_test, x_test = vec_for_learning(dbow, test_dec)"
   ]
  },
  {
   "cell_type": "code",
   "execution_count": null,
   "metadata": {},
   "outputs": [],
   "source": [
    "import numpy as np\n",
    "\n",
    "summ = y_train + x_train\n",
    "summ\n",
    "#x_train, y_train = np.asarray(x_train).ravel(), np.asarray(y_train).ravel()\n",
    "#x_test, y_test = np.asarray(x_test), np.asarray(y_test)\n",
    "#x_train, y_train = x_train.tolist(), y_train.tolist()\n",
    "#deceptive_training = pd.DataFrame({'deceptive': y_train, 'text':x_train}, columns = ['deceptive','text'])\n",
    "#deceptive_training"
   ]
  },
  {
   "cell_type": "code",
   "execution_count": null,
   "metadata": {},
   "outputs": [],
   "source": [
    "deceptive_training.to_csv(index=False)\n",
    "deceptive_testing.to_csv(index=False)"
   ]
  }
 ]
}