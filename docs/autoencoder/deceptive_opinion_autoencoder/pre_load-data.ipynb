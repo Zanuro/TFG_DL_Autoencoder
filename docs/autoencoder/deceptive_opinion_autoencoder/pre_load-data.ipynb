{
 "metadata": {
  "language_info": {
   "codemirror_mode": {
    "name": "ipython",
    "version": 3
   },
   "file_extension": ".py",
   "mimetype": "text/x-python",
   "name": "python",
   "nbconvert_exporter": "python",
   "pygments_lexer": "ipython3",
   "version": "3.8.5-final"
  },
  "orig_nbformat": 2,
  "kernelspec": {
   "name": "python38564bit129eeb57289c44939b4863da13de07dc",
   "display_name": "Python 3.8.5 64-bit",
   "language": "python"
  }
 },
 "nbformat": 4,
 "nbformat_minor": 2,
 "cells": [
  {
   "cell_type": "code",
   "execution_count": 81,
   "metadata": {},
   "outputs": [
    {
     "output_type": "stream",
     "name": "stdout",
     "text": [
      "      deceptive             hotel  polarity       source  \\\n0      truthful            conrad  positive  TripAdvisor   \n1      truthful             hyatt  positive  TripAdvisor   \n2      truthful             hyatt  positive  TripAdvisor   \n3      truthful              omni  positive  TripAdvisor   \n4      truthful             hyatt  positive  TripAdvisor   \n...         ...               ...       ...          ...   \n1595  deceptive  intercontinental  negative        MTurk   \n1596  deceptive            amalfi  negative        MTurk   \n1597  deceptive  intercontinental  negative        MTurk   \n1598  deceptive            palmer  negative        MTurk   \n1599  deceptive            amalfi  negative        MTurk   \n\n                                                   text  \n0     We stayed for a one night getaway with family ...  \n1     Triple A rate with upgrade to view room was le...  \n2     This comes a little late as I'm finally catchi...  \n3     The Omni Chicago really delivers on all fronts...  \n4     I asked for a high floor away from the elevato...  \n...                                                 ...  \n1595  Problems started when I booked the InterContin...  \n1596  The Amalfi Hotel has a beautiful website and i...  \n1597  The Intercontinental Chicago Magnificent Mile ...  \n1598  The Palmer House Hilton, while it looks good i...  \n1599  As a former Chicagoan, I'm appalled at the Ama...  \n\n[1600 rows x 5 columns]\n"
     ]
    }
   ],
   "source": [
    "## Load data from a csv file, pre-process the content of it and then generate the training and test dataset\n",
    "## Cargar datos desde un fichero csv, preprocesar sus contenidos y generar el dataset de entreno y testing\n",
    "import pandas as pd\n",
    "from pandas import DataFrame\n",
    "\n",
    "df = pd.read_csv('/home/zan/Downloads/deceptive-opinion.csv')\n",
    "\n",
    "print(df)"
   ]
  },
  {
   "cell_type": "code",
   "execution_count": 82,
   "metadata": {},
   "outputs": [
    {
     "output_type": "execute_result",
     "data": {
      "text/plain": [
       "  deceptive   hotel  polarity       source  \\\n",
       "0  truthful  conrad  positive  TripAdvisor   \n",
       "1  truthful   hyatt  positive  TripAdvisor   \n",
       "2  truthful   hyatt  positive  TripAdvisor   \n",
       "3  truthful    omni  positive  TripAdvisor   \n",
       "4  truthful   hyatt  positive  TripAdvisor   \n",
       "\n",
       "                                                text  \n",
       "0  We stayed for a one night getaway with family ...  \n",
       "1  Triple A rate with upgrade to view room was le...  \n",
       "2  This comes a little late as I'm finally catchi...  \n",
       "3  The Omni Chicago really delivers on all fronts...  \n",
       "4  I asked for a high floor away from the elevato...  "
      ],
      "text/html": "<div>\n<style scoped>\n    .dataframe tbody tr th:only-of-type {\n        vertical-align: middle;\n    }\n\n    .dataframe tbody tr th {\n        vertical-align: top;\n    }\n\n    .dataframe thead th {\n        text-align: right;\n    }\n</style>\n<table border=\"1\" class=\"dataframe\">\n  <thead>\n    <tr style=\"text-align: right;\">\n      <th></th>\n      <th>deceptive</th>\n      <th>hotel</th>\n      <th>polarity</th>\n      <th>source</th>\n      <th>text</th>\n    </tr>\n  </thead>\n  <tbody>\n    <tr>\n      <th>0</th>\n      <td>truthful</td>\n      <td>conrad</td>\n      <td>positive</td>\n      <td>TripAdvisor</td>\n      <td>We stayed for a one night getaway with family ...</td>\n    </tr>\n    <tr>\n      <th>1</th>\n      <td>truthful</td>\n      <td>hyatt</td>\n      <td>positive</td>\n      <td>TripAdvisor</td>\n      <td>Triple A rate with upgrade to view room was le...</td>\n    </tr>\n    <tr>\n      <th>2</th>\n      <td>truthful</td>\n      <td>hyatt</td>\n      <td>positive</td>\n      <td>TripAdvisor</td>\n      <td>This comes a little late as I'm finally catchi...</td>\n    </tr>\n    <tr>\n      <th>3</th>\n      <td>truthful</td>\n      <td>omni</td>\n      <td>positive</td>\n      <td>TripAdvisor</td>\n      <td>The Omni Chicago really delivers on all fronts...</td>\n    </tr>\n    <tr>\n      <th>4</th>\n      <td>truthful</td>\n      <td>hyatt</td>\n      <td>positive</td>\n      <td>TripAdvisor</td>\n      <td>I asked for a high floor away from the elevato...</td>\n    </tr>\n  </tbody>\n</table>\n</div>"
     },
     "metadata": {},
     "execution_count": 82
    }
   ],
   "source": [
    "df.head(5)"
   ]
  },
  {
   "cell_type": "code",
   "execution_count": 83,
   "metadata": {},
   "outputs": [
    {
     "output_type": "execute_result",
     "data": {
      "text/plain": [
       "     deceptive    hotel  polarity source  \\\n",
       "803   truthful     omni  negative    Web   \n",
       "847   truthful     omni  negative    Web   \n",
       "853   truthful     omni  negative    Web   \n",
       "862   truthful     omni  negative    Web   \n",
       "995   truthful  affinia  negative    Web   \n",
       "1014  truthful  affinia  negative    Web   \n",
       "1085  truthful   monaco  negative    Web   \n",
       "1109  truthful   monaco  negative    Web   \n",
       "\n",
       "                                                   text  \n",
       "803   My daughter and I woke in the morning wanting ...  \n",
       "847   The Omni was chosen for it's location whichwor...  \n",
       "853   My daughter and I woke in the morning wanting ...  \n",
       "862   The Omni was chosen for it's location whichwor...  \n",
       "995   I'd been searching for a cool, non-chain hotel...  \n",
       "1014  I'd been searching for a cool, non-chain hotel...  \n",
       "1085  Very disappointed in our stay in Chicago Monoc...  \n",
       "1109  Very disappointed in our stay in Chicago Monoc...  "
      ],
      "text/html": "<div>\n<style scoped>\n    .dataframe tbody tr th:only-of-type {\n        vertical-align: middle;\n    }\n\n    .dataframe tbody tr th {\n        vertical-align: top;\n    }\n\n    .dataframe thead th {\n        text-align: right;\n    }\n</style>\n<table border=\"1\" class=\"dataframe\">\n  <thead>\n    <tr style=\"text-align: right;\">\n      <th></th>\n      <th>deceptive</th>\n      <th>hotel</th>\n      <th>polarity</th>\n      <th>source</th>\n      <th>text</th>\n    </tr>\n  </thead>\n  <tbody>\n    <tr>\n      <th>803</th>\n      <td>truthful</td>\n      <td>omni</td>\n      <td>negative</td>\n      <td>Web</td>\n      <td>My daughter and I woke in the morning wanting ...</td>\n    </tr>\n    <tr>\n      <th>847</th>\n      <td>truthful</td>\n      <td>omni</td>\n      <td>negative</td>\n      <td>Web</td>\n      <td>The Omni was chosen for it's location whichwor...</td>\n    </tr>\n    <tr>\n      <th>853</th>\n      <td>truthful</td>\n      <td>omni</td>\n      <td>negative</td>\n      <td>Web</td>\n      <td>My daughter and I woke in the morning wanting ...</td>\n    </tr>\n    <tr>\n      <th>862</th>\n      <td>truthful</td>\n      <td>omni</td>\n      <td>negative</td>\n      <td>Web</td>\n      <td>The Omni was chosen for it's location whichwor...</td>\n    </tr>\n    <tr>\n      <th>995</th>\n      <td>truthful</td>\n      <td>affinia</td>\n      <td>negative</td>\n      <td>Web</td>\n      <td>I'd been searching for a cool, non-chain hotel...</td>\n    </tr>\n    <tr>\n      <th>1014</th>\n      <td>truthful</td>\n      <td>affinia</td>\n      <td>negative</td>\n      <td>Web</td>\n      <td>I'd been searching for a cool, non-chain hotel...</td>\n    </tr>\n    <tr>\n      <th>1085</th>\n      <td>truthful</td>\n      <td>monaco</td>\n      <td>negative</td>\n      <td>Web</td>\n      <td>Very disappointed in our stay in Chicago Monoc...</td>\n    </tr>\n    <tr>\n      <th>1109</th>\n      <td>truthful</td>\n      <td>monaco</td>\n      <td>negative</td>\n      <td>Web</td>\n      <td>Very disappointed in our stay in Chicago Monoc...</td>\n    </tr>\n  </tbody>\n</table>\n</div>"
     },
     "metadata": {},
     "execution_count": 83
    }
   ],
   "source": [
    "## Replace missing values & eliminate duplicated values/etc.\n",
    "## Sustituir valores nulos/missing y eliminar valores duplicados \n",
    "## 1.Data Cleaning: missing data, noisy data\n",
    "missing_values = [\"n/a\", \"na\", \"--\"]\n",
    "df.isnull().values.any()\n",
    "df.isnull().sum() ## No hay valores de tipo missing\n",
    "df[df.duplicated(keep=False)] ## 803-853, 847-862,  995-1014, 1085-1109\n",
    "#df = df.drop_duplicates() ## Hay cuatro duplicados en el dataset\n",
    "## Eliminar datos que no nos interesan para nuestro entrenamiento\n",
    "## df = df.drop(df.columns[[1, 2, 3]], axis = 1)\n",
    "\n",
    "\n",
    "#df.iloc[803] == df.iloc[853]\n",
    "#df.iloc[803].equals(df.iloc[853])"
   ]
  },
  {
   "cell_type": "code",
   "execution_count": 84,
   "metadata": {},
   "outputs": [
    {
     "output_type": "execute_result",
     "data": {
      "text/plain": [
       "  deceptive                                               text\n",
       "0  truthful  We stayed for a one night getaway with family ...\n",
       "1  truthful  Triple A rate with upgrade to view room was le...\n",
       "2  truthful  This comes a little late as I'm finally catchi...\n",
       "3  truthful  The Omni Chicago really delivers on all fronts...\n",
       "4  truthful  I asked for a high floor away from the elevato..."
      ],
      "text/html": "<div>\n<style scoped>\n    .dataframe tbody tr th:only-of-type {\n        vertical-align: middle;\n    }\n\n    .dataframe tbody tr th {\n        vertical-align: top;\n    }\n\n    .dataframe thead th {\n        text-align: right;\n    }\n</style>\n<table border=\"1\" class=\"dataframe\">\n  <thead>\n    <tr style=\"text-align: right;\">\n      <th></th>\n      <th>deceptive</th>\n      <th>text</th>\n    </tr>\n  </thead>\n  <tbody>\n    <tr>\n      <th>0</th>\n      <td>truthful</td>\n      <td>We stayed for a one night getaway with family ...</td>\n    </tr>\n    <tr>\n      <th>1</th>\n      <td>truthful</td>\n      <td>Triple A rate with upgrade to view room was le...</td>\n    </tr>\n    <tr>\n      <th>2</th>\n      <td>truthful</td>\n      <td>This comes a little late as I'm finally catchi...</td>\n    </tr>\n    <tr>\n      <th>3</th>\n      <td>truthful</td>\n      <td>The Omni Chicago really delivers on all fronts...</td>\n    </tr>\n    <tr>\n      <th>4</th>\n      <td>truthful</td>\n      <td>I asked for a high floor away from the elevato...</td>\n    </tr>\n  </tbody>\n</table>\n</div>"
     },
     "metadata": {},
     "execution_count": 84
    }
   ],
   "source": [
    "## 2.Data transformation: normalization, attribute selection, discretization, hierarchy generation\n",
    "\n",
    "## Normalizacion de los datos dentro de un cierto intervalo: no es necesario al no tener campos con valores continuos\n",
    "## Seleccionamos solo aquellas caracteristicas que nos interesen\n",
    "## Eliminate columns -- 1-3 as they won't contribute to the model\n",
    "## Eliminar columnas del 1 al 3 ya que no aportan informacion adiccional al modelo\n",
    "\n",
    "df = df.drop(df.columns[[1, 2, 3]], axis = 1)\n",
    "df.head(5)\n"
   ]
  },
  {
   "cell_type": "code",
   "execution_count": 85,
   "metadata": {},
   "outputs": [
    {
     "output_type": "stream",
     "name": "stdout",
     "text": [
      "800\n800\n"
     ]
    }
   ],
   "source": [
    "## The deceptive and truthful registers are balanced: 800 - 800\n",
    "## La clase deceptive esta balaneceada, tiene 800 registros deceptive y 800 registros truthful\n",
    "print(len(df[df['deceptive'] == 'truthful']))\n",
    "print(len(df[df['deceptive'] == 'deceptive']))"
   ]
  },
  {
   "cell_type": "code",
   "execution_count": 210,
   "metadata": {},
   "outputs": [],
   "source": [
    "## 3.Data Reduction: Data Cube aggregation, attribute subset selection, numerosity reduction, dimensionality reduction\n",
    "\n",
    "## Esta parte nos interesaria para modificar y convertir las opiniones de texto a un vectores de pesos(int) "
   ]
  },
  {
   "cell_type": "code",
   "execution_count": 86,
   "metadata": {},
   "outputs": [
    {
     "output_type": "execute_result",
     "data": {
      "text/plain": [
       "\"I stayed this hotel for 2 nights. I had high hopes seeing as this is a 4 star hotel and seems quite elegant based on pictures I've seen. Upon entering the building, you can easily see that it is clean and high class. The lobby was nice, and everything seemed as it should be. However, as soon as I made it into my room, it was completely different than everything previous to it. It was dirty, visible yellow stains on the walls and all around the restroom. The room too was not completely organized as all other hotel rooms I've been to. There was also a lingering smell from the last tenants. When I called the front desk about these issues, they sent someone up to fix it. I left the hotel about two hours and upon returning, they were still at it! This is an unreasonable amount of time to fix these glaring errors. The smell also did not completely disappear when they were done. As I was too tired, I just decided to deal with it for the rest of my stay here and focus on enjoying my vacation at Chicago instead. I hope its shallow exterior does not fool others like it fooled me.\\n\""
      ]
     },
     "metadata": {},
     "execution_count": 86
    }
   ],
   "source": [
    "df['text'][1500]"
   ]
  },
  {
   "cell_type": "code",
   "execution_count": 261,
   "metadata": {},
   "outputs": [],
   "source": [
    "#new_row = {'deceptive': 'truthful', 'text': 'This game action takes place in the medieval era where knights and kings fought along!'}\n",
    "#df = df.append(new_row, ignore_index=True)\n",
    "#df2 = pd.DataFrame([\"truthful\", \"We liked this hotel a lot we thoroughly recommend it\"], columns=[\"deceptive\", \"text\"], index=[1600])\n",
    "#df = df.append(df2)"
   ]
  },
  {
   "cell_type": "code",
   "execution_count": 87,
   "metadata": {},
   "outputs": [
    {
     "output_type": "execute_result",
     "data": {
      "text/plain": [
       "      deceptive                                               text\n",
       "0      truthful  We stayed for a one night getaway with family ...\n",
       "1      truthful  Triple A rate with upgrade to view room was le...\n",
       "2      truthful  This comes a little late as I'm finally catchi...\n",
       "3      truthful  The Omni Chicago really delivers on all fronts...\n",
       "4      truthful  I asked for a high floor away from the elevato...\n",
       "...         ...                                                ...\n",
       "1595  deceptive  Problems started when I booked the InterContin...\n",
       "1596  deceptive  The Amalfi Hotel has a beautiful website and i...\n",
       "1597  deceptive  The Intercontinental Chicago Magnificent Mile ...\n",
       "1598  deceptive  The Palmer House Hilton, while it looks good i...\n",
       "1599  deceptive  As a former Chicagoan, I'm appalled at the Ama...\n",
       "\n",
       "[1600 rows x 2 columns]"
      ],
      "text/html": "<div>\n<style scoped>\n    .dataframe tbody tr th:only-of-type {\n        vertical-align: middle;\n    }\n\n    .dataframe tbody tr th {\n        vertical-align: top;\n    }\n\n    .dataframe thead th {\n        text-align: right;\n    }\n</style>\n<table border=\"1\" class=\"dataframe\">\n  <thead>\n    <tr style=\"text-align: right;\">\n      <th></th>\n      <th>deceptive</th>\n      <th>text</th>\n    </tr>\n  </thead>\n  <tbody>\n    <tr>\n      <th>0</th>\n      <td>truthful</td>\n      <td>We stayed for a one night getaway with family ...</td>\n    </tr>\n    <tr>\n      <th>1</th>\n      <td>truthful</td>\n      <td>Triple A rate with upgrade to view room was le...</td>\n    </tr>\n    <tr>\n      <th>2</th>\n      <td>truthful</td>\n      <td>This comes a little late as I'm finally catchi...</td>\n    </tr>\n    <tr>\n      <th>3</th>\n      <td>truthful</td>\n      <td>The Omni Chicago really delivers on all fronts...</td>\n    </tr>\n    <tr>\n      <th>4</th>\n      <td>truthful</td>\n      <td>I asked for a high floor away from the elevato...</td>\n    </tr>\n    <tr>\n      <th>...</th>\n      <td>...</td>\n      <td>...</td>\n    </tr>\n    <tr>\n      <th>1595</th>\n      <td>deceptive</td>\n      <td>Problems started when I booked the InterContin...</td>\n    </tr>\n    <tr>\n      <th>1596</th>\n      <td>deceptive</td>\n      <td>The Amalfi Hotel has a beautiful website and i...</td>\n    </tr>\n    <tr>\n      <th>1597</th>\n      <td>deceptive</td>\n      <td>The Intercontinental Chicago Magnificent Mile ...</td>\n    </tr>\n    <tr>\n      <th>1598</th>\n      <td>deceptive</td>\n      <td>The Palmer House Hilton, while it looks good i...</td>\n    </tr>\n    <tr>\n      <th>1599</th>\n      <td>deceptive</td>\n      <td>As a former Chicagoan, I'm appalled at the Ama...</td>\n    </tr>\n  </tbody>\n</table>\n<p>1600 rows × 2 columns</p>\n</div>"
     },
     "metadata": {},
     "execution_count": 87
    }
   ],
   "source": [
    "df"
   ]
  },
  {
   "source": [
    "## Limpiar texto"
   ],
   "cell_type": "markdown",
   "metadata": {}
  },
  {
   "cell_type": "code",
   "execution_count": 88,
   "metadata": {},
   "outputs": [
    {
     "output_type": "execute_result",
     "data": {
      "text/plain": [
       "[('the', 12772),\n",
       " ('and', 7735),\n",
       " ('to', 6671),\n",
       " ('a', 6312),\n",
       " ('I', 5941),\n",
       " ('was', 5777),\n",
       " ('in', 3587)]"
      ]
     },
     "metadata": {},
     "execution_count": 88
    }
   ],
   "source": [
    "from collections import Counter\n",
    "Counter(\" \".join(df[\"text\"]).split()).most_common(7)"
   ]
  },
  {
   "cell_type": "code",
   "execution_count": 89,
   "metadata": {},
   "outputs": [],
   "source": [
    "from collections import Counter\n",
    "from gensim.parsing.preprocessing import strip_multiple_whitespaces\n",
    "\n",
    "for x in Counter(\" \".join(df[\"text\"]).split()).most_common(7):\n",
    "    df['text'] = df['text'].str.replace(x[0], '')"
   ]
  },
  {
   "cell_type": "code",
   "execution_count": 90,
   "metadata": {},
   "outputs": [],
   "source": [
    "## Limpiar texto, opinion del usuario para luego poder convertir la secuencia a vector\n",
    "\n",
    "from gensim import utils\n",
    "import gensim.parsing.preprocessing as gsp\n",
    "\n",
    "filters = [\n",
    "           gsp.strip_tags, \n",
    "           gsp.strip_punctuation, \n",
    "           gsp.strip_multiple_whitespaces, \n",
    "           gsp.strip_numeric, \n",
    "           #gsp.strip_short,\n",
    "           #gsp.remove_stopwords, \n",
    "           gsp.stem_text\n",
    "          ]\n",
    "\n",
    "def clean_text(s):\n",
    "    s = s.lower()\n",
    "    s = utils.to_unicode(s)\n",
    "    for f in filters:\n",
    "        s = f(s)\n",
    "    return s\n",
    "\n",
    "df['text'] = df['text'].apply(clean_text)"
   ]
  },
  {
   "cell_type": "code",
   "execution_count": 35,
   "metadata": {},
   "outputs": [],
   "source": [
    "## Es posible que no sea necesario quitar los stopwords porque convirtiria: I will not be returning(negativo). en --> return(positivo)"
   ]
  },
  {
   "cell_type": "code",
   "execution_count": 91,
   "metadata": {},
   "outputs": [
    {
     "output_type": "execute_result",
     "data": {
      "text/plain": [
       "'the amlfi hotel hs beuti websit terior decortg but tht s bout it when my wife got here we were given kei room tht hd not even been clene the nternet ccess promis on hotel s websit ws down so couldn t ctch up on ny of busess hd tend do my wife thought tht drk design detil room mde her feel clustrophob like she ws sleepg side slvdor dli ptg all ll thi hotel ws not worth monei especilli sce we spent most of our time enjoyg citi somethg more csul comfortbl would hve been better it would probbl hve been clener o'"
      ]
     },
     "metadata": {},
     "execution_count": 91
    }
   ],
   "source": [
    "df['text'][1596]"
   ]
  },
  {
   "cell_type": "code",
   "execution_count": 92,
   "metadata": {},
   "outputs": [],
   "source": [
    "## Generate training and testing dataset\n",
    "training_split = 0.75\n",
    "testing_split = 0.25\n",
    "pos_testing_split = 0.9 ## truthful + deceptive, los deceptive entre 5-10% de esta suma.\n",
    "neg_deceptive_split = 0.1\n",
    "\n",
    "deceptive_training = df[df.deceptive == 'truthful'].sample(frac = training_split)\n",
    "newdf = df.drop(deceptive_training.index.values)\n",
    "pos_deceptive_testing = newdf[newdf.deceptive == 'truthful'].sample(frac = pos_testing_split)\n",
    "neg_deceptive_testing = newdf[newdf.deceptive == 'deceptive'].sample(int(neg_deceptive_split * (testing_split * len(df[df.deceptive == 'truthful']))))\n",
    "\n",
    "frames = [pos_deceptive_testing, neg_deceptive_testing]\n",
    "deceptive_testing = pd.concat(frames)\n",
    "deceptive_testing = deceptive_testing.sample(frac = 1)"
   ]
  },
  {
   "cell_type": "code",
   "execution_count": 268,
   "metadata": {},
   "outputs": [],
   "source": [
    "\"\"\"\n",
    "Usada solo para ver el comportamiento del doc2vec\n",
    "if deceptive_training['text'].str.contains('thi game action take place  mediev era where knight  king fought along').any() == False:\n",
    "    new_row = {'deceptive': 'truthful', 'text': 'thi game action take place  mediev era where knight  king fought along'}\n",
    "    deceptive_training = deceptive_training.append(new_row, ignore_index=True)\n",
    "\"\"\""
   ]
  },
  {
   "cell_type": "code",
   "execution_count": 270,
   "metadata": {},
   "outputs": [
    {
     "output_type": "execute_result",
     "data": {
      "text/plain": [
       "True"
      ]
     },
     "metadata": {},
     "execution_count": 270
    }
   ],
   "source": [
    "#deceptive_training['text'].str.contains('thi game action take place  mediev era where knight  king fought along').any()"
   ]
  },
  {
   "cell_type": "code",
   "execution_count": 93,
   "metadata": {},
   "outputs": [
    {
     "output_type": "execute_result",
     "data": {
      "text/plain": [
       "     deceptive                                               text\n",
       "906   truthful  gret bed but when first cme request room with ...\n",
       "1099  truthful  hve sty hotel ll over world thi is probbl wors...\n",
       "912   truthful  just hd confer re thei hve bed bug hve ll se b...\n",
       "21    truthful  we went chicgo see n exhibit t art nstitut sel...\n",
       "938   truthful  from check deprtur poorli run hotel t ok mute ...\n",
       "...        ...                                                ...\n",
       "74    truthful  from moment step up front entrnc my luxuri ser...\n",
       "255   truthful  sty t monco on my wy skig t ester love it stff...\n",
       "1075  truthful  our non smokg room smell veri bdly of stle cig...\n",
       "1013  truthful  ani trveler who is loyl fvorit hotel hs experi...\n",
       "56    truthful  sty here for night for bridgesn firesn convent...\n",
       "\n",
       "[600 rows x 2 columns]"
      ],
      "text/html": "<div>\n<style scoped>\n    .dataframe tbody tr th:only-of-type {\n        vertical-align: middle;\n    }\n\n    .dataframe tbody tr th {\n        vertical-align: top;\n    }\n\n    .dataframe thead th {\n        text-align: right;\n    }\n</style>\n<table border=\"1\" class=\"dataframe\">\n  <thead>\n    <tr style=\"text-align: right;\">\n      <th></th>\n      <th>deceptive</th>\n      <th>text</th>\n    </tr>\n  </thead>\n  <tbody>\n    <tr>\n      <th>906</th>\n      <td>truthful</td>\n      <td>gret bed but when first cme request room with ...</td>\n    </tr>\n    <tr>\n      <th>1099</th>\n      <td>truthful</td>\n      <td>hve sty hotel ll over world thi is probbl wors...</td>\n    </tr>\n    <tr>\n      <th>912</th>\n      <td>truthful</td>\n      <td>just hd confer re thei hve bed bug hve ll se b...</td>\n    </tr>\n    <tr>\n      <th>21</th>\n      <td>truthful</td>\n      <td>we went chicgo see n exhibit t art nstitut sel...</td>\n    </tr>\n    <tr>\n      <th>938</th>\n      <td>truthful</td>\n      <td>from check deprtur poorli run hotel t ok mute ...</td>\n    </tr>\n    <tr>\n      <th>...</th>\n      <td>...</td>\n      <td>...</td>\n    </tr>\n    <tr>\n      <th>74</th>\n      <td>truthful</td>\n      <td>from moment step up front entrnc my luxuri ser...</td>\n    </tr>\n    <tr>\n      <th>255</th>\n      <td>truthful</td>\n      <td>sty t monco on my wy skig t ester love it stff...</td>\n    </tr>\n    <tr>\n      <th>1075</th>\n      <td>truthful</td>\n      <td>our non smokg room smell veri bdly of stle cig...</td>\n    </tr>\n    <tr>\n      <th>1013</th>\n      <td>truthful</td>\n      <td>ani trveler who is loyl fvorit hotel hs experi...</td>\n    </tr>\n    <tr>\n      <th>56</th>\n      <td>truthful</td>\n      <td>sty here for night for bridgesn firesn convent...</td>\n    </tr>\n  </tbody>\n</table>\n<p>600 rows × 2 columns</p>\n</div>"
     },
     "metadata": {},
     "execution_count": 93
    }
   ],
   "source": [
    "deceptive_training"
   ]
  },
  {
   "cell_type": "code",
   "execution_count": 94,
   "metadata": {},
   "outputs": [
    {
     "output_type": "execute_result",
     "data": {
      "text/plain": [
       "'over hype over price the fct tht y hve complimentri we recept everi night t doesnt tke wy from fct tht y hve terribl bed plce isnt s clen s it should be for str hotel the hllwy smell like dog prlor crpet my room look like y hdn t been clene well ever the decort pillow on my bed were so filthi y were ctulli sted brown look like y hd been sittg outsid for everyon us n put bck on my bed the decor of hotel ws nice eclect but it wsnt enough convc me ever sty here g the bed ws most uncomfortbl thg hve everi tri sleep on couldnt sleep whole week tht sty re t ws hrd lumpi pillow were ty my fl sy is tht it is n over price holidi nn'"
      ]
     },
     "metadata": {},
     "execution_count": 94
    }
   ],
   "source": [
    "deceptive_training['text'][1050]"
   ]
  },
  {
   "cell_type": "code",
   "execution_count": 128,
   "metadata": {},
   "outputs": [
    {
     "output_type": "stream",
     "name": "stdout",
     "text": [
      "0    [on, night, getai, with, famili, thursdai, tri...\n1    [tripl, rate, with, upgrad, view, less, than, ...\n2    [thi, come, littl, late, final, catch, review,...\n3    [omni, chicago, realli, deliv, all, front, fro...\n4    [ask, high, floor, ai, from, elev, that, what,...\n5    [omni, on, night, follow, busi, meet, anoth, d...\n6    [conrad, night, just, be, thanksgiv, had, corn...\n7    [just, got, back, from, dai, chicago, shop, wi...\n8    [arriv, omni, septemb, dai, took, ill, when, l...\n9    [our, visit, chicago, chose, hyatt, due, it, l...\nName: text, dtype: object\n"
     ]
    }
   ],
   "source": [
    "\"\"\"\n",
    "from gensim.utils import simple_preprocess\n",
    "deceptive_training['text'] = [simple_preprocess(line, deacc=True) for line in deceptive_training['text']]\n",
    "print(deceptive_training['text'].head(10))\n",
    "\"\"\""
   ]
  },
  {
   "cell_type": "code",
   "execution_count": 95,
   "metadata": {},
   "outputs": [],
   "source": [
    "## NLTK tokenizer\n",
    "\n",
    "import nltk\n",
    "import gensim\n",
    "from nltk.corpus import stopwords\n",
    "from gensim.models import Doc2Vec\n",
    "from gensim.models.doc2vec import TaggedDocument\n",
    "def tokenize_text(text):\n",
    "    tokens = []\n",
    "    for sent in nltk.sent_tokenize(text):\n",
    "        for word in nltk.word_tokenize(sent):\n",
    "            if len(word) < 2: ## solo las palabras con longitud >= 2 se tokenizan\n",
    "                continue\n",
    "            tokens.append(word.lower())\n",
    "    return tokens\n",
    "train_dec = deceptive_training.apply(\n",
    "    lambda x: TaggedDocument(words=tokenize_text(x['text']), tags=[x.deceptive]), axis=1)\n",
    "test_dec = deceptive_testing.apply(\n",
    "    lambda x: TaggedDocument(words=tokenize_text(x['text']), tags=[x.deceptive]), axis=1)"
   ]
  },
  {
   "cell_type": "code",
   "execution_count": 70,
   "metadata": {},
   "outputs": [
    {
     "output_type": "execute_result",
     "data": {
      "text/plain": [
       "'\\ndbow = Doc2Vec(dm=1, vector_size = 200, negative=5, window = 3, min_count = 2, sample = 0, workers = cores)\\nvec = dbow.infer_vector(df[\\'text\\'][50])\\nprint(df[\\'text\\'][50])\\nprint(len(vec))\\nprint(\"Top 10 values in Doc2Vec inferred vector:\")\\nprint(vec[:10])\\n'"
      ]
     },
     "metadata": {},
     "execution_count": 70
    }
   ],
   "source": [
    "\"\"\"\n",
    "dbow = Doc2Vec(dm=1, vector_size = 200, negative=5, window = 3, min_count = 2, sample = 0, workers = cores)\n",
    "vec = dbow.infer_vector(df['text'][50])\n",
    "print(df['text'][50])\n",
    "print(len(vec))\n",
    "print(\"Top 10 values in Doc2Vec inferred vector:\")\n",
    "print(vec[:10])\n",
    "\"\"\""
   ]
  },
  {
   "cell_type": "code",
   "execution_count": 96,
   "metadata": {},
   "outputs": [
    {
     "output_type": "execute_result",
     "data": {
      "text/plain": [
       "TaggedDocument(words=['my', 'sister', 'sty', 'on', 'nd', 'floor', 're', 'ws', 'refrigerr', 'hllwy', 'for', 'first', 'three', 'night', 'bet', 'up', 'old', 'dorm', 'style', 'ws', 'not', 'until', 'we', 'ld', 'concierg', 'tht', 'we', 'were', 'gog', 'post', 'pictur', 'we', 'ok', 'of', 'it', 'on', 'tripdvisor', 'did', 'thg', 'get', 'remov', 'brekfst', 'dish', 'left', 'outsid', 'room', 'will', 'sty', 'on', 'floor', 'for', 'dy', 'or', 'two', 'rout', 'all', 'night', 're', 're', 'chime', 'tht', 'mke', 'nois', 'tht', 're', 'suppos', 'be', 'comformtg', 'or', 'relxg', 'rr', 're', 'just', 'nnoyg', 'there', 'is', 'no', 'wifi', 'no', 'mtter', 'wht', 'tell', 'you', 'pid', 'for', 'wifi', 'still', 'we', 'were', 'unbl', 'get', 'on', 'lstly', 'my', 'sister', 'split', 'bill', 'hd', 'lredi', 'pid', 'for', 'first', 'night', 'form', 'of', 'deposit', 'gve', 'her', 'credit', 'room', 'cost', 'with', 'citi', 'txe', 'etc', 'ws', 'night', 'know', 'comfort', 'nn', 'just', 'few', 'block', 'wy', 'is', 'significntli', 'cheper', 'so', 'while', 'view', 'ws', 'wonder', 'it', 'is', 'not', 'worth', 'monei'], tags=['truthful'])"
      ]
     },
     "metadata": {},
     "execution_count": 96
    }
   ],
   "source": [
    "train_dec[1108]"
   ]
  },
  {
   "cell_type": "code",
   "execution_count": 72,
   "metadata": {},
   "outputs": [
    {
     "output_type": "execute_result",
     "data": {
      "text/plain": [
       "'\\nUtilizado solo en el ejemplo en el que se ha anadido una nueva entrada para ver que entrada le corresponde\\ncount = 0\\nfor x in train_dec.index:\\n    if x != 1596:\\n        count +=1\\n    else:\\n        break\\ncount\\n'"
      ]
     },
     "metadata": {},
     "execution_count": 72
    }
   ],
   "source": [
    "\"\"\"\n",
    "Utilizado solo en el ejemplo en el que se ha anadido una nueva entrada para ver que entrada le corresponde\n",
    "count = 0\n",
    "for x in train_dec.index:\n",
    "    if x != 1596:\n",
    "        count +=1\n",
    "    else:\n",
    "        break\n",
    "count\n",
    "\"\"\""
   ]
  },
  {
   "cell_type": "code",
   "execution_count": 97,
   "metadata": {},
   "outputs": [
    {
     "output_type": "stream",
     "name": "stderr",
     "text": [
      "100%|██████████| 600/600 [00:00<00:00, 1230001.17it/s]\n"
     ]
    }
   ],
   "source": [
    "## Build vocabulary using distributed bag of words\n",
    "from tqdm import tqdm\n",
    "import multiprocessing\n",
    "cores = multiprocessing.cpu_count()\n",
    "dbow = Doc2Vec(dm=1, vector_size = 300, window = 7, min_count = 2, sample = 0, workers = cores)\n",
    "dbow.build_vocab([x for x in tqdm(train_dec.values)])"
   ]
  },
  {
   "cell_type": "code",
   "execution_count": 98,
   "metadata": {},
   "outputs": [
    {
     "output_type": "stream",
     "name": "stderr",
     "text": [
      "100%|██████████| 600/600 [00:00<00:00, 1111564.66it/s]\n",
      "100%|██████████| 600/600 [00:00<00:00, 2130891.11it/s]\n",
      "100%|██████████| 600/600 [00:00<00:00, 1729609.90it/s]\n",
      "100%|██████████| 600/600 [00:00<00:00, 1448809.67it/s]\n",
      "100%|██████████| 600/600 [00:00<00:00, 1409850.08it/s]\n",
      "100%|██████████| 600/600 [00:00<00:00, 1915207.31it/s]\n",
      "100%|██████████| 600/600 [00:00<00:00, 1739172.36it/s]\n",
      "100%|██████████| 600/600 [00:00<00:00, 1605987.49it/s]\n",
      "100%|██████████| 600/600 [00:00<00:00, 2021351.33it/s]\n",
      "100%|██████████| 600/600 [00:00<00:00, 1395001.33it/s]\n",
      "100%|██████████| 600/600 [00:00<00:00, 1737971.27it/s]\n",
      "100%|██████████| 600/600 [00:00<00:00, 690989.13it/s]\n",
      "100%|██████████| 600/600 [00:00<00:00, 1657827.67it/s]\n",
      "100%|██████████| 600/600 [00:00<00:00, 794877.57it/s]\n",
      "100%|██████████| 600/600 [00:00<00:00, 1447143.42it/s]\n",
      "100%|██████████| 600/600 [00:00<00:00, 1233014.40it/s]\n",
      "100%|██████████| 600/600 [00:00<00:00, 658963.71it/s]\n",
      "100%|██████████| 600/600 [00:00<00:00, 1723686.58it/s]\n",
      "100%|██████████| 600/600 [00:00<00:00, 1408272.19it/s]\n",
      "100%|██████████| 600/600 [00:00<00:00, 1729609.90it/s]\n",
      "100%|██████████| 600/600 [00:00<00:00, 1886493.55it/s]\n",
      "100%|██████████| 600/600 [00:00<00:00, 1523354.96it/s]\n",
      "100%|██████████| 600/600 [00:00<00:00, 1995703.73it/s]\n",
      "100%|██████████| 600/600 [00:00<00:00, 893990.20it/s]\n",
      "100%|██████████| 600/600 [00:00<00:00, 1584749.62it/s]\n",
      "100%|██████████| 600/600 [00:00<00:00, 1886493.55it/s]\n",
      "100%|██████████| 600/600 [00:00<00:00, 1566012.69it/s]\n",
      "100%|██████████| 600/600 [00:00<00:00, 922500.88it/s]\n",
      "100%|██████████| 600/600 [00:00<00:00, 1586748.05it/s]\n",
      "100%|██████████| 600/600 [00:00<00:00, 1004623.71it/s]\n",
      "100%|██████████| 600/600 [00:00<00:00, 1987821.80it/s]\n",
      "100%|██████████| 600/600 [00:00<00:00, 562113.56it/s]\n",
      "100%|██████████| 600/600 [00:00<00:00, 155325.42it/s]\n",
      "100%|██████████| 600/600 [00:00<00:00, 1378194.09it/s]\n",
      "100%|██████████| 600/600 [00:00<00:00, 1312086.76it/s]\n",
      "100%|██████████| 600/600 [00:00<00:00, 547440.16it/s]\n",
      "100%|██████████| 600/600 [00:00<00:00, 1335056.98it/s]\n",
      "100%|██████████| 600/600 [00:00<00:00, 1447976.06it/s]\n",
      "100%|██████████| 600/600 [00:00<00:00, 725867.44it/s]\n",
      "100%|██████████| 600/600 [00:00<00:00, 645774.29it/s]\n",
      "100%|██████████| 600/600 [00:00<00:00, 1574832.54it/s]\n",
      "100%|██████████| 600/600 [00:00<00:00, 1367707.83it/s]\n",
      "100%|██████████| 600/600 [00:00<00:00, 1030541.52it/s]\n",
      "100%|██████████| 600/600 [00:00<00:00, 1425825.72it/s]\n",
      "100%|██████████| 600/600 [00:00<00:00, 931722.47it/s]\n",
      "100%|██████████| 600/600 [00:00<00:00, 786186.32it/s]\n",
      "100%|██████████| 600/600 [00:00<00:00, 1596816.24it/s]\n",
      "100%|██████████| 600/600 [00:00<00:00, 750994.45it/s]\n",
      "100%|██████████| 600/600 [00:00<00:00, 1413016.51it/s]\n",
      "100%|██████████| 600/600 [00:00<00:00, 1337185.12it/s]\n",
      "CPU times: user 24.2 s, sys: 1.75 s, total: 25.9 s\n",
      "Wall time: 12.9 s\n"
     ]
    }
   ],
   "source": [
    "%%time\n",
    "from sklearn import utils\n",
    "for epoch in range(50):\n",
    "    dbow.train(utils.shuffle([x for x in tqdm(train_dec.values)]), total_examples=len(train_dec.values), epochs=1)\n",
    "    dbow.alpha -= 0.002\n",
    "    dbow.min_alpha = dbow.alpha"
   ]
  },
  {
   "cell_type": "code",
   "execution_count": 99,
   "metadata": {},
   "outputs": [],
   "source": [
    "def vec_for_learning(model, tagged_docs):\n",
    "    sents = tagged_docs.values\n",
    "    targets, regressors = zip(*[(doc.tags[0], model.infer_vector(doc.words, steps=20)) for doc in sents])\n",
    "    return targets, regressors"
   ]
  },
  {
   "cell_type": "code",
   "execution_count": 100,
   "metadata": {},
   "outputs": [],
   "source": [
    "y_train, x_train = vec_for_learning(dbow, train_dec)\n",
    "y_test, x_test = vec_for_learning(dbow, test_dec)"
   ]
  },
  {
   "cell_type": "code",
   "execution_count": 77,
   "metadata": {},
   "outputs": [
    {
     "output_type": "execute_result",
     "data": {
      "text/plain": [
       "[('pretty', 0.6873006224632263),\n",
       " ('done', 0.6788420677185059),\n",
       " ('sub-par', 0.6762683391571045),\n",
       " ('almost', 0.6740660667419434),\n",
       " ('freshly', 0.6658573150634766),\n",
       " ('which', 0.6627627015113831),\n",
       " ('although', 0.6531490087509155),\n",
       " ('what', 0.6520970463752747),\n",
       " ('stupid', 0.6519065499305725),\n",
       " ('favor', 0.6517404317855835)]"
      ]
     },
     "metadata": {},
     "execution_count": 77
    }
   ],
   "source": [
    "dbow.most_similar('like')"
   ]
  },
  {
   "cell_type": "code",
   "execution_count": 101,
   "metadata": {},
   "outputs": [
    {
     "output_type": "execute_result",
     "data": {
      "text/plain": [
       "300"
      ]
     },
     "metadata": {},
     "execution_count": 101
    }
   ],
   "source": [
    "len(x_train[260])"
   ]
  },
  {
   "cell_type": "code",
   "execution_count": 102,
   "metadata": {
    "tags": []
   },
   "outputs": [
    {
     "output_type": "execute_result",
     "data": {
      "text/plain": [
       "pandas.core.series.Series"
      ]
     },
     "metadata": {},
     "execution_count": 102
    }
   ],
   "source": [
    "import numpy as np\n",
    "\n",
    "training_list = []\n",
    "for tag, text_val in zip(y_train, x_train):\n",
    "    listToStr = ' '.join([str(elem) for elem in text_val]) \n",
    "    training_list.append([tag,listToStr])\n",
    "\n",
    "testing_list = []\n",
    "for tag, text_val in zip(y_test, x_test):\n",
    "    listToStr = ' '.join([str(elem) for elem in text_val]) \n",
    "    testing_list.append([tag,listToStr])\n",
    "\n",
    "deceptive_training = pd.DataFrame(data=training_list, columns=[\"deceptive\",\"text\"])\n",
    "deceptive_testing = pd.DataFrame(data=testing_list, columns=[\"deceptive\",\"text\"])\n",
    "type(deceptive_training['text'])"
   ]
  },
  {
   "cell_type": "code",
   "execution_count": 49,
   "metadata": {},
   "outputs": [],
   "source": [
    "deceptive_training.to_csv(r'/home/zan/Desktop/dl_autoencoder/docs/autoencoder/deceptive_opinion_autoencoder/deceptive_training.csv', index=False, sep=',')\n",
    "deceptive_testing.to_csv(r'/home/zan/Desktop/dl_autoencoder/docs/autoencoder/deceptive_opinion_autoencoder/deceptive_testing.csv', index=False, sep=',')"
   ]
  },
  {
   "source": [
    "## Files without/partially preprocessing"
   ],
   "cell_type": "markdown",
   "metadata": {}
  },
  {
   "cell_type": "code",
   "execution_count": 103,
   "metadata": {},
   "outputs": [],
   "source": [
    "deceptive_training.to_csv(r'/home/zan/Desktop/dl_autoencoder/docs/autoencoder/deceptive_opinion_autoencoder/deceptive_training_sin_proc.csv', index=False, sep=',')\n",
    "deceptive_testing.to_csv(r'/home/zan/Desktop/dl_autoencoder/docs/autoencoder/deceptive_opinion_autoencoder/deceptive_testing_sin_proc.csv', index=False, sep=',')"
   ]
  },
  {
   "cell_type": "code",
   "execution_count": null,
   "metadata": {},
   "outputs": [],
   "source": []
  }
 ]
}