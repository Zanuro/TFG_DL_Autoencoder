{
 "metadata": {
  "language_info": {
   "codemirror_mode": {
    "name": "ipython",
    "version": 3
   },
   "file_extension": ".py",
   "mimetype": "text/x-python",
   "name": "python",
   "nbconvert_exporter": "python",
   "pygments_lexer": "ipython3",
   "version": "3.8.5-final"
  },
  "orig_nbformat": 2,
  "kernelspec": {
   "name": "python38564bit129eeb57289c44939b4863da13de07dc",
   "display_name": "Python 3.8.5 64-bit"
  }
 },
 "nbformat": 4,
 "nbformat_minor": 2,
 "cells": [
  {
   "cell_type": "code",
   "execution_count": null,
   "metadata": {},
   "outputs": [],
   "source": [
    "## Binary classification \n",
    "## Imdb -- 50.000 registros divididos en 50% training y 50% testing, este dataset ya viene con la libreria de keras\n",
    "\n",
    "##El dataset ya viene con las sequencias de palabras(opiniones) transformadas en sequencias de numeros\n",
    "\n",
    "from keras.datasets import imdb\n",
    "\n",
    "(train_data, train_labels), (test_data, test_labels) = imdb.load_data(num_words=10000)\n",
    "\n",
    "## El termino num_words solo mantiene los 10.000 primeras palabras evitando las palabras raras.\n",
    "#Los labels tienen valor 0 para negativo y 1 para positivo.\n",
    "\n",
    "print(train_data[0])\n",
    "print(train_labels[0])\n",
    "\n",
    "max([max(sequence) for sequence in train_data]) ## Max index mapped to a word\n"
   ]
  },
  {
   "cell_type": "code",
   "execution_count": null,
   "metadata": {
    "tags": []
   },
   "outputs": [],
   "source": [
    "## Para decodificar las opiniones\n",
    "\n",
    "word_ix = imdb.get_word_index()\n",
    "\n",
    "reverse_word_ix = dict ( [(value, key) for(key,value) in word_ix.items()])\n",
    "\n",
    "### Las palabras denotadas como: ' ' , caracter extrano, o comienzo de seq seran sustituidas por '!'.\n",
    "dec_review = ' '.join( [reverse_word_ix.get(x - 3, '!') for x in train_data[1]])\n",
    "\n",
    "print(dec_review)"
   ]
  },
  {
   "cell_type": "code",
   "execution_count": null,
   "metadata": {},
   "outputs": [],
   "source": [
    "## Vamos a convertir listas en tensores, vamos a convertir las listas en vectores de dimension 10.000 con valores de 0's y 1's en base al ix que tengan.\n",
    "import numpy as np\n",
    "\n",
    "def vectorize_sequences(sequences, dimension=10000):\n",
    "    results = np.zeros((len(sequences), dimension))\n",
    "    for i, seq in enumerate(sequences):\n",
    "        results[i, seq] = 1.0\n",
    "    return results\n",
    "\n",
    "x_train = vectorize_sequences(train_data)\n",
    "x_test = vectorize_sequences(test_data)\n"
   ]
  },
  {
   "cell_type": "code",
   "execution_count": null,
   "metadata": {},
   "outputs": [],
   "source": [
    "## Vectorizar y normalizar los datasets\n",
    "\n",
    "y_train = np.asarray(train_labels).astype('float32')\n",
    "y_test = np.asarray(test_labels).astype('float32')"
   ]
  },
  {
   "cell_type": "code",
   "execution_count": null,
   "metadata": {},
   "outputs": [],
   "source": [
    "## Vamos a proceder a crear el modelo con tres capas\n",
    "\n",
    "from keras import models\n",
    "from keras import layers\n",
    "\n",
    "model = models.Sequential()\n",
    "model.add(layers.Dense(64, activation='relu', input_shape=(10000,)))\n",
    "model.add(layers.Dense(32, activation='relu'))\n",
    "model.add(layers.Dense(16, activation='relu'))\n",
    "model.add(layers.Dense(1, activation='sigmoid'))"
   ]
  },
  {
   "cell_type": "code",
   "execution_count": null,
   "metadata": {},
   "outputs": [],
   "source": [
    "model.compile(optimizer='rmsprop',\n",
    "              loss='mse',\n",
    "              metrics=['accuracy'])"
   ]
  },
  {
   "cell_type": "code",
   "execution_count": null,
   "metadata": {},
   "outputs": [],
   "source": [
    "## para validar nuestro entreno cogemos una muestra de 10000 datos \n",
    "\n",
    "x_val = x_train[:10000]\n",
    "partial_x_train = x_train[10000:]\n",
    "\n",
    "y_val = y_train[:10000]\n",
    "partial_y_train = y_train[10000:]\n",
    "\n",
    "history = model.fit(partial_x_train,\n",
    "                    partial_y_train,\n",
    "                    epochs=20,\n",
    "                    batch_size=512,\n",
    "                    validation_data=(x_val, y_val))"
   ]
  },
  {
   "cell_type": "code",
   "execution_count": null,
   "metadata": {},
   "outputs": [],
   "source": [
    "## El objeto history contendra informacion del entreno y por lo tanto podremos mostrar el loss segun las diferentes iteraciones\n",
    "import matplotlib.pyplot as plt\n",
    "\n",
    "history_dict = history.history\n",
    "loss_val = history_dict['loss']\n",
    "\n",
    "val_loss_val = history_dict['val_loss']\n",
    "\n",
    "epochs = range(1, 20 + 1)\n",
    "\n",
    "plt.plot(epochs, loss_val, 'bo', label='training loss')\n",
    "plt.plot(epochs, val_loss_val, 'b', label='validation loss')\n",
    "\n",
    "plt.title('Training and validation loss')\n",
    "plt.xlabel('epochs')\n",
    "plt.ylabel('Loss')\n",
    "\n",
    "plt.legend()\n",
    "plt.show()"
   ]
  },
  {
   "cell_type": "code",
   "execution_count": null,
   "metadata": {},
   "outputs": [],
   "source": [
    "## Para mostrar el accuracy del entreno y la validacion\n",
    "acc_val = history_dict['accuracy']\n",
    "val_acc_values = history_dict['val_accuracy']\n",
    "\n",
    "plt.plot(epochs, acc_val, 'bo', label='Training acc')\n",
    "plt.plot(epochs, val_acc_values, 'b', label='Validation acc')\n",
    "\n",
    "plt.title('Training and validation accuracy')\n",
    "plt.xlabel('epochs')\n",
    "plt.ylabel('Loss')\n",
    "\n",
    "plt.legend()\n",
    "plt.show()"
   ]
  },
  {
   "cell_type": "code",
   "execution_count": null,
   "metadata": {},
   "outputs": [],
   "source": [
    "## Como se puede ver la accuracy aumenta segun las interaciones pero la loss tanto de entreno como de validacion ocurre en la cuarta iteracion dandose un claro ejemplo de overfitting. Por lo tanto lo mejor seria parar despues de 4 iteraciones\n",
    "\n",
    "model = models.Sequential()\n",
    "model.add(layers.Dense(16, activation='relu', input_shape=(10000,)))\n",
    "model.add(layers.Dense(16, activation='relu'))\n",
    "model.add(layers.Dense(1, activation='sigmoid'))\n",
    "\n",
    "\n",
    "model.compile(optimizer='rmsprop',\n",
    "              loss='binary_crossentropy',\n",
    "              metrics=['accuracy'])\n",
    "\n",
    "model.fit(x_train, y_train, epochs=4, batch_size=512)\n",
    "results = model.evaluate(x_test, y_test)\n"
   ]
  },
  {
   "cell_type": "code",
   "execution_count": null,
   "metadata": {},
   "outputs": [],
   "source": [
    " ## Para predecir los valores\n",
    " model.predict(x_test)"
   ]
  },
  {
   "cell_type": "code",
   "execution_count": 18,
   "metadata": {},
   "outputs": [
    {
     "output_type": "stream",
     "name": "stdout",
     "text": [
      "8982\n2246\n"
     ]
    }
   ],
   "source": [
    "## Otro ejemplo seria la clasificacion multi-clase de noticias.\n",
    "## Se utilizara para este proposito el dataset de Reuters habiendo 46 clases distintas.\n",
    "\n",
    "from keras.datasets import reuters\n",
    "\n",
    "(train_data, train_label),(test_data, test_label) = reuters.load_data(num_words = 10000)\n",
    "\n",
    "print(len(train_data))\n",
    "print(len(test_data))"
   ]
  },
  {
   "cell_type": "code",
   "execution_count": 19,
   "metadata": {},
   "outputs": [
    {
     "output_type": "stream",
     "name": "stdout",
     "text": [
      "! the u s agriculture department estimated canada's 1986 87 wheat crop at 31 85 mln tonnes vs 31 85 mln tonnes last month it estimated 1985 86 output at 24 25 mln tonnes vs 24 25 mln last month canadian 1986 87 coarse grain production is projected at 27 62 mln tonnes vs 27 62 mln tonnes last month production in 1985 86 is estimated at 24 95 mln tonnes vs 24 95 mln last month canadian wheat exports in 1986 87 are forecast at 19 00 mln tonnes vs 18 00 mln tonnes last month exports in 1985 86 are estimated at 17 71 mln tonnes vs 17 72 mln last month reuter 3\n"
     ]
    }
   ],
   "source": [
    "## Para decodificar las noticias\n",
    "\n",
    "word_ix = reuters.get_word_index()\n",
    "\n",
    "reverse_word_ix = dict([value,key] for (key,value) in word_ix.items())\n",
    "\n",
    "decoded_news = ' '.join([reverse_word_ix.get(w - 3, '!') for w in train_data[5]])\n",
    "\n",
    "print(decoded_news)"
   ]
  },
  {
   "cell_type": "code",
   "execution_count": 21,
   "metadata": {},
   "outputs": [],
   "source": [
    "## Vectorizamos y normalizamos el dataset\n",
    "\n",
    "import numpy as np\n",
    "\n",
    "def vectorize_seqs(sequences, dimension=10000):\n",
    "    results = np.zeros((len(sequences), dimension))\n",
    "    for ix, seq in enumerate(sequences):\n",
    "        results[ix,seq] = 1.\n",
    "    return results\n",
    "\n",
    "x_train = vectorize_seqs(train_data)\n",
    "x_test = vectorize_seqs(test_data)\n"
   ]
  },
  {
   "cell_type": "code",
   "execution_count": 31,
   "metadata": {},
   "outputs": [],
   "source": [
    "## Para vectorizar los labels ya que se corresponde a un int mapeado directamente a un tema podemos utilizar un categorial- encoding. Es decir un vector de todo 0 excepto 1 en el lugar del indice.\n",
    "\n",
    "\"\"\"\n",
    "def lab_to_one_hot_enc(labels, dimension=46):\n",
    "    results = np.zeros((len(labels),dimension))\n",
    "    for ix, seq in enumerate(sequences):\n",
    "        results[ix, seq] = 1.\n",
    "    return results\n",
    "\n",
    "y_train = vectorize_seqs(train_label)\n",
    "y_test = vectorize_seqs(test_label)\n",
    "\"\"\"\n",
    "\n",
    "from keras.utils.np_utils import to_categorical\n",
    "\n",
    "one_hot_train_lab = to_categorical(train_label)\n",
    "one_hot_test_lab = to_categorical(test_label)"
   ]
  },
  {
   "cell_type": "code",
   "execution_count": 32,
   "metadata": {},
   "outputs": [],
   "source": [
    "from keras import models\n",
    "from keras import layers\n",
    "\n",
    "model = models.Sequential()\n",
    "model.add(layers.Dense(64, activation='relu', input_shape=(10000,)))\n",
    "model.add(layers.Dense(64, activation='relu'))\n",
    "model.add(layers.Dense(46, activation='softmax'))\n",
    "\n",
    "## Como output tenemos puesto 46 nodos es decir va a ser un vector con el indice correspondiente puesto a 1, utilizamos el metodo softmax para hacer una distribucion de la probabilidad"
   ]
  },
  {
   "cell_type": "code",
   "execution_count": 33,
   "metadata": {},
   "outputs": [],
   "source": [
    "model.compile(optimizer='rmsprop',\n",
    "              loss='categorical_crossentropy',\n",
    "              metrics=['accuracy'])\n",
    "              "
   ]
  },
  {
   "cell_type": "code",
   "execution_count": 35,
   "metadata": {},
   "outputs": [],
   "source": [
    "## Validando el entreno con 1000 datos\n",
    "\n",
    "x_val = x_train[:1000]\n",
    "partial_x_train = x_train[1000:]\n",
    "\n",
    "y_val = one_hot_train_lab[:1000]\n",
    "partial_y_train = one_hot_train_lab[1000:]"
   ]
  },
  {
   "cell_type": "code",
   "execution_count": 36,
   "metadata": {},
   "outputs": [
    {
     "output_type": "stream",
     "name": "stdout",
     "text": [
      "Epoch 1/20\n",
      "16/16 [==============================] - 3s 196ms/step - loss: 2.8647 - accuracy: 0.4747 - val_loss: 1.8767 - val_accuracy: 0.6390\n",
      "Epoch 2/20\n",
      "16/16 [==============================] - 1s 94ms/step - loss: 1.5023 - accuracy: 0.7005 - val_loss: 1.3724 - val_accuracy: 0.7070\n",
      "Epoch 3/20\n",
      "16/16 [==============================] - 0s 25ms/step - loss: 1.0984 - accuracy: 0.7640 - val_loss: 1.1756 - val_accuracy: 0.7510\n",
      "Epoch 4/20\n",
      "16/16 [==============================] - 2s 118ms/step - loss: 0.8615 - accuracy: 0.8152 - val_loss: 1.0671 - val_accuracy: 0.7740\n",
      "Epoch 5/20\n",
      "16/16 [==============================] - 0s 24ms/step - loss: 0.6861 - accuracy: 0.8561 - val_loss: 0.9741 - val_accuracy: 0.7940\n",
      "Epoch 6/20\n",
      "16/16 [==============================] - 0s 26ms/step - loss: 0.5488 - accuracy: 0.8825 - val_loss: 0.9563 - val_accuracy: 0.7990\n",
      "Epoch 7/20\n",
      "16/16 [==============================] - 0s 27ms/step - loss: 0.4412 - accuracy: 0.9065 - val_loss: 0.8977 - val_accuracy: 0.8110\n",
      "Epoch 8/20\n",
      "16/16 [==============================] - 1s 44ms/step - loss: 0.3566 - accuracy: 0.9245 - val_loss: 0.8982 - val_accuracy: 0.8140\n",
      "Epoch 9/20\n",
      "16/16 [==============================] - 0s 26ms/step - loss: 0.2952 - accuracy: 0.9381 - val_loss: 0.8869 - val_accuracy: 0.8200\n",
      "Epoch 10/20\n",
      "16/16 [==============================] - 0s 26ms/step - loss: 0.2442 - accuracy: 0.9451 - val_loss: 0.9032 - val_accuracy: 0.8130\n",
      "Epoch 11/20\n",
      "16/16 [==============================] - 0s 27ms/step - loss: 0.2096 - accuracy: 0.9484 - val_loss: 0.9031 - val_accuracy: 0.8220\n",
      "Epoch 12/20\n",
      "16/16 [==============================] - 0s 26ms/step - loss: 0.1849 - accuracy: 0.9510 - val_loss: 0.9427 - val_accuracy: 0.8120\n",
      "Epoch 13/20\n",
      "16/16 [==============================] - 0s 27ms/step - loss: 0.1646 - accuracy: 0.9546 - val_loss: 0.9571 - val_accuracy: 0.8120\n",
      "Epoch 14/20\n",
      "16/16 [==============================] - 0s 27ms/step - loss: 0.1490 - accuracy: 0.9549 - val_loss: 0.9948 - val_accuracy: 0.8120\n",
      "Epoch 15/20\n",
      "16/16 [==============================] - 0s 27ms/step - loss: 0.1400 - accuracy: 0.9560 - val_loss: 0.9966 - val_accuracy: 0.8160\n",
      "Epoch 16/20\n",
      "16/16 [==============================] - 0s 28ms/step - loss: 0.1324 - accuracy: 0.9558 - val_loss: 0.9784 - val_accuracy: 0.8140\n",
      "Epoch 17/20\n",
      "16/16 [==============================] - 0s 27ms/step - loss: 0.1225 - accuracy: 0.9567 - val_loss: 1.0251 - val_accuracy: 0.8060\n",
      "Epoch 18/20\n",
      "16/16 [==============================] - 0s 28ms/step - loss: 0.1194 - accuracy: 0.9564 - val_loss: 1.0774 - val_accuracy: 0.7960\n",
      "Epoch 19/20\n",
      "16/16 [==============================] - 0s 27ms/step - loss: 0.1142 - accuracy: 0.9572 - val_loss: 1.0309 - val_accuracy: 0.8130\n",
      "Epoch 20/20\n",
      "16/16 [==============================] - 0s 25ms/step - loss: 0.1111 - accuracy: 0.9577 - val_loss: 1.0513 - val_accuracy: 0.8120\n"
     ]
    }
   ],
   "source": [
    "history = model.fit(partial_x_train, \n",
    "                    partial_y_train,\n",
    "                    epochs = 20,\n",
    "                    batch_size=512,\n",
    "                    validation_data=(x_val,y_val))\n"
   ]
  },
  {
   "cell_type": "code",
   "execution_count": 37,
   "metadata": {},
   "outputs": [
    {
     "output_type": "display_data",
     "data": {
      "text/plain": "<Figure size 432x288 with 1 Axes>",
      "image/png": "[encoded data removed]"
     },
     "metadata": {
      "needs_background": "light"
     }
    }
   ],
   "source": [
    "import matplotlib.pyplot as plt\n",
    "\n",
    "loss = history.history['loss']\n",
    "val_loss = history.history['val_loss']\n",
    "\n",
    "epochs = range(1, 21)\n",
    "\n",
    "plt.plot(epochs, loss, 'bo', label='training loss')\n",
    "plt.plot(epochs, val_loss, 'b', label='validation loss')\n",
    "plt.title('Training and validation loss')\n",
    "plt.xlabel('epochs')\n",
    "plt.ylabel('Loss')\n",
    "plt.legend()\n",
    "plt.show()"
   ]
  },
  {
   "cell_type": "code",
   "execution_count": 38,
   "metadata": {},
   "outputs": [
    {
     "output_type": "display_data",
     "data": {
      "text/plain": "<Figure size 432x288 with 1 Axes>",
      "image/png": "[encoded data removed]"
     },
     "metadata": {
      "needs_background": "light"
     }
    }
   ],
   "source": [
    "acc = history.history['accuracy']\n",
    "val_acc = history.history['val_accuracy']\n",
    "\n",
    "plt.plot(epochs, acc, 'bo', label='training acc')\n",
    "plt.plot(epochs, val_acc, 'b', label='validation acc')\n",
    "\n",
    "plt.title('Training and validation accuracy')\n",
    "plt.xlabel('epochs')\n",
    "plt.ylabel('Loss')\n",
    "plt.legend()\n",
    "plt.show()"
   ]
  },
  {
   "cell_type": "code",
   "execution_count": 39,
   "metadata": {},
   "outputs": [
    {
     "output_type": "stream",
     "name": "stdout",
     "text": [
      "(46,)\n0.9999999\n3\n"
     ]
    }
   ],
   "source": [
    "## Para generar predicciones sobre nuevos datos\n",
    "\n",
    "predictions = model.predict(x_test)\n",
    "\n",
    "print(predictions[0].shape)\n",
    "print(np.sum(predictions[0])) ## La suma de la distribucion deberia siempre dar 1.0\n",
    "print(np.argmax(predictions[0])) ## Y el idx del topico mas probable \n"
   ]
  },
  {
   "cell_type": "code",
   "execution_count": null,
   "metadata": {},
   "outputs": [],
   "source": [
    "###  En caso de elegir un modelo distinto con menos nodos en la capa intermediaria(menos de 46), puede resultar en un problema ya que hay menos nodos para representar la informacion y se daria un bottleneck. Al usar por ejemplo 4 nodos en la segunda capa daria un accuracy de 71%.\n"
   ]
  },
  {
   "cell_type": "code",
   "execution_count": 77,
   "metadata": {},
   "outputs": [
    {
     "output_type": "stream",
     "name": "stdout",
     "text": [
      "(404, 13)\n(102, 13)\n"
     ]
    }
   ],
   "source": [
    "## Problema de regresion -- para predecir un valor continuo en vez de uno concreto.\n",
    "## Para ello utilizariamos el dataset de boston housing para estimar el valor de una casa en Boston segun los impuestos, porcentaje de delincuencia,etc..\n",
    "\n",
    "from keras.datasets import boston_housing\n",
    "\n",
    "(train_data, train_targets), (test_data, test_targets) = boston_housing.load_data()\n",
    "\n",
    "print(train_data.shape)\n",
    "print(test_data.shape)\n"
   ]
  },
  {
   "cell_type": "code",
   "execution_count": 79,
   "metadata": {},
   "outputs": [],
   "source": [
    "## As the data has different representation we will need to convert it to a heterogenous data. With each feature we will extract the mean of the feature and divide it by their std.\n",
    "\n",
    "mean = train_data.mean(axis=0)\n",
    "std = train_data.std(axis=0)\n",
    "\n",
    "train_data -= mean\n",
    "train_data /= std\n",
    "\n",
    "test_data -= mean\n",
    "test_data /= std\n"
   ]
  },
  {
   "cell_type": "code",
   "execution_count": 80,
   "metadata": {},
   "outputs": [],
   "source": [
    "## Red pequena con solo dos capas\n",
    "from keras import layers\n",
    "from keras import models\n",
    "\n",
    "def build_model():\n",
    "    model = models.Sequential()\n",
    "    model.add(layers.Dense(64, activation='relu',\n",
    "        input_shape=(train_data.shape[1],)))\n",
    "\n",
    "    model.add(layers.Dense(64, activation='relu'))\n",
    "    model.add(layers.Dense(1))\n",
    "    model.compile(optimizer='rmsprop', loss='mse',                metrics=['mae'])\n",
    "\n",
    "    return model\n",
    "### No es necesaria una funcion de activacion ya que es una capa lineal ya que con esto obtendrias un valor entre 0 y 1 y nosotros queremos un valor continuo\n"
   ]
  },
  {
   "cell_type": "code",
   "execution_count": 83,
   "metadata": {},
   "outputs": [
    {
     "output_type": "stream",
     "name": "stdout",
     "text": [
      "Fold # 0\n",
      "Fold # 1\n",
      "Fold # 2\n",
      "Fold # 3\n"
     ]
    }
   ],
   "source": [
    "## Vamos a intentar dividir el dataset en uno de entreno y otro de validacion pero al tener un dataset pequeno es posible que haya una varianza alta para el dataset de validacion y por lo tanto no seria factible.\n",
    "##Para ello se utilizara k-fold cross-validation dividiendo el dataset en K particiones, entrenando el modelo con K-1 particiones y validandolo con el que queda.\n",
    "\n",
    "import numpy as np\n",
    "\n",
    "K = 4\n",
    "\n",
    "num_val_samples = len(train_data) // K\n",
    "num_epochs = 500\n",
    "all_mae_histories = []\n",
    "\n",
    "\n",
    "for i in range(K):\n",
    "    print('Fold #', i)\n",
    "    val_data = train_data[i * num_val_samples: (i + 1) *        num_val_samples]\n",
    "\n",
    "    val_targets = train_targets[i * num_val_samples: (i +       1) * num_val_samples]\n",
    "\n",
    "    if i == 0:\n",
    "        partial_train_data = train_data[num_val_samples:]\n",
    "        partial_train_targets = train_targets                       [num_val_samples:]\n",
    "    else:\n",
    "\n",
    "        partial_train_data = np.concatenate(\n",
    "            [train_data[:i * num_val_samples],\n",
    "                train_data[(i + 1) * num_val_samples:]],                  axis=0)\n",
    "        partial_train_targets = np.concatenate(\n",
    "            [train_targets[:i * num_val_samples],\n",
    "                train_targets[(i + 1) * num_val_samples:]]                , axis=0)\n",
    "\n",
    "    model = build_model()\n",
    "    history = model.fit(partial_train_data,                     partial_train_targets, validation_data=(val_data,         val_targets), epochs=num_epochs,batch_size=1,             verbose = 0)\n",
    "\n",
    "    mae_history = history.history['val_mae']\n",
    "\n",
    "    all_mae_histories.append(mae_history)\n",
    "\n"
   ]
  },
  {
   "cell_type": "code",
   "execution_count": 84,
   "metadata": {},
   "outputs": [],
   "source": [
    "## Calcular la media mae para todos los folds de cada iteracion\n",
    "average_mae_history = [ np.mean([x[i] for x in all_mae_histories]) for i in range(num_epochs)]\n",
    "\n"
   ]
  },
  {
   "cell_type": "code",
   "execution_count": 86,
   "metadata": {},
   "outputs": [
    {
     "output_type": "display_data",
     "data": {
      "text/plain": "<Figure size 432x288 with 1 Axes>",
      "image/png": "[encoded data removed]"
     },
     "metadata": {
      "needs_background": "light"
     }
    }
   ],
   "source": [
    "## Mostrar los resultados de la validacion segue el mae\n",
    "\n",
    "import matplotlib.pyplot as plt\n",
    "\n",
    "plt.plot(range(1, len(average_mae_history) + 1), average_mae_history)\n",
    "\n",
    "plt.xlabel('epochs')\n",
    "plt.ylabel('validation mae')\n",
    "plt.show()\n"
   ]
  },
  {
   "cell_type": "code",
   "execution_count": 88,
   "metadata": {},
   "outputs": [
    {
     "output_type": "display_data",
     "data": {
      "text/plain": "<Figure size 432x288 with 1 Axes>",
      "image/png": "[encoded data removed]"
     },
     "metadata": {
      "needs_background": "light"
     }
    }
   ],
   "source": [
    "##Vamos a mejorar el plot ya que es un poco complicado verlo dada las escalas y las altas varianzas.\n",
    "## Lo que hacemos es omitir los 10 primeros puntos que son a una escala distinta y sustituimos estos puntos por la media de los puntos anteriores.\n",
    "\n",
    "def smooth_curve(points, factor=0.9):\n",
    "    smoothed_points = []\n",
    "    for point in points:\n",
    "        if smoothed_points:\n",
    "            previous = smoothed_points[-1]\n",
    "            smoothed_points.append(previous * factor + point * (1 - factor))\n",
    "        else:\n",
    "            smoothed_points.append(point)\n",
    "    return smoothed_points\n",
    "smooth_mae_history = smooth_curve(average_mae_history[10:])\n",
    "plt.plot(range(1, len(smooth_mae_history) + 1),smooth_mae_history)\n",
    "plt.xlabel('epochs')\n",
    "plt.ylabel('validation mae')\n",
    "plt.show()"
   ]
  },
  {
   "cell_type": "code",
   "execution_count": null,
   "metadata": {},
   "outputs": [],
   "source": [
    "## Vemos que nuestro mae de validacion no mejora depues de los 110-120 epochs cuando empieza a hacer over-fitting.\n",
    "## Vamos a modificar el modelo con ese numero de iteraciones y modificando otros parametros.\n",
    "\n",
    "model = build_model()\n",
    "model.fit(train_data, train_targets, epochs = 120, batch_size = 16, verbose = 0)\n",
    "test_mse_score, test_mae_score = model.evaluate(test_data,test_targets)"
   ]
  }
 ]
}